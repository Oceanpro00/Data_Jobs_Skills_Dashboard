{
 "cells": [
  {
   "cell_type": "code",
   "execution_count": 20,
   "metadata": {},
   "outputs": [],
   "source": [
    "# Insert Dependencies\n",
    "import json\n",
    "from pymongo import MongoClient"
   ]
  },
  {
   "cell_type": "markdown",
   "metadata": {},
   "source": [
    "### **Connect to MongoDB**"
   ]
  },
  {
   "cell_type": "code",
   "execution_count": 21,
   "metadata": {},
   "outputs": [],
   "source": [
    "# Connect to MongoDB\n",
    "# Update if using a remote MongoDB\n",
    "client = MongoClient(\"mongodb://localhost:27017/\") "
   ]
  },
  {
   "cell_type": "markdown",
   "metadata": {},
   "source": [
    "### **Create/ Connect to Database and Collection**"
   ]
  },
  {
   "cell_type": "code",
   "execution_count": 22,
   "metadata": {},
   "outputs": [],
   "source": [
    "# Create/Connect to the database\n",
    "db = client[\"Cleaned_Job_Postings\"]"
   ]
  },
  {
   "cell_type": "markdown",
   "metadata": {},
   "source": [
    "#### **Connect to Collection and Insert the JSON into MongoDB**"
   ]
  },
  {
   "cell_type": "code",
   "execution_count": 23,
   "metadata": {},
   "outputs": [],
   "source": [
    "# Load the JSON file into a Python object\n",
    "files = [\"title_classifications\", \"keyword_classifications\", \"job_postings\"]\n",
    "\n",
    "for file in files:\n",
    "    \n",
    "    # Create/Connect to the collection then drop it once\n",
    "    collection = db[file]\n",
    "    collection.drop()\n",
    "    \n",
    "    with open(\"../data/\" + file + \".json\") as f:\n",
    "        file_data = json.load(f)\n",
    "    \n",
    "    # Insert data into MongoDB\n",
    "    if isinstance(file_data, list):  # If JSON is an array\n",
    "        collection.insert_many(file_data)\n",
    "    else:  # If JSON is a single document\n",
    "        collection.insert_one(file_data)"
   ]
  }
 ],
 "metadata": {
  "kernelspec": {
   "display_name": "dev",
   "language": "python",
   "name": "python3"
  },
  "language_info": {
   "codemirror_mode": {
    "name": "ipython",
    "version": 3
   },
   "file_extension": ".py",
   "mimetype": "text/x-python",
   "name": "python",
   "nbconvert_exporter": "python",
   "pygments_lexer": "ipython3",
   "version": "3.10.15"
  }
 },
 "nbformat": 4,
 "nbformat_minor": 2
}
