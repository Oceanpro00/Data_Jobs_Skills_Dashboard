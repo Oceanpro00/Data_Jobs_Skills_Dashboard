{
 "cells": [
  {
   "cell_type": "code",
   "execution_count": 1,
   "metadata": {},
   "outputs": [],
   "source": [
    "# Importing Dependencies\n",
    "import pandas as pd\n",
    "import re\n",
    "import matplotlib.pyplot as plt"
   ]
  },
  {
   "cell_type": "markdown",
   "metadata": {},
   "source": [
    "# **EDA Analysis**\n",
    "## Ticket 1.1: Continued\n",
    "### Data Ingestion\n"
   ]
  },
  {
   "cell_type": "code",
   "execution_count": 2,
   "metadata": {},
   "outputs": [
    {
     "data": {
      "text/plain": [
       "'Job Postings Dataset:'"
      ]
     },
     "metadata": {},
     "output_type": "display_data"
    },
    {
     "data": {
      "application/vnd.microsoft.datawrangler.viewer.v0+json": {
       "columns": [
        {
         "name": "index",
         "rawType": "int64",
         "type": "integer"
        },
        {
         "name": "job_link",
         "rawType": "object",
         "type": "string"
        },
        {
         "name": "last_processed_time",
         "rawType": "object",
         "type": "string"
        },
        {
         "name": "last_status",
         "rawType": "object",
         "type": "string"
        },
        {
         "name": "got_summary",
         "rawType": "object",
         "type": "string"
        },
        {
         "name": "got_ner",
         "rawType": "object",
         "type": "string"
        },
        {
         "name": "is_being_worked",
         "rawType": "object",
         "type": "string"
        },
        {
         "name": "job_title",
         "rawType": "object",
         "type": "string"
        },
        {
         "name": "company",
         "rawType": "object",
         "type": "string"
        },
        {
         "name": "job_location",
         "rawType": "object",
         "type": "string"
        },
        {
         "name": "first_seen",
         "rawType": "object",
         "type": "string"
        },
        {
         "name": "search_city",
         "rawType": "object",
         "type": "string"
        },
        {
         "name": "search_country",
         "rawType": "object",
         "type": "string"
        },
        {
         "name": "search_position",
         "rawType": "object",
         "type": "string"
        },
        {
         "name": "job_level",
         "rawType": "object",
         "type": "string"
        },
        {
         "name": "job_type",
         "rawType": "object",
         "type": "string"
        }
       ],
       "conversionMethod": "pd.DataFrame",
       "ref": "63f96164-a381-46a0-a616-27334eb1dab4",
       "rows": [
        [
         "0",
         "https://www.linkedin.com/jobs/view/senior-machine-learning-engineer-at-jobs-for-humanity-3804053819",
         "2024-01-21 08:08:48.031964+00",
         "Finished NER",
         "t",
         "t",
         "f",
         "Senior Machine Learning Engineer",
         "Jobs for Humanity",
         "New Haven, CT",
         "2024-01-14",
         "East Haven",
         "United States",
         "Agricultural-Research Engineer",
         "Mid senior",
         "Onsite"
        ],
        [
         "1",
         "https://www.linkedin.com/jobs/view/principal-software-engineer-ml-accelerators-at-aurora-3703455068",
         "2024-01-20 04:02:12.331406+00",
         "Finished NER",
         "t",
         "t",
         "f",
         "Principal Software Engineer, ML Accelerators",
         "Aurora",
         "San Francisco, CA",
         "2024-01-14",
         "El Cerrito",
         "United States",
         "Set-Key Driver",
         "Mid senior",
         "Onsite"
        ],
        [
         "2",
         "https://www.linkedin.com/jobs/view/senior-etl-data-warehouse-specialist-at-adame-services-llc-3765023888",
         "2024-01-21 08:08:31.941595+00",
         "Finished NER",
         "t",
         "t",
         "f",
         "Senior ETL Data Warehouse Specialist",
         "Adame Services LLC",
         "New York, NY",
         "2024-01-14",
         "Middletown",
         "United States",
         "Technical Support Specialist",
         "Associate",
         "Onsite"
        ],
        [
         "3",
         "https://www.linkedin.com/jobs/view/senior-data-warehouse-developer-architect-at-morph-enterprise-3794602483",
         "2024-01-20 15:30:55.796572+00",
         "Finished NER",
         "t",
         "t",
         "f",
         "Senior Data Warehouse Developer / Architect",
         "Morph Enterprise",
         "Harrisburg, PA",
         "2024-01-12",
         "Lebanon",
         "United States",
         "Architect",
         "Mid senior",
         "Onsite"
        ],
        [
         "4",
         "https://www.linkedin.com/jobs/view/lead-data-engineer-at-dice-3805948138",
         "2024-01-21 08:08:58.312124+00",
         "Finished NER",
         "t",
         "t",
         "f",
         "Lead Data Engineer",
         "Dice",
         "Plano, TX",
         "2024-01-14",
         "McKinney",
         "United States",
         "Maintenance Data Analyst",
         "Mid senior",
         "Onsite"
        ]
       ],
       "shape": {
        "columns": 15,
        "rows": 5
       }
      },
      "text/html": [
       "<div>\n",
       "<style scoped>\n",
       "    .dataframe tbody tr th:only-of-type {\n",
       "        vertical-align: middle;\n",
       "    }\n",
       "\n",
       "    .dataframe tbody tr th {\n",
       "        vertical-align: top;\n",
       "    }\n",
       "\n",
       "    .dataframe thead th {\n",
       "        text-align: right;\n",
       "    }\n",
       "</style>\n",
       "<table border=\"1\" class=\"dataframe\">\n",
       "  <thead>\n",
       "    <tr style=\"text-align: right;\">\n",
       "      <th></th>\n",
       "      <th>job_link</th>\n",
       "      <th>last_processed_time</th>\n",
       "      <th>last_status</th>\n",
       "      <th>got_summary</th>\n",
       "      <th>got_ner</th>\n",
       "      <th>is_being_worked</th>\n",
       "      <th>job_title</th>\n",
       "      <th>company</th>\n",
       "      <th>job_location</th>\n",
       "      <th>first_seen</th>\n",
       "      <th>search_city</th>\n",
       "      <th>search_country</th>\n",
       "      <th>search_position</th>\n",
       "      <th>job_level</th>\n",
       "      <th>job_type</th>\n",
       "    </tr>\n",
       "  </thead>\n",
       "  <tbody>\n",
       "    <tr>\n",
       "      <th>0</th>\n",
       "      <td>https://www.linkedin.com/jobs/view/senior-mach...</td>\n",
       "      <td>2024-01-21 08:08:48.031964+00</td>\n",
       "      <td>Finished NER</td>\n",
       "      <td>t</td>\n",
       "      <td>t</td>\n",
       "      <td>f</td>\n",
       "      <td>Senior Machine Learning Engineer</td>\n",
       "      <td>Jobs for Humanity</td>\n",
       "      <td>New Haven, CT</td>\n",
       "      <td>2024-01-14</td>\n",
       "      <td>East Haven</td>\n",
       "      <td>United States</td>\n",
       "      <td>Agricultural-Research Engineer</td>\n",
       "      <td>Mid senior</td>\n",
       "      <td>Onsite</td>\n",
       "    </tr>\n",
       "    <tr>\n",
       "      <th>1</th>\n",
       "      <td>https://www.linkedin.com/jobs/view/principal-s...</td>\n",
       "      <td>2024-01-20 04:02:12.331406+00</td>\n",
       "      <td>Finished NER</td>\n",
       "      <td>t</td>\n",
       "      <td>t</td>\n",
       "      <td>f</td>\n",
       "      <td>Principal Software Engineer, ML Accelerators</td>\n",
       "      <td>Aurora</td>\n",
       "      <td>San Francisco, CA</td>\n",
       "      <td>2024-01-14</td>\n",
       "      <td>El Cerrito</td>\n",
       "      <td>United States</td>\n",
       "      <td>Set-Key Driver</td>\n",
       "      <td>Mid senior</td>\n",
       "      <td>Onsite</td>\n",
       "    </tr>\n",
       "    <tr>\n",
       "      <th>2</th>\n",
       "      <td>https://www.linkedin.com/jobs/view/senior-etl-...</td>\n",
       "      <td>2024-01-21 08:08:31.941595+00</td>\n",
       "      <td>Finished NER</td>\n",
       "      <td>t</td>\n",
       "      <td>t</td>\n",
       "      <td>f</td>\n",
       "      <td>Senior ETL Data Warehouse Specialist</td>\n",
       "      <td>Adame Services LLC</td>\n",
       "      <td>New York, NY</td>\n",
       "      <td>2024-01-14</td>\n",
       "      <td>Middletown</td>\n",
       "      <td>United States</td>\n",
       "      <td>Technical Support Specialist</td>\n",
       "      <td>Associate</td>\n",
       "      <td>Onsite</td>\n",
       "    </tr>\n",
       "    <tr>\n",
       "      <th>3</th>\n",
       "      <td>https://www.linkedin.com/jobs/view/senior-data...</td>\n",
       "      <td>2024-01-20 15:30:55.796572+00</td>\n",
       "      <td>Finished NER</td>\n",
       "      <td>t</td>\n",
       "      <td>t</td>\n",
       "      <td>f</td>\n",
       "      <td>Senior Data Warehouse Developer / Architect</td>\n",
       "      <td>Morph Enterprise</td>\n",
       "      <td>Harrisburg, PA</td>\n",
       "      <td>2024-01-12</td>\n",
       "      <td>Lebanon</td>\n",
       "      <td>United States</td>\n",
       "      <td>Architect</td>\n",
       "      <td>Mid senior</td>\n",
       "      <td>Onsite</td>\n",
       "    </tr>\n",
       "    <tr>\n",
       "      <th>4</th>\n",
       "      <td>https://www.linkedin.com/jobs/view/lead-data-e...</td>\n",
       "      <td>2024-01-21 08:08:58.312124+00</td>\n",
       "      <td>Finished NER</td>\n",
       "      <td>t</td>\n",
       "      <td>t</td>\n",
       "      <td>f</td>\n",
       "      <td>Lead Data Engineer</td>\n",
       "      <td>Dice</td>\n",
       "      <td>Plano, TX</td>\n",
       "      <td>2024-01-14</td>\n",
       "      <td>McKinney</td>\n",
       "      <td>United States</td>\n",
       "      <td>Maintenance Data Analyst</td>\n",
       "      <td>Mid senior</td>\n",
       "      <td>Onsite</td>\n",
       "    </tr>\n",
       "  </tbody>\n",
       "</table>\n",
       "</div>"
      ],
      "text/plain": [
       "                                            job_link  \\\n",
       "0  https://www.linkedin.com/jobs/view/senior-mach...   \n",
       "1  https://www.linkedin.com/jobs/view/principal-s...   \n",
       "2  https://www.linkedin.com/jobs/view/senior-etl-...   \n",
       "3  https://www.linkedin.com/jobs/view/senior-data...   \n",
       "4  https://www.linkedin.com/jobs/view/lead-data-e...   \n",
       "\n",
       "             last_processed_time   last_status got_summary got_ner  \\\n",
       "0  2024-01-21 08:08:48.031964+00  Finished NER           t       t   \n",
       "1  2024-01-20 04:02:12.331406+00  Finished NER           t       t   \n",
       "2  2024-01-21 08:08:31.941595+00  Finished NER           t       t   \n",
       "3  2024-01-20 15:30:55.796572+00  Finished NER           t       t   \n",
       "4  2024-01-21 08:08:58.312124+00  Finished NER           t       t   \n",
       "\n",
       "  is_being_worked                                     job_title  \\\n",
       "0               f              Senior Machine Learning Engineer   \n",
       "1               f  Principal Software Engineer, ML Accelerators   \n",
       "2               f          Senior ETL Data Warehouse Specialist   \n",
       "3               f   Senior Data Warehouse Developer / Architect   \n",
       "4               f                            Lead Data Engineer   \n",
       "\n",
       "              company       job_location  first_seen search_city  \\\n",
       "0   Jobs for Humanity      New Haven, CT  2024-01-14  East Haven   \n",
       "1              Aurora  San Francisco, CA  2024-01-14  El Cerrito   \n",
       "2  Adame Services LLC       New York, NY  2024-01-14  Middletown   \n",
       "3    Morph Enterprise     Harrisburg, PA  2024-01-12     Lebanon   \n",
       "4                Dice          Plano, TX  2024-01-14    McKinney   \n",
       "\n",
       "  search_country                 search_position   job_level job_type  \n",
       "0  United States  Agricultural-Research Engineer  Mid senior   Onsite  \n",
       "1  United States                  Set-Key Driver  Mid senior   Onsite  \n",
       "2  United States    Technical Support Specialist   Associate   Onsite  \n",
       "3  United States                       Architect  Mid senior   Onsite  \n",
       "4  United States        Maintenance Data Analyst  Mid senior   Onsite  "
      ]
     },
     "metadata": {},
     "output_type": "display_data"
    }
   ],
   "source": [
    "# Load the data\n",
    "job_postings = pd.read_csv('../../../../data/job_postings.csv')\n",
    "\n",
    "display(\"Job Postings Dataset:\")\n",
    "display(job_postings.head())"
   ]
  },
  {
   "cell_type": "markdown",
   "metadata": {},
   "source": [
    "### Industry Spread and Keyword Analysis\n"
   ]
  },
  {
   "cell_type": "code",
   "execution_count": 3,
   "metadata": {},
   "outputs": [],
   "source": [
    "# Broad Industry Keywords in Regex\n",
    "industry_keywords = {\n",
    "    \"healthcare\": r\"(?i)(Bio|Medical|Pharma|Clinical|Hospital|Health|Nursing|Biotech|Wellness)\\w*[-\\s]?\",                       # using (?i) to make capitalization insensitive\n",
    "    \"finance\": r\"(?i)(Quant|Trading|Risk|Bank|Invest|Wealth|Asset|Markets|Capital)\\w*[-\\s]?\",                                   # using \\w* to allow for any additional words or characters\n",
    "    \"business\": r\"(?i)(Business|Consulting|Strategy|BI|Analytics|Management|Operations|Process)\\w*[-\\s]?\",                      # using [-\\s]? to allow for any additional words or characters\n",
    "    \"marketing\": r\"(?i)(Market|Advert|Customer|Brand|AdTech|E-?Comm|Commerce)\\w*[-\\s]?\",\n",
    "    \"supply_chain\": r\"(?i)(Logist|Supply|Procure|Fleet|Transport|Demand|Forecast|Predict)\\w*[-\\s]?\",\n",
    "    \"energy\": r\"(?i)(Energy|Oil|Gas|Power|Electric|Sustain|Climate|Carbon)\\w*[-\\s]?\",\n",
    "    \"government\": r\"(?i)(Govern|Policy|Regulat|Law|Legis|Civic)\\w*[-\\s]?\",\n",
    "    \"security\": r\"(?i)(Cyber|Threat|Risk Assess|Anomaly Detect)\\w*[-\\s]?\",\n",
    "    \"tech\": r\"(?i)(AI|ML|Data|Cloud|Software|IT|Engineering|MLOps|Deep Learn|Computer Vision|Text|Speech Recogn)\\w*[-\\s]?\",\n",
    "    \"research\": r\"(?i)(Academic|University|Education|Postdoc|Research)\\w*[-\\s]?\"\n",
    "}"
   ]
  },
  {
   "cell_type": "code",
   "execution_count": 4,
   "metadata": {},
   "outputs": [],
   "source": [
    "# Function to Classify Job Postings by Industry(default)\n",
    "def classify(job_title, keywords_list=industry_keywords):\n",
    "    for industry, keyword in keywords_list.items():\n",
    "        match = re.search(keyword, str(job_title))\n",
    "        if match:\n",
    "            keyword = re.sub(r'[^a-zA-Z\\s]', '', match.group()).strip().title()   # using match.group() to return the actual keyword that was matched rather than the regex pattern\n",
    "            return industry, keyword              \n",
    "    return \"unclassified\", \"unclassified\"\n"
   ]
  },
  {
   "cell_type": "code",
   "execution_count": 5,
   "metadata": {},
   "outputs": [
    {
     "data": {
      "application/vnd.microsoft.datawrangler.viewer.v0+json": {
       "columns": [
        {
         "name": "index",
         "rawType": "int64",
         "type": "integer"
        },
        {
         "name": "job_link",
         "rawType": "object",
         "type": "string"
        },
        {
         "name": "last_processed_time",
         "rawType": "object",
         "type": "string"
        },
        {
         "name": "last_status",
         "rawType": "object",
         "type": "string"
        },
        {
         "name": "got_summary",
         "rawType": "object",
         "type": "string"
        },
        {
         "name": "got_ner",
         "rawType": "object",
         "type": "string"
        },
        {
         "name": "is_being_worked",
         "rawType": "object",
         "type": "string"
        },
        {
         "name": "job_title",
         "rawType": "object",
         "type": "string"
        },
        {
         "name": "company",
         "rawType": "object",
         "type": "string"
        },
        {
         "name": "job_location",
         "rawType": "object",
         "type": "string"
        },
        {
         "name": "first_seen",
         "rawType": "object",
         "type": "string"
        },
        {
         "name": "search_city",
         "rawType": "object",
         "type": "string"
        },
        {
         "name": "search_country",
         "rawType": "object",
         "type": "string"
        },
        {
         "name": "search_position",
         "rawType": "object",
         "type": "string"
        },
        {
         "name": "job_level",
         "rawType": "object",
         "type": "string"
        },
        {
         "name": "job_type",
         "rawType": "object",
         "type": "string"
        },
        {
         "name": "industry",
         "rawType": "object",
         "type": "string"
        },
        {
         "name": "keyword",
         "rawType": "object",
         "type": "string"
        }
       ],
       "conversionMethod": "pd.DataFrame",
       "ref": "5feac82b-0b2a-4fe6-a0c3-73d78213fc2c",
       "rows": [
        [
         "0",
         "https://www.linkedin.com/jobs/view/senior-machine-learning-engineer-at-jobs-for-humanity-3804053819",
         "2024-01-21 08:08:48.031964+00",
         "Finished NER",
         "t",
         "t",
         "f",
         "Senior Machine Learning Engineer",
         "Jobs for Humanity",
         "New Haven, CT",
         "2024-01-14",
         "East Haven",
         "United States",
         "Agricultural-Research Engineer",
         "Mid senior",
         "Onsite",
         "unclassified",
         "unclassified"
        ],
        [
         "1",
         "https://www.linkedin.com/jobs/view/principal-software-engineer-ml-accelerators-at-aurora-3703455068",
         "2024-01-20 04:02:12.331406+00",
         "Finished NER",
         "t",
         "t",
         "f",
         "Principal Software Engineer, ML Accelerators",
         "Aurora",
         "San Francisco, CA",
         "2024-01-14",
         "El Cerrito",
         "United States",
         "Set-Key Driver",
         "Mid senior",
         "Onsite",
         "tech",
         "Software"
        ],
        [
         "2",
         "https://www.linkedin.com/jobs/view/senior-etl-data-warehouse-specialist-at-adame-services-llc-3765023888",
         "2024-01-21 08:08:31.941595+00",
         "Finished NER",
         "t",
         "t",
         "f",
         "Senior ETL Data Warehouse Specialist",
         "Adame Services LLC",
         "New York, NY",
         "2024-01-14",
         "Middletown",
         "United States",
         "Technical Support Specialist",
         "Associate",
         "Onsite",
         "tech",
         "Data"
        ],
        [
         "3",
         "https://www.linkedin.com/jobs/view/senior-data-warehouse-developer-architect-at-morph-enterprise-3794602483",
         "2024-01-20 15:30:55.796572+00",
         "Finished NER",
         "t",
         "t",
         "f",
         "Senior Data Warehouse Developer / Architect",
         "Morph Enterprise",
         "Harrisburg, PA",
         "2024-01-12",
         "Lebanon",
         "United States",
         "Architect",
         "Mid senior",
         "Onsite",
         "tech",
         "Data"
        ],
        [
         "4",
         "https://www.linkedin.com/jobs/view/lead-data-engineer-at-dice-3805948138",
         "2024-01-21 08:08:58.312124+00",
         "Finished NER",
         "t",
         "t",
         "f",
         "Lead Data Engineer",
         "Dice",
         "Plano, TX",
         "2024-01-14",
         "McKinney",
         "United States",
         "Maintenance Data Analyst",
         "Mid senior",
         "Onsite",
         "tech",
         "Data"
        ]
       ],
       "shape": {
        "columns": 17,
        "rows": 5
       }
      },
      "text/html": [
       "<div>\n",
       "<style scoped>\n",
       "    .dataframe tbody tr th:only-of-type {\n",
       "        vertical-align: middle;\n",
       "    }\n",
       "\n",
       "    .dataframe tbody tr th {\n",
       "        vertical-align: top;\n",
       "    }\n",
       "\n",
       "    .dataframe thead th {\n",
       "        text-align: right;\n",
       "    }\n",
       "</style>\n",
       "<table border=\"1\" class=\"dataframe\">\n",
       "  <thead>\n",
       "    <tr style=\"text-align: right;\">\n",
       "      <th></th>\n",
       "      <th>job_link</th>\n",
       "      <th>last_processed_time</th>\n",
       "      <th>last_status</th>\n",
       "      <th>got_summary</th>\n",
       "      <th>got_ner</th>\n",
       "      <th>is_being_worked</th>\n",
       "      <th>job_title</th>\n",
       "      <th>company</th>\n",
       "      <th>job_location</th>\n",
       "      <th>first_seen</th>\n",
       "      <th>search_city</th>\n",
       "      <th>search_country</th>\n",
       "      <th>search_position</th>\n",
       "      <th>job_level</th>\n",
       "      <th>job_type</th>\n",
       "      <th>industry</th>\n",
       "      <th>keyword</th>\n",
       "    </tr>\n",
       "  </thead>\n",
       "  <tbody>\n",
       "    <tr>\n",
       "      <th>0</th>\n",
       "      <td>https://www.linkedin.com/jobs/view/senior-mach...</td>\n",
       "      <td>2024-01-21 08:08:48.031964+00</td>\n",
       "      <td>Finished NER</td>\n",
       "      <td>t</td>\n",
       "      <td>t</td>\n",
       "      <td>f</td>\n",
       "      <td>Senior Machine Learning Engineer</td>\n",
       "      <td>Jobs for Humanity</td>\n",
       "      <td>New Haven, CT</td>\n",
       "      <td>2024-01-14</td>\n",
       "      <td>East Haven</td>\n",
       "      <td>United States</td>\n",
       "      <td>Agricultural-Research Engineer</td>\n",
       "      <td>Mid senior</td>\n",
       "      <td>Onsite</td>\n",
       "      <td>unclassified</td>\n",
       "      <td>unclassified</td>\n",
       "    </tr>\n",
       "    <tr>\n",
       "      <th>1</th>\n",
       "      <td>https://www.linkedin.com/jobs/view/principal-s...</td>\n",
       "      <td>2024-01-20 04:02:12.331406+00</td>\n",
       "      <td>Finished NER</td>\n",
       "      <td>t</td>\n",
       "      <td>t</td>\n",
       "      <td>f</td>\n",
       "      <td>Principal Software Engineer, ML Accelerators</td>\n",
       "      <td>Aurora</td>\n",
       "      <td>San Francisco, CA</td>\n",
       "      <td>2024-01-14</td>\n",
       "      <td>El Cerrito</td>\n",
       "      <td>United States</td>\n",
       "      <td>Set-Key Driver</td>\n",
       "      <td>Mid senior</td>\n",
       "      <td>Onsite</td>\n",
       "      <td>tech</td>\n",
       "      <td>Software</td>\n",
       "    </tr>\n",
       "    <tr>\n",
       "      <th>2</th>\n",
       "      <td>https://www.linkedin.com/jobs/view/senior-etl-...</td>\n",
       "      <td>2024-01-21 08:08:31.941595+00</td>\n",
       "      <td>Finished NER</td>\n",
       "      <td>t</td>\n",
       "      <td>t</td>\n",
       "      <td>f</td>\n",
       "      <td>Senior ETL Data Warehouse Specialist</td>\n",
       "      <td>Adame Services LLC</td>\n",
       "      <td>New York, NY</td>\n",
       "      <td>2024-01-14</td>\n",
       "      <td>Middletown</td>\n",
       "      <td>United States</td>\n",
       "      <td>Technical Support Specialist</td>\n",
       "      <td>Associate</td>\n",
       "      <td>Onsite</td>\n",
       "      <td>tech</td>\n",
       "      <td>Data</td>\n",
       "    </tr>\n",
       "    <tr>\n",
       "      <th>3</th>\n",
       "      <td>https://www.linkedin.com/jobs/view/senior-data...</td>\n",
       "      <td>2024-01-20 15:30:55.796572+00</td>\n",
       "      <td>Finished NER</td>\n",
       "      <td>t</td>\n",
       "      <td>t</td>\n",
       "      <td>f</td>\n",
       "      <td>Senior Data Warehouse Developer / Architect</td>\n",
       "      <td>Morph Enterprise</td>\n",
       "      <td>Harrisburg, PA</td>\n",
       "      <td>2024-01-12</td>\n",
       "      <td>Lebanon</td>\n",
       "      <td>United States</td>\n",
       "      <td>Architect</td>\n",
       "      <td>Mid senior</td>\n",
       "      <td>Onsite</td>\n",
       "      <td>tech</td>\n",
       "      <td>Data</td>\n",
       "    </tr>\n",
       "    <tr>\n",
       "      <th>4</th>\n",
       "      <td>https://www.linkedin.com/jobs/view/lead-data-e...</td>\n",
       "      <td>2024-01-21 08:08:58.312124+00</td>\n",
       "      <td>Finished NER</td>\n",
       "      <td>t</td>\n",
       "      <td>t</td>\n",
       "      <td>f</td>\n",
       "      <td>Lead Data Engineer</td>\n",
       "      <td>Dice</td>\n",
       "      <td>Plano, TX</td>\n",
       "      <td>2024-01-14</td>\n",
       "      <td>McKinney</td>\n",
       "      <td>United States</td>\n",
       "      <td>Maintenance Data Analyst</td>\n",
       "      <td>Mid senior</td>\n",
       "      <td>Onsite</td>\n",
       "      <td>tech</td>\n",
       "      <td>Data</td>\n",
       "    </tr>\n",
       "  </tbody>\n",
       "</table>\n",
       "</div>"
      ],
      "text/plain": [
       "                                            job_link  \\\n",
       "0  https://www.linkedin.com/jobs/view/senior-mach...   \n",
       "1  https://www.linkedin.com/jobs/view/principal-s...   \n",
       "2  https://www.linkedin.com/jobs/view/senior-etl-...   \n",
       "3  https://www.linkedin.com/jobs/view/senior-data...   \n",
       "4  https://www.linkedin.com/jobs/view/lead-data-e...   \n",
       "\n",
       "             last_processed_time   last_status got_summary got_ner  \\\n",
       "0  2024-01-21 08:08:48.031964+00  Finished NER           t       t   \n",
       "1  2024-01-20 04:02:12.331406+00  Finished NER           t       t   \n",
       "2  2024-01-21 08:08:31.941595+00  Finished NER           t       t   \n",
       "3  2024-01-20 15:30:55.796572+00  Finished NER           t       t   \n",
       "4  2024-01-21 08:08:58.312124+00  Finished NER           t       t   \n",
       "\n",
       "  is_being_worked                                     job_title  \\\n",
       "0               f              Senior Machine Learning Engineer   \n",
       "1               f  Principal Software Engineer, ML Accelerators   \n",
       "2               f          Senior ETL Data Warehouse Specialist   \n",
       "3               f   Senior Data Warehouse Developer / Architect   \n",
       "4               f                            Lead Data Engineer   \n",
       "\n",
       "              company       job_location  first_seen search_city  \\\n",
       "0   Jobs for Humanity      New Haven, CT  2024-01-14  East Haven   \n",
       "1              Aurora  San Francisco, CA  2024-01-14  El Cerrito   \n",
       "2  Adame Services LLC       New York, NY  2024-01-14  Middletown   \n",
       "3    Morph Enterprise     Harrisburg, PA  2024-01-12     Lebanon   \n",
       "4                Dice          Plano, TX  2024-01-14    McKinney   \n",
       "\n",
       "  search_country                 search_position   job_level job_type  \\\n",
       "0  United States  Agricultural-Research Engineer  Mid senior   Onsite   \n",
       "1  United States                  Set-Key Driver  Mid senior   Onsite   \n",
       "2  United States    Technical Support Specialist   Associate   Onsite   \n",
       "3  United States                       Architect  Mid senior   Onsite   \n",
       "4  United States        Maintenance Data Analyst  Mid senior   Onsite   \n",
       "\n",
       "       industry       keyword  \n",
       "0  unclassified  unclassified  \n",
       "1          tech      Software  \n",
       "2          tech          Data  \n",
       "3          tech          Data  \n",
       "4          tech          Data  "
      ]
     },
     "execution_count": 5,
     "metadata": {},
     "output_type": "execute_result"
    }
   ],
   "source": [
    "# apply the function to a new table created from the job_postings dataset\n",
    "keyword_classifications = job_postings.copy()\n",
    "keyword_classifications['industry'], keyword_classifications['keyword'] = zip(*keyword_classifications['job_title'].apply(classify))\n",
    "\n",
    "# display the first few rows of the new table\n",
    "keyword_classifications.head()\n"
   ]
  },
  {
   "cell_type": "code",
   "execution_count": 6,
   "metadata": {},
   "outputs": [
    {
     "data": {
      "text/plain": [
       "'Industry Distribution in Job Postings:'"
      ]
     },
     "metadata": {},
     "output_type": "display_data"
    },
    {
     "data": {
      "application/vnd.microsoft.datawrangler.viewer.v0+json": {
       "columns": [
        {
         "name": "industry",
         "rawType": "object",
         "type": "string"
        },
        {
         "name": "count",
         "rawType": "int64",
         "type": "integer"
        }
       ],
       "conversionMethod": "pd.DataFrame",
       "ref": "75f9e7ed-26f7-406d-8fb4-940edb823aa2",
       "rows": [
        [
         "business",
         "1575"
        ],
        [
         "healthcare",
         "847"
        ],
        [
         "unclassified",
         "425"
        ],
        [
         "marketing",
         "235"
        ],
        [
         "finance",
         "230"
        ],
        [
         "government",
         "112"
        ],
        [
         "energy",
         "100"
        ],
        [
         "supply_chain",
         "94"
        ],
        [
         "research",
         "34"
        ],
        [
         "security",
         "24"
        ]
       ],
       "shape": {
        "columns": 1,
        "rows": 10
       }
      },
      "text/html": [
       "<div>\n",
       "<style scoped>\n",
       "    .dataframe tbody tr th:only-of-type {\n",
       "        vertical-align: middle;\n",
       "    }\n",
       "\n",
       "    .dataframe tbody tr th {\n",
       "        vertical-align: top;\n",
       "    }\n",
       "\n",
       "    .dataframe thead th {\n",
       "        text-align: right;\n",
       "    }\n",
       "</style>\n",
       "<table border=\"1\" class=\"dataframe\">\n",
       "  <thead>\n",
       "    <tr style=\"text-align: right;\">\n",
       "      <th></th>\n",
       "      <th>count</th>\n",
       "    </tr>\n",
       "    <tr>\n",
       "      <th>industry</th>\n",
       "      <th></th>\n",
       "    </tr>\n",
       "  </thead>\n",
       "  <tbody>\n",
       "    <tr>\n",
       "      <th>business</th>\n",
       "      <td>1575</td>\n",
       "    </tr>\n",
       "    <tr>\n",
       "      <th>healthcare</th>\n",
       "      <td>847</td>\n",
       "    </tr>\n",
       "    <tr>\n",
       "      <th>unclassified</th>\n",
       "      <td>425</td>\n",
       "    </tr>\n",
       "    <tr>\n",
       "      <th>marketing</th>\n",
       "      <td>235</td>\n",
       "    </tr>\n",
       "    <tr>\n",
       "      <th>finance</th>\n",
       "      <td>230</td>\n",
       "    </tr>\n",
       "    <tr>\n",
       "      <th>government</th>\n",
       "      <td>112</td>\n",
       "    </tr>\n",
       "    <tr>\n",
       "      <th>energy</th>\n",
       "      <td>100</td>\n",
       "    </tr>\n",
       "    <tr>\n",
       "      <th>supply_chain</th>\n",
       "      <td>94</td>\n",
       "    </tr>\n",
       "    <tr>\n",
       "      <th>research</th>\n",
       "      <td>34</td>\n",
       "    </tr>\n",
       "    <tr>\n",
       "      <th>security</th>\n",
       "      <td>24</td>\n",
       "    </tr>\n",
       "  </tbody>\n",
       "</table>\n",
       "</div>"
      ],
      "text/plain": [
       "              count\n",
       "industry           \n",
       "business       1575\n",
       "healthcare      847\n",
       "unclassified    425\n",
       "marketing       235\n",
       "finance         230\n",
       "government      112\n",
       "energy          100\n",
       "supply_chain     94\n",
       "research         34\n",
       "security         24"
      ]
     },
     "metadata": {},
     "output_type": "display_data"
    },
    {
     "data": {
      "image/png": "[encoded data removed]",
      "text/plain": [
       "<Figure size 1000x600 with 1 Axes>"
      ]
     },
     "metadata": {},
     "output_type": "display_data"
    }
   ],
   "source": [
    "# count the number of each industry occurrence\n",
    "industry_counts = pd.DataFrame(keyword_classifications['industry'].value_counts()).reset_index().set_index('industry')\n",
    "\n",
    "# remove tech temporarily from the industry counts for readability as it skews results due to being a Data Science Focused Dataset\n",
    "industry_counts = industry_counts[industry_counts.index != 'tech']\n",
    "\n",
    "# display the counts\n",
    "display(\"Industry Distribution in Job Postings:\")\n",
    "display(industry_counts)\n",
    "\n",
    "# create a bar chart of the industry counts\n",
    "industry_counts.plot(kind='bar', figsize=(10, 6))\n",
    "\n",
    "# add labels and title\n",
    "plt.xlabel('Industry')\n",
    "plt.ylabel('Count')\n",
    "plt.title('Industry Distribution in Job Postings')\n",
    "plt.xticks(rotation=45)\n",
    "plt.grid(True, color='white')\n",
    "\n",
    "# save figure\n",
    "plt.savefig('../../../../resources/eda_1.1_industry_distribution_line.png')\n",
    "\n",
    "# show the plot\n",
    "plt.tight_layout()\n",
    "plt.show()\n"
   ]
  },
  {
   "cell_type": "markdown",
   "metadata": {},
   "source": [
    "#### **Reflection: Industry Categorization and Data Composition**  \n",
    "\n",
    "With the majority of job titles successfully categorized and only **425 remaining unclassified**, the **keyword-based regex system proved to be highly effective** in grouping jobs by industry/ keywords. Additonally, given that the dataset was completely **data science-focused**, it's expected that many job postings fall within **Tech**, and subsequently the business, healthcare, and marketing sectors, where data-driven decision-making is heavily integrated.  \n",
    "\n",
    "Looking at the industry-level distribution, there is **a clear skew towards generalist and tech-adjacent industries**, which aligns with the growing demand for data science applications across fields. However, **lower representation in niche industries like research and security** suggests that **granular discipline-based classifications** may not yield enough data for meaningful insights unless supplemented with external sources.  \n",
    "\n",
    "A key consideration is **whether industry-level grouping provides enough depth or if a more specific discipline-based categorization (e.g., \"Financial Data Analyst\" vs. \"Data Analyst\") would be viable**. While there is a strong presence of job postings at the industry level, the **next step would be evaluating whether discipline-level segmentation (based on subfields of data science) maintains a large enough sample size** to support meaningful analysis.  \n"
   ]
  },
  {
   "cell_type": "code",
   "execution_count": 7,
   "metadata": {},
   "outputs": [
    {
     "data": {
      "text/plain": [
       "'Keyword Counts:'"
      ]
     },
     "metadata": {},
     "output_type": "display_data"
    },
    {
     "data": {
      "application/vnd.microsoft.datawrangler.viewer.v0+json": {
       "columns": [
        {
         "name": "keyword",
         "rawType": "object",
         "type": "string"
        },
        {
         "name": "count",
         "rawType": "int64",
         "type": "integer"
        }
       ],
       "conversionMethod": "pd.DataFrame",
       "ref": "b15887c3-75e5-49e9-bce6-949ba807eeeb",
       "rows": [
        [
         "Data",
         "6072"
        ],
        [
         "Database",
         "626"
        ],
        [
         "Medical",
         "488"
        ],
        [
         "unclassified",
         "425"
        ],
        [
         "Analytics",
         "358"
        ],
        [
         "Business",
         "332"
        ],
        [
         "Management",
         "308"
        ],
        [
         "Software",
         "213"
        ],
        [
         "Operations",
         "201"
        ],
        [
         "Ml",
         "168"
        ],
        [
         "Mlops",
         "163"
        ],
        [
         "Ity",
         "155"
        ],
        [
         "Ai",
         "146"
        ],
        [
         "Clinical",
         "143"
        ],
        [
         "Customer",
         "123"
        ],
        [
         "It",
         "107"
        ],
        [
         "Mls",
         "98"
        ],
        [
         "Big",
         "94"
        ],
        [
         "Risk",
         "92"
        ],
        [
         "Engineering",
         "90"
        ],
        [
         "Cloud",
         "87"
        ],
        [
         "Governance",
         "86"
        ],
        [
         "Datacenter",
         "80"
        ],
        [
         "Marketing",
         "79"
        ],
        [
         "Bi",
         "70"
        ],
        [
         "Health",
         "65"
        ],
        [
         "Itect",
         "65"
        ],
        [
         "Electrical",
         "49"
        ],
        [
         "Healthcare",
         "49"
        ],
        [
         "Strategy",
         "48"
        ],
        [
         "Bility",
         "38"
        ],
        [
         "Supply",
         "36"
        ],
        [
         "Quantitative",
         "36"
        ],
        [
         "Bigdata",
         "35"
        ],
        [
         "Mley",
         "32"
        ],
        [
         "Databricks",
         "30"
        ],
        [
         "Mlt",
         "25"
        ],
        [
         "Datastage",
         "25"
        ],
        [
         "Processing",
         "24"
        ],
        [
         "Itor",
         "21"
        ],
        [
         "Ite",
         "21"
        ],
        [
         "Logist",
         "21"
        ],
        [
         "Research",
         "20"
        ],
        [
         "Market",
         "19"
        ],
        [
         "Ital",
         "17"
        ],
        [
         "Ities",
         "16"
        ],
        [
         "Bank",
         "15"
        ],
        [
         "Mlb",
         "15"
        ],
        [
         "Biology",
         "15"
        ],
        [
         "Investigator",
         "15"
        ]
       ],
       "shape": {
        "columns": 1,
        "rows": 242
       }
      },
      "text/html": [
       "<div>\n",
       "<style scoped>\n",
       "    .dataframe tbody tr th:only-of-type {\n",
       "        vertical-align: middle;\n",
       "    }\n",
       "\n",
       "    .dataframe tbody tr th {\n",
       "        vertical-align: top;\n",
       "    }\n",
       "\n",
       "    .dataframe thead th {\n",
       "        text-align: right;\n",
       "    }\n",
       "</style>\n",
       "<table border=\"1\" class=\"dataframe\">\n",
       "  <thead>\n",
       "    <tr style=\"text-align: right;\">\n",
       "      <th></th>\n",
       "      <th>count</th>\n",
       "    </tr>\n",
       "    <tr>\n",
       "      <th>keyword</th>\n",
       "      <th></th>\n",
       "    </tr>\n",
       "  </thead>\n",
       "  <tbody>\n",
       "    <tr>\n",
       "      <th>Data</th>\n",
       "      <td>6072</td>\n",
       "    </tr>\n",
       "    <tr>\n",
       "      <th>Database</th>\n",
       "      <td>626</td>\n",
       "    </tr>\n",
       "    <tr>\n",
       "      <th>Medical</th>\n",
       "      <td>488</td>\n",
       "    </tr>\n",
       "    <tr>\n",
       "      <th>unclassified</th>\n",
       "      <td>425</td>\n",
       "    </tr>\n",
       "    <tr>\n",
       "      <th>Analytics</th>\n",
       "      <td>358</td>\n",
       "    </tr>\n",
       "    <tr>\n",
       "      <th>...</th>\n",
       "      <td>...</td>\n",
       "    </tr>\n",
       "    <tr>\n",
       "      <th>Databrick</th>\n",
       "      <td>1</td>\n",
       "    </tr>\n",
       "    <tr>\n",
       "      <th>Datacoves</th>\n",
       "      <td>1</td>\n",
       "    </tr>\n",
       "    <tr>\n",
       "      <th>Lawyer</th>\n",
       "      <td>1</td>\n",
       "    </tr>\n",
       "    <tr>\n",
       "      <th>Dataflux</th>\n",
       "      <td>1</td>\n",
       "    </tr>\n",
       "    <tr>\n",
       "      <th>Trading</th>\n",
       "      <td>1</td>\n",
       "    </tr>\n",
       "  </tbody>\n",
       "</table>\n",
       "<p>242 rows × 1 columns</p>\n",
       "</div>"
      ],
      "text/plain": [
       "              count\n",
       "keyword            \n",
       "Data           6072\n",
       "Database        626\n",
       "Medical         488\n",
       "unclassified    425\n",
       "Analytics       358\n",
       "...             ...\n",
       "Databrick         1\n",
       "Datacoves         1\n",
       "Lawyer            1\n",
       "Dataflux          1\n",
       "Trading           1\n",
       "\n",
       "[242 rows x 1 columns]"
      ]
     },
     "metadata": {},
     "output_type": "display_data"
    }
   ],
   "source": [
    "# count the number of each keyword occurrences\n",
    "keyword_counts = pd.DataFrame(keyword_classifications['keyword'].value_counts()).reset_index().set_index('keyword')\n",
    "\n",
    "# display the counts\n",
    "display(\"Keyword Counts:\")\n",
    "display(keyword_counts)"
   ]
  },
  {
   "cell_type": "markdown",
   "metadata": {},
   "source": [
    "#### **Reflection: Refining Job Title and Skill Standardization**  \n",
    "\n",
    "As we further analyze and explore the dataset to gauge our possibilities in the realm of **job title standardization** and its **relationship to skill mapping**, the scale of variation across industries and roles has become even more apparent. Initially, I assumed that **industry-based standardization**—namely, the idea to map skills to standardized job roles based on their respective industries—would be the most logical approach. My thought process was that this would prevent the **cross-contamination** of industry-specific skills and thus allow for a more accurate mapping of skills to specific job roles. However, the data shows that at the current data size, this method risks **fragmenting the dataset too much**, leaving niche roles with **too few data points to create meaningful insights**.  \n",
    "\n",
    "Another idea which I heavily considered was a **dual-level mapping approach**, which would categorize skills at two levels:  \n",
    "1. **Industry-based categorization** → Capturing specialized knowledge unique to each industry and job title.  \n",
    "2. **Technical role categorization** → Grouping jobs by broader technical roles/titles (e.g., *AI Engineer*, *Data Analyst*) to **increase sample sizes** across industries and relate technical skills to certain data science roles.  \n",
    "\n",
    "While this would strengthen the dataset’s usability, it would also **risk the grouping of unrelated or industry-specific skills together**, particularly in highly specialized fields. This would require classifying skills into **technical, soft, and industry-specific tiers** and then subsequently applying different processes to each skill based on its classification. However, implementing this system **may exceed the available time constraints** for this project.  \n",
    "\n",
    "<br>\n",
    "<br>\n",
    "<br>\n",
    "<br>\n",
    "<br>\n",
    "<br>\n",
    "\n",
    "## **Keyword Frequency Analysis in Job Titles and Potential Adjustments**  \n",
    "\n",
    "As I examined the **keyword occurrences within job titles**, terms like **\"data\" (6072 occurrences), \"database\" (626), \"analytics\" (358), \"AI\" (146), and \"cloud\" (87)** showed a strong presence, which was expected given the dataset’s focus on data-related roles. However, there is also a significant number of **niche or domain-specific terms** such as **\"biostatistics\" (10), \"cybersecurity\" (13), and \"biopharma\" (3)** that appear much less frequently.  This lack of representation in job titles could pose challenges in the **analysis and visualization stages**, as job titles with fewer than **5–10 occurrences** may not provide meaningful insights. At such low frequencies, **ranking skill importance or even establishing relevant skill relationships** becomes difficult, potentially leading to inactionable or misleading data.\n",
    "\n",
    "This raises the question of **how to refine our job title standardization process** without over-generalizing or losing valuable distinctions. Some potential strategies include:  \n",
    "- **Filtering out single-occurrence job titles** to remove excessive noise and outliers.  \n",
    "- **Using interquartile range (IQR) or percentile-based cutoffs** to determine a threshold for low-frequency job titles.  \n",
    "- **Grouping keywords dynamically** to align with how job titles naturally cluster—whether by technical skills, industry, or specialization.  \n",
    "\n",
    "At this stage, I am still considering the best approach, but these initial findings highlight the need to **balance granularity with standardization** in job title classification.  \n",
    "\n",
    "### **Current Exploration: Focusing on Technical Titles in Data Science**  \n",
    "\n",
    "Given the continued **EDA** findings, one practical refinement could be **limiting the project’s scope to technical job titles** such as *Data Analyst*, *Data Engineer*, *Data Scientist*, *Machine Learning Engineer*, *Full-Stack Developer*, etc. This would simplify standardization by removing **industry-dependent or specific job roles** while ensuring the tool provides **actionable insights on technical data science skills demand**.  \n",
    "\n",
    "By narrowing the scope in this way, we can **ensure a more structured and scalable approach to job title standardization** while avoiding excessive fragmentation. The next steps will involve **evaluating different filtering and keyword grouping methods** to determine the most effective way to process job title standardization while maintaining **meaningful role differentiation**."
   ]
  },
  {
   "cell_type": "markdown",
   "metadata": {},
   "source": [
    "-----------------------------------------------------------------------------------------------------------------------------------------------------------------------------------------------------------------------------------"
   ]
  },
  {
   "cell_type": "markdown",
   "metadata": {},
   "source": [
    "## **Attempting to Standardize Job Titles by Technical Job Role/ Skill Expectations**\n"
   ]
  },
  {
   "cell_type": "markdown",
   "metadata": {},
   "source": [
    "### **Keyword Process Notes**  \n",
    "\n",
    "While working on job title standardization, I realized that **categorizing job titles by industry was not a consistent method** for standardization—especially considering that the end product needs to **relate skills within those categorizations/keywords**. At this stage of the project, had we categorized job titles by industry, career path, or job track, we would have introduced **cross-contamination of skills within the categorizations**. This would require either:  \n",
    "- A **more complex skill-to-job/industry mapping process**, or  \n",
    "- A **manual filtering process**, reviewing and removing industry-specific skills from each category.  \n",
    "\n",
    "This led me to refine the idea of **standardizing job titles further by technical job roles and skill expectations** for career paths and progression. However, considering the scale of this task, it is **beyond our current skill level and time constraints**.  \n",
    "\n",
    "At this stage, I believe it will be necessary to explore **light categorization work** to expand the relational database for each skill and job title. This would be coupled with **keyword-based job categorization** to directly relate skills within the **exact same job title** while maintaining clarity in skill-to-role relationships."
   ]
  },
  {
   "cell_type": "code",
   "execution_count": 8,
   "metadata": {},
   "outputs": [],
   "source": [
    "# technical job titles regex list\n",
    "\n",
    "technical_job_titles = {\n",
    "    # 🔹 **Most Specialized AI & ML Research Roles**\n",
    "    \"AI Research Scientist\": r\"(?i)(AI Research|Artificial Intelligence Research|AI Scientist|LLM|AGI|Foundation Model|Neural Network|AI Innovation|AI Ethics|AI/ML Research Scientist)\\w*[-\\s]?\",\n",
    "    \"ML Research Scientist\": r\"(?i)(Machine Learning Research|ML Research|Deep Learning Research|NLP|Computer Vision Research|Generative AI|Speech Recognition|Bayesian Learning|ML Platform Engineer)\\w*[-\\s]?\",\n",
    "    \"Quantitative Researcher\": r\"(?i)(Quant Research|Financial Modeling|Algorithmic Trading|Statistical Inference|Hedge Fund|Risk Modeling)\\w*[-\\s]?\",\n",
    "\n",
    "    # 🔹 **AI & ML Engineering**\n",
    "    \"Machine Learning Engineer\": r\"(?i)(Machine Learning Engineer|ML Engineer|ML Developer|NLP Engineer|Computer Vision Engineer|Reinforcement Learning|Machine Learning Software Developer|AI/ML Engineer)\\w*[-\\s]?\",\n",
    "    \"AI/ML Algorithm Developer\": r\"(?i)(AI Algorithm|ML Algorithm|AI/ML Algorithm Developer|AI Compiler Engineer)\\w*[-\\s]?\",\n",
    "    \"AI Systems Engineer\": r\"(?i)(AI Systems|Autonomous Systems|Embedded AI|AI Robotics|Self Driving|AI Accelerator|AI Research Engineer|AI/Machine Learning Architect)\\w*[-\\s]?\",\n",
    "    \"MLOps Engineer\": r\"(?i)(MLOps|Model Deployment|ML Infrastructure|AI Ops|ML Systems|DataOps|ML Pipeline|Machine Learning Infrastructure Engineer|Machine Learning Operations|AI/ML Ops Engineer)\\w*[-\\s]?\",\n",
    "\n",
    "    # 🔹 **Software Engineering**\n",
    "    \"AI Software Engineer\": r\"(?i)(AI Software|ML Software|AI Developer|ML Developer|AI Application|Deep Learning Software Engineer|Machine Learning Software Engineer|Software Engineer - Data Science|Software Engineer - Data Platforms)\\w*[-\\s]?\",\n",
    "    \"AI Platform Engineer\": r\"(?i)(AI Platform|AI Infrastructure|AI Tools|ML Platform|AI DevOps|ML Engineering|LLM Engineer)\\w*[-\\s]?\",\n",
    "    \"Software Engineer\": r\"(?i)(Software Engineer|Software Developer|Full Stack Engineer|Backend Engineer|Frontend Engineer|Application Developer|Embedded Software Engineer|Systems Developer|Cloud Software Engineer)\\w*[-\\s]?\",\n",
    "    \"DevOps Engineer\": r\"(?i)(DevOps Engineer|Site Reliability Engineer|SRE|Infrastructure Engineer|Automation Engineer|Build Engineer|Cloud DevOps Engineer)\\w*[-\\s]?\",\n",
    "    \"Platform Engineer\": r\"(?i)(Platform Engineer|Infrastructure Engineer|Cloud Platform Engineer|Scalability Engineer|Software Operations Engineer)\\w*[-\\s]?\",\n",
    "\n",
    "    # 🔹 **Data Science & Analytics**\n",
    "    \"Business Data Scientist\": r\"(?i)(Business Data Scientist|Product Data Scientist|Marketing Data Scientist|Customer Data Scientist|Econometrics|Demand Forecasting|Financial Data Scientist|Healthcare Data Scientist)\\w*[-\\s]?\",\n",
    "    \"Data Scientist\": r\"(?i)(Data Scientist|Applied Data Scientist|AI Applications|Decision Science|ML Analyst|AI Research Engineer|AI/ML Data Scientist|ML Engineer - Data Science|Data Science Researcher|Data Science Analyst|Data Science Engineer|Data Science Practitioner|Statistician Data Science)\\w*[-\\s]?\",\n",
    "    \"Financial Data Analyst\": r\"(?i)(Financial Analyst|Investment Analyst|Risk Analyst|Actuary|Market Data|Economist|Trading Data|Quant Analyst)\\w*[-\\s]?\",\n",
    "    \"Data Analyst\": r\"(?i)(Data Analyst|BI Analyst|Business Intelligence|Analytics|Visualization|Insights|Reporting|Data Operations Analyst|Financial Data Analyst|Data Validation Analyst|Data Insights Analyst|Data Business Analyst)\\w*[-\\s]?\",\n",
    "    \n",
    "    # 🔹 **Data Architecture & Management**\n",
    "    \"Senior Data Architect\": r\"(?i)(Senior Data Architect|Lead Data Architect|Principal Data Architect|Data Engineering Architect|Enterprise Data Architect|AI/Machine Learning Architect)\\w*[-\\s]?\",\n",
    "    \"Data Architect\": r\"(?i)(Data Architect|Data Modeling|Data Solution Architect|Database Architect|Big Data Architect|Cloud Data Architect|Data Warehouse Architect|Data Streaming Architect)\\w*[-\\s]?\",\n",
    "    \"Data Manager\": r\"(?i)(Data Manager|Data Operations Manager|Master Data Manager|Data Governance Manager|Enterprise Data Manager|Data Lifecycle Manager)\\w*[-\\s]?\",\n",
    "\n",
    "    # 🔹 **Data Development & Data Lakes**\n",
    "    \"Senior Data Developer\": r\"(?i)(Senior Data Developer|Lead Data Developer|Principal Data Developer|Data Engineering Developer|Big Data Developer|Cloud Data Developer)\\w*[-\\s]?\",\n",
    "    \"Data Lake Architect\": r\"(?i)(Data Lake Architect|Big Data Lake Architect|Cloud Data Lake Architect|Enterprise Data Lake Architect|Data Storage Architect)\\w*[-\\s]?\",\n",
    "    \"Data Lake Engineer\": r\"(?i)(Data Lake Engineer|Cloud Data Lake Engineer|Data Storage Engineer|Data Pipeline Engineer)\\w*[-\\s]?\",\n",
    "\n",
    "    # 🔹 **Big Data & Cloud Engineering**\n",
    "    \"Big Data Engineer\": r\"(?i)(Big Data|Data Pipeline|Cloud Data|Streaming Data|Kafka|Distributed Systems|Databricks Engineer)\\w*[-\\s]?\",\n",
    "    \"Cloud Data Engineer\": r\"(?i)(AWS Data|Azure Data|GCP Data|Cloud Data Engineer|Snowflake Engineer|Cloud Big Data|Cloud ETL|Cloud Data Solutions Architect|Data DevOps Engineer)\\w*[-\\s]?\",\n",
    "    \"ETL Engineer\": r\"(?i)(Extract Transform|Data Integration|DWH|Data Migration|Data Ingestion|Data Processing|Data Extraction|Data Conversion|Data Replication Engineer)\\w*[-\\s]?\",\n",
    "    \"Database Engineer\": r\"(?i)(Database|DBA|SQL|NoSQL|PostgreSQL|Storage|OLAP|Data Warehouse|Data Modeling|Oracle Database Engineer)\\w*[-\\s]?\",\n",
    "\n",
    "    # 🔹 **Data Operations & Infrastructure**\n",
    "    \"Data Operations Engineer\": r\"(?i)(Data Operations|DataOps Engineer|Data Reliability|Data Infrastructure|Data Deployment|Data Platform Engineer|Data Integration Engineer|Data Infrastructure Engineer)\\w*[-\\s]?\",\n",
    "    \"Data Center Engineer\": r\"(?i)(Data Center|Datacenter Engineer|Data Center Technician|Data Center Operations|Data Center Infrastructure|Datacenter Network Engineer|Datacenter Technician)\\w*[-\\s]?\",\n",
    "\n",
    "    # 🔹 **Data Compliance & Security**\n",
    "    \"Data Governance Specialist\": r\"(?i)(Data Governance|Data Steward|Data Quality Manager|Master Data Management|Regulatory Data Analyst)\\w*[-\\s]?\",\n",
    "    \"Data Compliance & Risk Analyst\": r\"(?i)(Data Compliance|Data Protection|Data Security|Data Privacy|Data Risk Analyst|AML|BSA|HIPAA Compliance|Cyber Risk Analyst|Cyber Risk & Analysis Manager)\\w*[-\\s]?\",\n",
    "    \"Data Protection Officer\": r\"(?i)(Data Protection Officer|DPO|Data Security Specialist|Data Privacy Analyst)\\w*[-\\s]?\",\n",
    "\n",
    "    # 🔹 **Strategic & Management Roles**\n",
    "    \"Data Strategy Manager\": r\"(?i)(Data Strategy Manager|Data Strategy Consultant|Enterprise Data Consultant|Decision Consultant|Data Monetization|Data Consultant)\\w*[-\\s]?\",\n",
    "    \"Data Science Manager\": r\"(?i)(Data Science Manager|Chief Data Scientist|Head of AI|Data Science Leader|Director Data Science|Senior Director Data Science|Manager Data Science|Lead Data Science|AI Data Science Lead)\\w*[-\\s]?\",\n",
    "    \"Senior Data Engineer\": r\"(?i)(Senior Data Engineer|Lead Data Engineer|Principal Data Engineer|BigData Lead|Data Engineering Manager)\\w*[-\\s]?\",\n",
    "\n",
    "    # 🔹 **Academic & Research Roles**\n",
    "    \"Professor - Data Science\": r\"(?i)(Professor - Data Science|Research Scientist|Data Science Researcher|Lecturer in Data Science|Senior Research Associate|Research Fellow|Associate Professor|Assistant Professor Data Science|Postdoctoral Scientist)\\w*[-\\s]?\",\n",
    "    \"Research Engineer - Data Science\": r\"(?i)(Research Engineer Data Science)\\w*[-\\s]?\",\n",
    "    \n",
    "    # 🔹 **Catch-All Categories**\n",
    "    \"Data Engineer\": r\"(?i)(Data Engineer|ETL Developer|Data Pipeline Developer|Data Infrastructure Engineer|Data Management Engineer|Data Processing Engineer|Data Platform Developer|Data Solutions Engineer|Data Science Developer)\\w*[-\\s]?\",\n",
    "    \"Data Specialist\": r\"(?i)(Data Specialist|Data Coordinator|Data Entry Specialist|Data Technician|Data Clerk|EDI Engineer)\\w*[-\\s]?\",\n",
    "    \"Data Consultant\": r\"(?i)(Data Consultant|Business Intelligence Consultant|Data Insights Consultant|Analytics Consultant|Data Solutions Consultant)\\w*[-\\s]?\"\n",
    "}\n"
   ]
  },
  {
   "cell_type": "markdown",
   "metadata": {},
   "source": [
    "### **Ordering and Regex Rule Considerations**  \n",
    "\n",
    "One key realization during this process is that the **ordering of technical job titles is crucial** when creating the regex rules and defining the keyword list. Since regex rules are applied **in the order they appear** in the keyword list, their sequence directly affects classification.  \n",
    "\n",
    "For example, if a **specialized job title** includes the words **\"Data Engineer\"**, and \"Data Engineer\" appears earlier in the list, then the specialized role will be **incorrectly classified as a Data Engineer** rather than its intended category. This is **not the desired outcome**, as it:  \n",
    "- **Introduces cross-contamination of skills**, misplacing skills within incorrect job categories.  \n",
    "- **Causes misclassification of specialized roles**, which is particularly problematic since we already have **low sample sizes for many of these roles**.  \n",
    "\n",
    "Given that specialized job titles have **far fewer data points**, it is essential that the **ordering of regex rules prioritizes specificity first** before assigning roles to broader categories. If not accounted for, this could skew job title classifications, ultimately affecting the accuracy of the **skill-to-job mapping process**.  \n",
    "\n",
    "At this stage, I believe it will be necessary to explore **light categorization work** to expand the relational database for each skill and job title while ensuring the **correct sequence of regex rules**. This will be coupled with **keyword-based job categorization**, refining the process to directly relate skills within the **exact same job title** and prevent incorrect generalization of specialized roles."
   ]
  },
  {
   "cell_type": "code",
   "execution_count": 9,
   "metadata": {},
   "outputs": [],
   "source": [
    "# Create Temporary function\n",
    "def classify_technical_jobs(job_title):\n",
    "    return classify(job_title, technical_job_titles)"
   ]
  },
  {
   "cell_type": "code",
   "execution_count": 10,
   "metadata": {},
   "outputs": [
    {
     "data": {
      "application/vnd.microsoft.datawrangler.viewer.v0+json": {
       "columns": [
        {
         "name": "index",
         "rawType": "int64",
         "type": "integer"
        },
        {
         "name": "job_link",
         "rawType": "object",
         "type": "string"
        },
        {
         "name": "last_processed_time",
         "rawType": "object",
         "type": "string"
        },
        {
         "name": "last_status",
         "rawType": "object",
         "type": "string"
        },
        {
         "name": "got_summary",
         "rawType": "object",
         "type": "string"
        },
        {
         "name": "got_ner",
         "rawType": "object",
         "type": "string"
        },
        {
         "name": "is_being_worked",
         "rawType": "object",
         "type": "string"
        },
        {
         "name": "job_title",
         "rawType": "object",
         "type": "string"
        },
        {
         "name": "company",
         "rawType": "object",
         "type": "string"
        },
        {
         "name": "job_location",
         "rawType": "object",
         "type": "string"
        },
        {
         "name": "first_seen",
         "rawType": "object",
         "type": "string"
        },
        {
         "name": "search_city",
         "rawType": "object",
         "type": "string"
        },
        {
         "name": "search_country",
         "rawType": "object",
         "type": "string"
        },
        {
         "name": "search_position",
         "rawType": "object",
         "type": "string"
        },
        {
         "name": "job_level",
         "rawType": "object",
         "type": "string"
        },
        {
         "name": "job_type",
         "rawType": "object",
         "type": "string"
        },
        {
         "name": "job_classification",
         "rawType": "object",
         "type": "string"
        },
        {
         "name": "keyword",
         "rawType": "object",
         "type": "string"
        }
       ],
       "conversionMethod": "pd.DataFrame",
       "ref": "ca4bb21b-baea-4b82-b13b-2875766d15b8",
       "rows": [
        [
         "0",
         "https://www.linkedin.com/jobs/view/senior-machine-learning-engineer-at-jobs-for-humanity-3804053819",
         "2024-01-21 08:08:48.031964+00",
         "Finished NER",
         "t",
         "t",
         "f",
         "Senior Machine Learning Engineer",
         "Jobs for Humanity",
         "New Haven, CT",
         "2024-01-14",
         "East Haven",
         "United States",
         "Agricultural-Research Engineer",
         "Mid senior",
         "Onsite",
         "Machine Learning Engineer",
         "Machine Learning Engineer"
        ],
        [
         "1",
         "https://www.linkedin.com/jobs/view/principal-software-engineer-ml-accelerators-at-aurora-3703455068",
         "2024-01-20 04:02:12.331406+00",
         "Finished NER",
         "t",
         "t",
         "f",
         "Principal Software Engineer, ML Accelerators",
         "Aurora",
         "San Francisco, CA",
         "2024-01-14",
         "El Cerrito",
         "United States",
         "Set-Key Driver",
         "Mid senior",
         "Onsite",
         "Software Engineer",
         "Software Engineer"
        ],
        [
         "2",
         "https://www.linkedin.com/jobs/view/senior-etl-data-warehouse-specialist-at-adame-services-llc-3765023888",
         "2024-01-21 08:08:31.941595+00",
         "Finished NER",
         "t",
         "t",
         "f",
         "Senior ETL Data Warehouse Specialist",
         "Adame Services LLC",
         "New York, NY",
         "2024-01-14",
         "Middletown",
         "United States",
         "Technical Support Specialist",
         "Associate",
         "Onsite",
         "Database Engineer",
         "Data Warehouse"
        ],
        [
         "3",
         "https://www.linkedin.com/jobs/view/senior-data-warehouse-developer-architect-at-morph-enterprise-3794602483",
         "2024-01-20 15:30:55.796572+00",
         "Finished NER",
         "t",
         "t",
         "f",
         "Senior Data Warehouse Developer / Architect",
         "Morph Enterprise",
         "Harrisburg, PA",
         "2024-01-12",
         "Lebanon",
         "United States",
         "Architect",
         "Mid senior",
         "Onsite",
         "Database Engineer",
         "Data Warehouse"
        ],
        [
         "4",
         "https://www.linkedin.com/jobs/view/lead-data-engineer-at-dice-3805948138",
         "2024-01-21 08:08:58.312124+00",
         "Finished NER",
         "t",
         "t",
         "f",
         "Lead Data Engineer",
         "Dice",
         "Plano, TX",
         "2024-01-14",
         "McKinney",
         "United States",
         "Maintenance Data Analyst",
         "Mid senior",
         "Onsite",
         "Senior Data Engineer",
         "Lead Data Engineer"
        ]
       ],
       "shape": {
        "columns": 17,
        "rows": 5
       }
      },
      "text/html": [
       "<div>\n",
       "<style scoped>\n",
       "    .dataframe tbody tr th:only-of-type {\n",
       "        vertical-align: middle;\n",
       "    }\n",
       "\n",
       "    .dataframe tbody tr th {\n",
       "        vertical-align: top;\n",
       "    }\n",
       "\n",
       "    .dataframe thead th {\n",
       "        text-align: right;\n",
       "    }\n",
       "</style>\n",
       "<table border=\"1\" class=\"dataframe\">\n",
       "  <thead>\n",
       "    <tr style=\"text-align: right;\">\n",
       "      <th></th>\n",
       "      <th>job_link</th>\n",
       "      <th>last_processed_time</th>\n",
       "      <th>last_status</th>\n",
       "      <th>got_summary</th>\n",
       "      <th>got_ner</th>\n",
       "      <th>is_being_worked</th>\n",
       "      <th>job_title</th>\n",
       "      <th>company</th>\n",
       "      <th>job_location</th>\n",
       "      <th>first_seen</th>\n",
       "      <th>search_city</th>\n",
       "      <th>search_country</th>\n",
       "      <th>search_position</th>\n",
       "      <th>job_level</th>\n",
       "      <th>job_type</th>\n",
       "      <th>job_classification</th>\n",
       "      <th>keyword</th>\n",
       "    </tr>\n",
       "  </thead>\n",
       "  <tbody>\n",
       "    <tr>\n",
       "      <th>0</th>\n",
       "      <td>https://www.linkedin.com/jobs/view/senior-mach...</td>\n",
       "      <td>2024-01-21 08:08:48.031964+00</td>\n",
       "      <td>Finished NER</td>\n",
       "      <td>t</td>\n",
       "      <td>t</td>\n",
       "      <td>f</td>\n",
       "      <td>Senior Machine Learning Engineer</td>\n",
       "      <td>Jobs for Humanity</td>\n",
       "      <td>New Haven, CT</td>\n",
       "      <td>2024-01-14</td>\n",
       "      <td>East Haven</td>\n",
       "      <td>United States</td>\n",
       "      <td>Agricultural-Research Engineer</td>\n",
       "      <td>Mid senior</td>\n",
       "      <td>Onsite</td>\n",
       "      <td>Machine Learning Engineer</td>\n",
       "      <td>Machine Learning Engineer</td>\n",
       "    </tr>\n",
       "    <tr>\n",
       "      <th>1</th>\n",
       "      <td>https://www.linkedin.com/jobs/view/principal-s...</td>\n",
       "      <td>2024-01-20 04:02:12.331406+00</td>\n",
       "      <td>Finished NER</td>\n",
       "      <td>t</td>\n",
       "      <td>t</td>\n",
       "      <td>f</td>\n",
       "      <td>Principal Software Engineer, ML Accelerators</td>\n",
       "      <td>Aurora</td>\n",
       "      <td>San Francisco, CA</td>\n",
       "      <td>2024-01-14</td>\n",
       "      <td>El Cerrito</td>\n",
       "      <td>United States</td>\n",
       "      <td>Set-Key Driver</td>\n",
       "      <td>Mid senior</td>\n",
       "      <td>Onsite</td>\n",
       "      <td>Software Engineer</td>\n",
       "      <td>Software Engineer</td>\n",
       "    </tr>\n",
       "    <tr>\n",
       "      <th>2</th>\n",
       "      <td>https://www.linkedin.com/jobs/view/senior-etl-...</td>\n",
       "      <td>2024-01-21 08:08:31.941595+00</td>\n",
       "      <td>Finished NER</td>\n",
       "      <td>t</td>\n",
       "      <td>t</td>\n",
       "      <td>f</td>\n",
       "      <td>Senior ETL Data Warehouse Specialist</td>\n",
       "      <td>Adame Services LLC</td>\n",
       "      <td>New York, NY</td>\n",
       "      <td>2024-01-14</td>\n",
       "      <td>Middletown</td>\n",
       "      <td>United States</td>\n",
       "      <td>Technical Support Specialist</td>\n",
       "      <td>Associate</td>\n",
       "      <td>Onsite</td>\n",
       "      <td>Database Engineer</td>\n",
       "      <td>Data Warehouse</td>\n",
       "    </tr>\n",
       "    <tr>\n",
       "      <th>3</th>\n",
       "      <td>https://www.linkedin.com/jobs/view/senior-data...</td>\n",
       "      <td>2024-01-20 15:30:55.796572+00</td>\n",
       "      <td>Finished NER</td>\n",
       "      <td>t</td>\n",
       "      <td>t</td>\n",
       "      <td>f</td>\n",
       "      <td>Senior Data Warehouse Developer / Architect</td>\n",
       "      <td>Morph Enterprise</td>\n",
       "      <td>Harrisburg, PA</td>\n",
       "      <td>2024-01-12</td>\n",
       "      <td>Lebanon</td>\n",
       "      <td>United States</td>\n",
       "      <td>Architect</td>\n",
       "      <td>Mid senior</td>\n",
       "      <td>Onsite</td>\n",
       "      <td>Database Engineer</td>\n",
       "      <td>Data Warehouse</td>\n",
       "    </tr>\n",
       "    <tr>\n",
       "      <th>4</th>\n",
       "      <td>https://www.linkedin.com/jobs/view/lead-data-e...</td>\n",
       "      <td>2024-01-21 08:08:58.312124+00</td>\n",
       "      <td>Finished NER</td>\n",
       "      <td>t</td>\n",
       "      <td>t</td>\n",
       "      <td>f</td>\n",
       "      <td>Lead Data Engineer</td>\n",
       "      <td>Dice</td>\n",
       "      <td>Plano, TX</td>\n",
       "      <td>2024-01-14</td>\n",
       "      <td>McKinney</td>\n",
       "      <td>United States</td>\n",
       "      <td>Maintenance Data Analyst</td>\n",
       "      <td>Mid senior</td>\n",
       "      <td>Onsite</td>\n",
       "      <td>Senior Data Engineer</td>\n",
       "      <td>Lead Data Engineer</td>\n",
       "    </tr>\n",
       "  </tbody>\n",
       "</table>\n",
       "</div>"
      ],
      "text/plain": [
       "                                            job_link  \\\n",
       "0  https://www.linkedin.com/jobs/view/senior-mach...   \n",
       "1  https://www.linkedin.com/jobs/view/principal-s...   \n",
       "2  https://www.linkedin.com/jobs/view/senior-etl-...   \n",
       "3  https://www.linkedin.com/jobs/view/senior-data...   \n",
       "4  https://www.linkedin.com/jobs/view/lead-data-e...   \n",
       "\n",
       "             last_processed_time   last_status got_summary got_ner  \\\n",
       "0  2024-01-21 08:08:48.031964+00  Finished NER           t       t   \n",
       "1  2024-01-20 04:02:12.331406+00  Finished NER           t       t   \n",
       "2  2024-01-21 08:08:31.941595+00  Finished NER           t       t   \n",
       "3  2024-01-20 15:30:55.796572+00  Finished NER           t       t   \n",
       "4  2024-01-21 08:08:58.312124+00  Finished NER           t       t   \n",
       "\n",
       "  is_being_worked                                     job_title  \\\n",
       "0               f              Senior Machine Learning Engineer   \n",
       "1               f  Principal Software Engineer, ML Accelerators   \n",
       "2               f          Senior ETL Data Warehouse Specialist   \n",
       "3               f   Senior Data Warehouse Developer / Architect   \n",
       "4               f                            Lead Data Engineer   \n",
       "\n",
       "              company       job_location  first_seen search_city  \\\n",
       "0   Jobs for Humanity      New Haven, CT  2024-01-14  East Haven   \n",
       "1              Aurora  San Francisco, CA  2024-01-14  El Cerrito   \n",
       "2  Adame Services LLC       New York, NY  2024-01-14  Middletown   \n",
       "3    Morph Enterprise     Harrisburg, PA  2024-01-12     Lebanon   \n",
       "4                Dice          Plano, TX  2024-01-14    McKinney   \n",
       "\n",
       "  search_country                 search_position   job_level job_type  \\\n",
       "0  United States  Agricultural-Research Engineer  Mid senior   Onsite   \n",
       "1  United States                  Set-Key Driver  Mid senior   Onsite   \n",
       "2  United States    Technical Support Specialist   Associate   Onsite   \n",
       "3  United States                       Architect  Mid senior   Onsite   \n",
       "4  United States        Maintenance Data Analyst  Mid senior   Onsite   \n",
       "\n",
       "          job_classification                    keyword  \n",
       "0  Machine Learning Engineer  Machine Learning Engineer  \n",
       "1          Software Engineer          Software Engineer  \n",
       "2          Database Engineer             Data Warehouse  \n",
       "3          Database Engineer             Data Warehouse  \n",
       "4       Senior Data Engineer         Lead Data Engineer  "
      ]
     },
     "execution_count": 10,
     "metadata": {},
     "output_type": "execute_result"
    }
   ],
   "source": [
    "# Apply the function to the job_postings dataset\n",
    "technical_job_classifications = job_postings.copy()\n",
    "technical_job_classifications['job_classification'], technical_job_classifications['keyword'] = zip(*technical_job_classifications['job_title'].apply(classify_technical_jobs))\n",
    "\n",
    "# Display the first few rows of the new table\n",
    "technical_job_classifications.head()"
   ]
  },
  {
   "cell_type": "code",
   "execution_count": 11,
   "metadata": {},
   "outputs": [
    {
     "data": {
      "application/vnd.microsoft.datawrangler.viewer.v0+json": {
       "columns": [
        {
         "name": "index",
         "rawType": "int64",
         "type": "integer"
        },
        {
         "name": "job_title",
         "rawType": "object",
         "type": "string"
        }
       ],
       "conversionMethod": "pd.DataFrame",
       "ref": "166d2019-aa4a-4b25-923f-2cc2f70f73db",
       "rows": [
        [
         "6",
         "Manager, Cyber Risk & Analysis (Machine Learning)"
        ],
        [
         "7",
         "Principal Associate, Data Loss Prevention (DLP) Engineer"
        ],
        [
         "17",
         "Summer 2024 Datacenter Hardware Validation Engineer Undergrad Co-Op/ Intern"
        ],
        [
         "33",
         "Principal Associate, Data Loss Prevention (DLP) Engineer"
        ],
        [
         "43",
         "Sr Analyst IT - Data Science"
        ],
        [
         "45",
         "Distinguished Engineer, Card Tech Data (Remote-Elligble)"
        ],
        [
         "46",
         "Quality Coach / IQA - IT and Data Apprenticeships"
        ],
        [
         "57",
         "Medical Laboratory Scientist MLS-MT - Incentive Eligible"
        ],
        [
         "58",
         "Registered Nurse (RN) - Medical Laboratory Tech (MLT) - Per Diem at HealthTrust Workforce Solutions"
        ],
        [
         "63",
         "Medical Technologist MT or MLT"
        ],
        [
         "68",
         "Manager, Data Loss Prevention (DLP) Engineer (Symantec)"
        ],
        [
         "75",
         "Manager, Data Loss Prevention (DLP) Engineer (Symantec)"
        ],
        [
         "83",
         "SR FIELD APPLICATION ENGINEER- DATA & DEVICES"
        ],
        [
         "84",
         "Senior Data Analysis Engineer"
        ],
        [
         "87",
         "Principal Associate, Data Loss Prevention (DLP) Engineer"
        ],
        [
         "95",
         "Clinical Data Operator - Temp"
        ],
        [
         "104",
         "IIB, Datapower/APIC Lead Developer"
        ],
        [
         "112",
         "MLS Dayshift Lead - Short Pump Emergency Center"
        ],
        [
         "116",
         "Mechanical Supervisor - MLC 2312"
        ],
        [
         "126",
         "Canvas Consultant (Member Service Specialist) - Littleton, NMLS"
        ],
        [
         "127",
         "Manager, Data - Corrugated Products"
        ],
        [
         "137",
         "Environmental Data Management Specialist"
        ],
        [
         "139",
         "Medical Lab Scientist (MLS)"
        ],
        [
         "142",
         "Medical Technologist MT or MLT"
        ],
        [
         "149",
         "Data Control Clerk II"
        ],
        [
         "151",
         "Datacentre Technician"
        ],
        [
         "166",
         "Manager, Cyber Risk & Analysis (Machine Learning)"
        ],
        [
         "174",
         "Volunteer: website maintenance/content manager - Joomla required"
        ],
        [
         "180",
         "Data/CRM Specialist"
        ],
        [
         "194",
         "Datacenter Analyst"
        ],
        [
         "215",
         "Neighborhood Branch Leader - Brighton, NMLS"
        ],
        [
         "217",
         "Senior Datacenter Product Development Engineer"
        ],
        [
         "219",
         "Medical Technologist (MT MLT) - Core Lab - Middletown - Part-Time - Evenings"
        ],
        [
         "220",
         "Staff Engineer, Test Data and Instrumentation"
        ],
        [
         "221",
         "Data Editor (INDG)"
        ],
        [
         "223",
         "Medical Technologist (MT/MLT) - Competitive Package"
        ],
        [
         "225",
         "Manager, Product Manager -- Machine Learning Experience, Enterprise Platform Development Team"
        ],
        [
         "226",
         "HIM Data Integrity Spec 1"
        ],
        [
         "227",
         "2023-61808 - Technical Writer - XML Documentation"
        ],
        [
         "229",
         "Travel Sales Consultant - Bromley"
        ],
        [
         "237",
         "Sr. Data Scienctist - Behaivior"
        ],
        [
         "239",
         "Sales Director - Data & AI"
        ],
        [
         "248",
         "IT Specialist (DATAMGT)"
        ],
        [
         "256",
         "Bioinformatics Scientist - Virology Drug Discovery and Data Analysis"
        ],
        [
         "257",
         "Lab Scientist (MT/MLT/CLS/CLT) - 3:00AM-3:30PM, Weekend Days (Premium contr"
        ],
        [
         "258",
         "Engineer - Machine Learning Track"
        ],
        [
         "264",
         "Senior Manager, Data Science"
        ],
        [
         "267",
         "Dynamics 365 CE Sr. Developer (Remote) [NTT DATA]"
        ],
        [
         "268",
         "Medical Technologist/MLT - Full Time *Sign On*"
        ],
        [
         "272",
         "Retail Sales Consultant - MLK"
        ]
       ],
       "shape": {
        "columns": 1,
        "rows": 3088
       }
      },
      "text/html": [
       "<div>\n",
       "<style scoped>\n",
       "    .dataframe tbody tr th:only-of-type {\n",
       "        vertical-align: middle;\n",
       "    }\n",
       "\n",
       "    .dataframe tbody tr th {\n",
       "        vertical-align: top;\n",
       "    }\n",
       "\n",
       "    .dataframe thead th {\n",
       "        text-align: right;\n",
       "    }\n",
       "</style>\n",
       "<table border=\"1\" class=\"dataframe\">\n",
       "  <thead>\n",
       "    <tr style=\"text-align: right;\">\n",
       "      <th></th>\n",
       "      <th>job_title</th>\n",
       "    </tr>\n",
       "  </thead>\n",
       "  <tbody>\n",
       "    <tr>\n",
       "      <th>6</th>\n",
       "      <td>Manager, Cyber Risk &amp; Analysis (Machine Learning)</td>\n",
       "    </tr>\n",
       "    <tr>\n",
       "      <th>7</th>\n",
       "      <td>Principal Associate, Data Loss Prevention (DLP...</td>\n",
       "    </tr>\n",
       "    <tr>\n",
       "      <th>17</th>\n",
       "      <td>Summer 2024 Datacenter Hardware Validation Eng...</td>\n",
       "    </tr>\n",
       "    <tr>\n",
       "      <th>33</th>\n",
       "      <td>Principal Associate, Data Loss Prevention (DLP...</td>\n",
       "    </tr>\n",
       "    <tr>\n",
       "      <th>43</th>\n",
       "      <td>Sr Analyst IT - Data Science</td>\n",
       "    </tr>\n",
       "    <tr>\n",
       "      <th>...</th>\n",
       "      <td>...</td>\n",
       "    </tr>\n",
       "    <tr>\n",
       "      <th>12201</th>\n",
       "      <td>Assistant Professor of Data Science</td>\n",
       "    </tr>\n",
       "    <tr>\n",
       "      <th>12202</th>\n",
       "      <td>Associate Director, Data &amp; Specimen Governance...</td>\n",
       "    </tr>\n",
       "    <tr>\n",
       "      <th>12206</th>\n",
       "      <td>Data Management Analyst</td>\n",
       "    </tr>\n",
       "    <tr>\n",
       "      <th>12210</th>\n",
       "      <td>Data Entry Clerk - Excel</td>\n",
       "    </tr>\n",
       "    <tr>\n",
       "      <th>12216</th>\n",
       "      <td>Medical Technologist, MLS or MLT</td>\n",
       "    </tr>\n",
       "  </tbody>\n",
       "</table>\n",
       "<p>3088 rows × 1 columns</p>\n",
       "</div>"
      ],
      "text/plain": [
       "                                               job_title\n",
       "6      Manager, Cyber Risk & Analysis (Machine Learning)\n",
       "7      Principal Associate, Data Loss Prevention (DLP...\n",
       "17     Summer 2024 Datacenter Hardware Validation Eng...\n",
       "33     Principal Associate, Data Loss Prevention (DLP...\n",
       "43                          Sr Analyst IT - Data Science\n",
       "...                                                  ...\n",
       "12201                Assistant Professor of Data Science\n",
       "12202  Associate Director, Data & Specimen Governance...\n",
       "12206                            Data Management Analyst\n",
       "12210                           Data Entry Clerk - Excel\n",
       "12216                   Medical Technologist, MLS or MLT\n",
       "\n",
       "[3088 rows x 1 columns]"
      ]
     },
     "metadata": {},
     "output_type": "display_data"
    }
   ],
   "source": [
    "# see a list of all unclassified job titles\n",
    "unclassified_jobs = technical_job_classifications[technical_job_classifications['keyword'] == 'unclassified'][['job_title']]\n",
    "\n",
    "# Display the unclassified job titles\n",
    "display(unclassified_jobs)\n"
   ]
  },
  {
   "cell_type": "markdown",
   "metadata": {},
   "source": [
    "#### Keyword Matching Breakdown"
   ]
  },
  {
   "cell_type": "code",
   "execution_count": 12,
   "metadata": {},
   "outputs": [
    {
     "data": {
      "application/vnd.microsoft.datawrangler.viewer.v0+json": {
       "columns": [
        {
         "name": "keyword",
         "rawType": "object",
         "type": "string"
        },
        {
         "name": "count",
         "rawType": "int64",
         "type": "integer"
        }
       ],
       "conversionMethod": "pd.DataFrame",
       "ref": "17f08cd4-01d8-4be3-a540-b8c1f31047eb",
       "rows": [
        [
         "unclassified",
         "3088"
        ],
        [
         "Data Analyst",
         "1807"
        ],
        [
         "Data Scientist",
         "777"
        ],
        [
         "Data Engineer",
         "616"
        ],
        [
         "Database",
         "603"
        ],
        [
         "Data Center",
         "569"
        ],
        [
         "Senior Data Engineer",
         "438"
        ],
        [
         "Machine Learning Engineer",
         "420"
        ],
        [
         "Analytics",
         "356"
        ],
        [
         "Data Architect",
         "275"
        ],
        [
         "Lead Data Engineer",
         "250"
        ],
        [
         "Software Engineer",
         "197"
        ],
        [
         "Data Engineering",
         "186"
        ],
        [
         "Data Manager",
         "169"
        ],
        [
         "Mlops",
         "162"
        ],
        [
         "Aml",
         "97"
        ],
        [
         "Reporting",
         "95"
        ],
        [
         "Data Specialist",
         "84"
        ],
        [
         "Data Modeling",
         "75"
        ],
        [
         "Data Governance",
         "74"
        ],
        [
         "Sql",
         "72"
        ],
        [
         "Big Data",
         "65"
        ],
        [
         "Data Warehouse",
         "56"
        ],
        [
         "Data Privacy",
         "53"
        ],
        [
         "Data Centers",
         "50"
        ],
        [
         "Master Data Management",
         "50"
        ],
        [
         "Data Steward",
         "46"
        ],
        [
         "Data Operations",
         "46"
        ],
        [
         "Data Protection",
         "43"
        ],
        [
         "Machine Learning Engineering",
         "39"
        ],
        [
         "Data Security",
         "37"
        ],
        [
         "Azure Data",
         "37"
        ],
        [
         "Cloud Data",
         "37"
        ],
        [
         "Business Intelligence",
         "37"
        ],
        [
         "Datacenter Technician",
         "36"
        ],
        [
         "Financial Data Analyst",
         "36"
        ],
        [
         "Bsa",
         "35"
        ],
        [
         "Data Engineering Manager",
         "33"
        ],
        [
         "Database Architect",
         "32"
        ],
        [
         "Amloops",
         "32"
        ],
        [
         "Data Entry Specialist",
         "27"
        ],
        [
         "Data Integration",
         "27"
        ],
        [
         "Platform Engineer",
         "27"
        ],
        [
         "Data Science Manager",
         "26"
        ],
        [
         "Senior Data Architect",
         "26"
        ],
        [
         "Insights",
         "24"
        ],
        [
         "Ml Engineer",
         "24"
        ],
        [
         "Visualization",
         "24"
        ],
        [
         "Principal Data Engineer",
         "23"
        ],
        [
         "Machine Learning Operations",
         "22"
        ]
       ],
       "shape": {
        "columns": 1,
        "rows": 209
       }
      },
      "text/html": [
       "<div>\n",
       "<style scoped>\n",
       "    .dataframe tbody tr th:only-of-type {\n",
       "        vertical-align: middle;\n",
       "    }\n",
       "\n",
       "    .dataframe tbody tr th {\n",
       "        vertical-align: top;\n",
       "    }\n",
       "\n",
       "    .dataframe thead th {\n",
       "        text-align: right;\n",
       "    }\n",
       "</style>\n",
       "<table border=\"1\" class=\"dataframe\">\n",
       "  <thead>\n",
       "    <tr style=\"text-align: right;\">\n",
       "      <th></th>\n",
       "      <th>count</th>\n",
       "    </tr>\n",
       "    <tr>\n",
       "      <th>keyword</th>\n",
       "      <th></th>\n",
       "    </tr>\n",
       "  </thead>\n",
       "  <tbody>\n",
       "    <tr>\n",
       "      <th>unclassified</th>\n",
       "      <td>3088</td>\n",
       "    </tr>\n",
       "    <tr>\n",
       "      <th>Data Analyst</th>\n",
       "      <td>1807</td>\n",
       "    </tr>\n",
       "    <tr>\n",
       "      <th>Data Scientist</th>\n",
       "      <td>777</td>\n",
       "    </tr>\n",
       "    <tr>\n",
       "      <th>Data Engineer</th>\n",
       "      <td>616</td>\n",
       "    </tr>\n",
       "    <tr>\n",
       "      <th>Database</th>\n",
       "      <td>603</td>\n",
       "    </tr>\n",
       "    <tr>\n",
       "      <th>...</th>\n",
       "      <td>...</td>\n",
       "    </tr>\n",
       "    <tr>\n",
       "      <th>Data Platform Developer</th>\n",
       "      <td>1</td>\n",
       "    </tr>\n",
       "    <tr>\n",
       "      <th>Ai Data Science Lead</th>\n",
       "      <td>1</td>\n",
       "    </tr>\n",
       "    <tr>\n",
       "      <th>Data Streaming Architect</th>\n",
       "      <td>1</td>\n",
       "    </tr>\n",
       "    <tr>\n",
       "      <th>Data Storage Engineer</th>\n",
       "      <td>1</td>\n",
       "    </tr>\n",
       "    <tr>\n",
       "      <th>Aiml Data Scientist</th>\n",
       "      <td>1</td>\n",
       "    </tr>\n",
       "  </tbody>\n",
       "</table>\n",
       "<p>209 rows × 1 columns</p>\n",
       "</div>"
      ],
      "text/plain": [
       "                          count\n",
       "keyword                        \n",
       "unclassified               3088\n",
       "Data Analyst               1807\n",
       "Data Scientist              777\n",
       "Data Engineer               616\n",
       "Database                    603\n",
       "...                         ...\n",
       "Data Platform Developer       1\n",
       "Ai Data Science Lead          1\n",
       "Data Streaming Architect      1\n",
       "Data Storage Engineer         1\n",
       "Aiml Data Scientist           1\n",
       "\n",
       "[209 rows x 1 columns]"
      ]
     },
     "metadata": {},
     "output_type": "display_data"
    }
   ],
   "source": [
    "# count the number of each keyword occurrences\n",
    "technical_job_counts = pd.DataFrame(technical_job_classifications['keyword'].value_counts()).reset_index().set_index('keyword')\n",
    "\n",
    "# display the counts\n",
    "display(technical_job_counts)\n"
   ]
  },
  {
   "cell_type": "code",
   "execution_count": 13,
   "metadata": {},
   "outputs": [
    {
     "data": {
      "image/png": "[encoded data removed]",
      "text/plain": [
       "<Figure size 1200x800 with 1 Axes>"
      ]
     },
     "metadata": {},
     "output_type": "display_data"
    }
   ],
   "source": [
    "# remove unclassified counts\n",
    "filtered_counts = technical_job_counts[technical_job_counts.index != 'unclassified']\n",
    "\n",
    "# limit to top 20\n",
    "filtered_counts = filtered_counts.head(20)\n",
    "\n",
    "# Create the column histogram\n",
    "plt.figure(figsize=(12, 8))\n",
    "plt.bar(filtered_counts.index, filtered_counts['count'], color='skyblue')\n",
    "plt.xlabel('Job Title')\n",
    "plt.ylabel('Count')\n",
    "plt.title('Distribution of Job Title Keywords')\n",
    "plt.xticks(rotation=45, ha='right')\n",
    "plt.grid(True, color='white')\n",
    "\n",
    "# save figure\n",
    "plt.savefig('../../../../resources/eda_1.1_keyword_frequency_distribution_bar.png')\n",
    "\n",
    "plt.tight_layout()\n",
    "plt.show()"
   ]
  },
  {
   "cell_type": "markdown",
   "metadata": {},
   "source": [
    "### Category Matching Breakdown "
   ]
  },
  {
   "cell_type": "code",
   "execution_count": 14,
   "metadata": {},
   "outputs": [
    {
     "data": {
      "application/vnd.microsoft.datawrangler.viewer.v0+json": {
       "columns": [
        {
         "name": "job_classification",
         "rawType": "object",
         "type": "string"
        },
        {
         "name": "count",
         "rawType": "int64",
         "type": "integer"
        }
       ],
       "conversionMethod": "pd.DataFrame",
       "ref": "6defcce5-0d39-4441-aa0f-956e41a15ff6",
       "rows": [
        [
         "unclassified",
         "3088"
        ],
        [
         "Data Analyst",
         "2415"
        ],
        [
         "Data Scientist",
         "815"
        ],
        [
         "Data Engineer",
         "812"
        ],
        [
         "Database Engineer",
         "766"
        ],
        [
         "Senior Data Engineer",
         "751"
        ],
        [
         "Data Center Engineer",
         "664"
        ],
        [
         "Machine Learning Engineer",
         "499"
        ],
        [
         "Data Architect",
         "430"
        ],
        [
         "Data Compliance & Risk Analyst",
         "339"
        ],
        [
         "Software Engineer",
         "221"
        ],
        [
         "MLOps Engineer",
         "202"
        ],
        [
         "Data Manager",
         "192"
        ],
        [
         "Data Governance Specialist",
         "180"
        ],
        [
         "Data Specialist",
         "136"
        ],
        [
         "Big Data Engineer",
         "128"
        ],
        [
         "ETL Engineer",
         "73"
        ],
        [
         "Data Operations Engineer",
         "70"
        ],
        [
         "Cloud Data Engineer",
         "61"
        ],
        [
         "Senior Data Architect",
         "56"
        ],
        [
         "ML Research Scientist",
         "50"
        ],
        [
         "AI Research Scientist",
         "47"
        ],
        [
         "Professor - Data Science",
         "37"
        ],
        [
         "DevOps Engineer",
         "30"
        ],
        [
         "Data Science Manager",
         "29"
        ],
        [
         "Platform Engineer",
         "28"
        ],
        [
         "Financial Data Analyst",
         "25"
        ],
        [
         "Data Strategy Manager",
         "20"
        ],
        [
         "Senior Data Developer",
         "14"
        ],
        [
         "AI Software Engineer",
         "10"
        ],
        [
         "Quantitative Researcher",
         "10"
        ],
        [
         "Data Consultant",
         "5"
        ],
        [
         "AI Platform Engineer",
         "4"
        ],
        [
         "Business Data Scientist",
         "4"
        ],
        [
         "Data Lake Engineer",
         "3"
        ],
        [
         "Data Lake Architect",
         "2"
        ],
        [
         "AI/ML Algorithm Developer",
         "1"
        ]
       ],
       "shape": {
        "columns": 1,
        "rows": 37
       }
      },
      "text/html": [
       "<div>\n",
       "<style scoped>\n",
       "    .dataframe tbody tr th:only-of-type {\n",
       "        vertical-align: middle;\n",
       "    }\n",
       "\n",
       "    .dataframe tbody tr th {\n",
       "        vertical-align: top;\n",
       "    }\n",
       "\n",
       "    .dataframe thead th {\n",
       "        text-align: right;\n",
       "    }\n",
       "</style>\n",
       "<table border=\"1\" class=\"dataframe\">\n",
       "  <thead>\n",
       "    <tr style=\"text-align: right;\">\n",
       "      <th></th>\n",
       "      <th>count</th>\n",
       "    </tr>\n",
       "    <tr>\n",
       "      <th>job_classification</th>\n",
       "      <th></th>\n",
       "    </tr>\n",
       "  </thead>\n",
       "  <tbody>\n",
       "    <tr>\n",
       "      <th>unclassified</th>\n",
       "      <td>3088</td>\n",
       "    </tr>\n",
       "    <tr>\n",
       "      <th>Data Analyst</th>\n",
       "      <td>2415</td>\n",
       "    </tr>\n",
       "    <tr>\n",
       "      <th>Data Scientist</th>\n",
       "      <td>815</td>\n",
       "    </tr>\n",
       "    <tr>\n",
       "      <th>Data Engineer</th>\n",
       "      <td>812</td>\n",
       "    </tr>\n",
       "    <tr>\n",
       "      <th>Database Engineer</th>\n",
       "      <td>766</td>\n",
       "    </tr>\n",
       "    <tr>\n",
       "      <th>Senior Data Engineer</th>\n",
       "      <td>751</td>\n",
       "    </tr>\n",
       "    <tr>\n",
       "      <th>Data Center Engineer</th>\n",
       "      <td>664</td>\n",
       "    </tr>\n",
       "    <tr>\n",
       "      <th>Machine Learning Engineer</th>\n",
       "      <td>499</td>\n",
       "    </tr>\n",
       "    <tr>\n",
       "      <th>Data Architect</th>\n",
       "      <td>430</td>\n",
       "    </tr>\n",
       "    <tr>\n",
       "      <th>Data Compliance &amp; Risk Analyst</th>\n",
       "      <td>339</td>\n",
       "    </tr>\n",
       "    <tr>\n",
       "      <th>Software Engineer</th>\n",
       "      <td>221</td>\n",
       "    </tr>\n",
       "    <tr>\n",
       "      <th>MLOps Engineer</th>\n",
       "      <td>202</td>\n",
       "    </tr>\n",
       "    <tr>\n",
       "      <th>Data Manager</th>\n",
       "      <td>192</td>\n",
       "    </tr>\n",
       "    <tr>\n",
       "      <th>Data Governance Specialist</th>\n",
       "      <td>180</td>\n",
       "    </tr>\n",
       "    <tr>\n",
       "      <th>Data Specialist</th>\n",
       "      <td>136</td>\n",
       "    </tr>\n",
       "    <tr>\n",
       "      <th>Big Data Engineer</th>\n",
       "      <td>128</td>\n",
       "    </tr>\n",
       "    <tr>\n",
       "      <th>ETL Engineer</th>\n",
       "      <td>73</td>\n",
       "    </tr>\n",
       "    <tr>\n",
       "      <th>Data Operations Engineer</th>\n",
       "      <td>70</td>\n",
       "    </tr>\n",
       "    <tr>\n",
       "      <th>Cloud Data Engineer</th>\n",
       "      <td>61</td>\n",
       "    </tr>\n",
       "    <tr>\n",
       "      <th>Senior Data Architect</th>\n",
       "      <td>56</td>\n",
       "    </tr>\n",
       "    <tr>\n",
       "      <th>ML Research Scientist</th>\n",
       "      <td>50</td>\n",
       "    </tr>\n",
       "    <tr>\n",
       "      <th>AI Research Scientist</th>\n",
       "      <td>47</td>\n",
       "    </tr>\n",
       "    <tr>\n",
       "      <th>Professor - Data Science</th>\n",
       "      <td>37</td>\n",
       "    </tr>\n",
       "    <tr>\n",
       "      <th>DevOps Engineer</th>\n",
       "      <td>30</td>\n",
       "    </tr>\n",
       "    <tr>\n",
       "      <th>Data Science Manager</th>\n",
       "      <td>29</td>\n",
       "    </tr>\n",
       "    <tr>\n",
       "      <th>Platform Engineer</th>\n",
       "      <td>28</td>\n",
       "    </tr>\n",
       "    <tr>\n",
       "      <th>Financial Data Analyst</th>\n",
       "      <td>25</td>\n",
       "    </tr>\n",
       "    <tr>\n",
       "      <th>Data Strategy Manager</th>\n",
       "      <td>20</td>\n",
       "    </tr>\n",
       "    <tr>\n",
       "      <th>Senior Data Developer</th>\n",
       "      <td>14</td>\n",
       "    </tr>\n",
       "    <tr>\n",
       "      <th>AI Software Engineer</th>\n",
       "      <td>10</td>\n",
       "    </tr>\n",
       "    <tr>\n",
       "      <th>Quantitative Researcher</th>\n",
       "      <td>10</td>\n",
       "    </tr>\n",
       "    <tr>\n",
       "      <th>Data Consultant</th>\n",
       "      <td>5</td>\n",
       "    </tr>\n",
       "    <tr>\n",
       "      <th>AI Platform Engineer</th>\n",
       "      <td>4</td>\n",
       "    </tr>\n",
       "    <tr>\n",
       "      <th>Business Data Scientist</th>\n",
       "      <td>4</td>\n",
       "    </tr>\n",
       "    <tr>\n",
       "      <th>Data Lake Engineer</th>\n",
       "      <td>3</td>\n",
       "    </tr>\n",
       "    <tr>\n",
       "      <th>Data Lake Architect</th>\n",
       "      <td>2</td>\n",
       "    </tr>\n",
       "    <tr>\n",
       "      <th>AI/ML Algorithm Developer</th>\n",
       "      <td>1</td>\n",
       "    </tr>\n",
       "  </tbody>\n",
       "</table>\n",
       "</div>"
      ],
      "text/plain": [
       "                                count\n",
       "job_classification                   \n",
       "unclassified                     3088\n",
       "Data Analyst                     2415\n",
       "Data Scientist                    815\n",
       "Data Engineer                     812\n",
       "Database Engineer                 766\n",
       "Senior Data Engineer              751\n",
       "Data Center Engineer              664\n",
       "Machine Learning Engineer         499\n",
       "Data Architect                    430\n",
       "Data Compliance & Risk Analyst    339\n",
       "Software Engineer                 221\n",
       "MLOps Engineer                    202\n",
       "Data Manager                      192\n",
       "Data Governance Specialist        180\n",
       "Data Specialist                   136\n",
       "Big Data Engineer                 128\n",
       "ETL Engineer                       73\n",
       "Data Operations Engineer           70\n",
       "Cloud Data Engineer                61\n",
       "Senior Data Architect              56\n",
       "ML Research Scientist              50\n",
       "AI Research Scientist              47\n",
       "Professor - Data Science           37\n",
       "DevOps Engineer                    30\n",
       "Data Science Manager               29\n",
       "Platform Engineer                  28\n",
       "Financial Data Analyst             25\n",
       "Data Strategy Manager              20\n",
       "Senior Data Developer              14\n",
       "AI Software Engineer               10\n",
       "Quantitative Researcher            10\n",
       "Data Consultant                     5\n",
       "AI Platform Engineer                4\n",
       "Business Data Scientist             4\n",
       "Data Lake Engineer                  3\n",
       "Data Lake Architect                 2\n",
       "AI/ML Algorithm Developer           1"
      ]
     },
     "metadata": {},
     "output_type": "display_data"
    }
   ],
   "source": [
    "# count the number of occurrences of each job classification\n",
    "job_classification_counts = pd.DataFrame(technical_job_classifications['job_classification'].value_counts()).reset_index().set_index('job_classification')\n",
    "\n",
    "# display the counts\n",
    "display(job_classification_counts)"
   ]
  },
  {
   "cell_type": "code",
   "execution_count": 15,
   "metadata": {},
   "outputs": [
    {
     "data": {
      "image/png": "[encoded data removed]",
      "text/plain": [
       "<Figure size 1200x800 with 1 Axes>"
      ]
     },
     "metadata": {},
     "output_type": "display_data"
    }
   ],
   "source": [
    "# remove unclassified counts\n",
    "job_classification_counts = job_classification_counts[job_classification_counts.index != 'unclassified']\n",
    "\n",
    "# create a column histogram\n",
    "plt.figure(figsize=(12, 8))\n",
    "plt.bar(job_classification_counts.index, job_classification_counts['count'], color='skyblue')\n",
    "plt.xlabel('Job Title')\n",
    "plt.ylabel('Count')\n",
    "plt.title('Distribution of Job Title Keywords')\n",
    "plt.xticks(rotation=45, ha='right')\n",
    "plt.grid(True, color='white')\n",
    "\n",
    "# save figure\n",
    "plt.savefig('../../../../resources/eda_1.1_job_classification_distribution_bar.png')\n",
    "\n",
    "plt.tight_layout()\n",
    "plt.show()\n"
   ]
  },
  {
   "cell_type": "markdown",
   "metadata": {},
   "source": [
    "### **Reflection: Refining Scope for the Minimum Viable Product**  \n",
    "\n",
    "After further discussions with the team and reviewing the **current keyword categorization results**, it became clear that while this does prove to be the basic framework we need to standardize the job titles, **the results are still largely messy, and many positions remain largely underrepresented**. This is due to several factors:  \n",
    "- Some roles suffer from **job scarcity**, where even with **one year of historical data**, there simply aren’t enough listings to extract meaningful insights.  \n",
    "- Other roles have **highly unique, complex, or overly descriptive job titles**, making them difficult to standardize with a simple **regex-based approach**. These roles would likely require **a more advanced methodology to fully capture variations**, which is beyond our current scope.  \n",
    "\n",
    "Given our project’s timeline, we’ve decided to **limit the scope for the Minimum Viable Product (MVP)** to **the most general and representative technical data science job titles**. The reasoning behind this decision is that:  \n",
    "- **Highly specialized roles do not have enough data points** to support useful visualizations.  \n",
    "- **Many job titles are still not fully standardized**, and refining them further would require **significantly more time than we currently have**.  \n",
    "- **Generalized technical job roles provide the best balance** between data availability and actionable insights.  \n",
    "\n",
    "With this refined approach, our focus will be on **technical data science roles that, after collecting all variations and experience levels, have at least 50–100 job listings**. This will ensure that our **visualizations for each job title  will remain meaningful and reliable**, while still allowing us to **deliver a structured and functional MVP within our current given time constraints**.  \n",
    "\n",
    "Moving forward, I will be refining our categorization efforts within a set of selected job titles from the currently matched key, ensuring **better standardization and cleaner mappings** before transitioning to the visualization stage.\n"
   ]
  }
 ],
 "metadata": {
  "kernelspec": {
   "display_name": "dev",
   "language": "python",
   "name": "python3"
  },
  "language_info": {
   "codemirror_mode": {
    "name": "ipython",
    "version": 3
   },
   "file_extension": ".py",
   "mimetype": "text/x-python",
   "name": "python",
   "nbconvert_exporter": "python",
   "pygments_lexer": "ipython3",
   "version": "3.10.15"
  }
 },
 "nbformat": 4,
 "nbformat_minor": 2
}
