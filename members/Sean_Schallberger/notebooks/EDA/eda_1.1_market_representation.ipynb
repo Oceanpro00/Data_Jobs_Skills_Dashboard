{
 "cells": [
  {
   "cell_type": "code",
   "execution_count": 27,
   "metadata": {},
   "outputs": [],
   "source": [
    "# Importing Dependencies\n",
    "\n",
    "import pandas as pd\n",
    "import matplotlib.pyplot as plt"
   ]
  },
  {
   "cell_type": "markdown",
   "metadata": {},
   "source": [
    "# **EDA Analysis**\n",
    "## Ticket 1.1: Data Ingestion & Initial Exploration\n",
    "### Data Ingestion\n"
   ]
  },
  {
   "cell_type": "code",
   "execution_count": 28,
   "metadata": {},
   "outputs": [
    {
     "data": {
      "text/plain": [
       "'Job Postings Dataset:'"
      ]
     },
     "metadata": {},
     "output_type": "display_data"
    },
    {
     "data": {
      "application/vnd.microsoft.datawrangler.viewer.v0+json": {
       "columns": [
        {
         "name": "index",
         "rawType": "int64",
         "type": "integer"
        },
        {
         "name": "job_link",
         "rawType": "object",
         "type": "string"
        },
        {
         "name": "last_processed_time",
         "rawType": "object",
         "type": "string"
        },
        {
         "name": "last_status",
         "rawType": "object",
         "type": "string"
        },
        {
         "name": "got_summary",
         "rawType": "object",
         "type": "string"
        },
        {
         "name": "got_ner",
         "rawType": "object",
         "type": "string"
        },
        {
         "name": "is_being_worked",
         "rawType": "object",
         "type": "string"
        },
        {
         "name": "job_title",
         "rawType": "object",
         "type": "string"
        },
        {
         "name": "company",
         "rawType": "object",
         "type": "string"
        },
        {
         "name": "job_location",
         "rawType": "object",
         "type": "string"
        },
        {
         "name": "first_seen",
         "rawType": "object",
         "type": "string"
        },
        {
         "name": "search_city",
         "rawType": "object",
         "type": "string"
        },
        {
         "name": "search_country",
         "rawType": "object",
         "type": "string"
        },
        {
         "name": "search_position",
         "rawType": "object",
         "type": "string"
        },
        {
         "name": "job_level",
         "rawType": "object",
         "type": "string"
        },
        {
         "name": "job_type",
         "rawType": "object",
         "type": "string"
        }
       ],
       "conversionMethod": "pd.DataFrame",
       "ref": "6b8c2ea7-9d12-4e50-aa1e-d43f35f20a8a",
       "rows": [
        [
         "0",
         "https://www.linkedin.com/jobs/view/senior-machine-learning-engineer-at-jobs-for-humanity-3804053819",
         "2024-01-21 08:08:48.031964+00",
         "Finished NER",
         "t",
         "t",
         "f",
         "Senior Machine Learning Engineer",
         "Jobs for Humanity",
         "New Haven, CT",
         "2024-01-14",
         "East Haven",
         "United States",
         "Agricultural-Research Engineer",
         "Mid senior",
         "Onsite"
        ],
        [
         "1",
         "https://www.linkedin.com/jobs/view/principal-software-engineer-ml-accelerators-at-aurora-3703455068",
         "2024-01-20 04:02:12.331406+00",
         "Finished NER",
         "t",
         "t",
         "f",
         "Principal Software Engineer, ML Accelerators",
         "Aurora",
         "San Francisco, CA",
         "2024-01-14",
         "El Cerrito",
         "United States",
         "Set-Key Driver",
         "Mid senior",
         "Onsite"
        ],
        [
         "2",
         "https://www.linkedin.com/jobs/view/senior-etl-data-warehouse-specialist-at-adame-services-llc-3765023888",
         "2024-01-21 08:08:31.941595+00",
         "Finished NER",
         "t",
         "t",
         "f",
         "Senior ETL Data Warehouse Specialist",
         "Adame Services LLC",
         "New York, NY",
         "2024-01-14",
         "Middletown",
         "United States",
         "Technical Support Specialist",
         "Associate",
         "Onsite"
        ],
        [
         "3",
         "https://www.linkedin.com/jobs/view/senior-data-warehouse-developer-architect-at-morph-enterprise-3794602483",
         "2024-01-20 15:30:55.796572+00",
         "Finished NER",
         "t",
         "t",
         "f",
         "Senior Data Warehouse Developer / Architect",
         "Morph Enterprise",
         "Harrisburg, PA",
         "2024-01-12",
         "Lebanon",
         "United States",
         "Architect",
         "Mid senior",
         "Onsite"
        ],
        [
         "4",
         "https://www.linkedin.com/jobs/view/lead-data-engineer-at-dice-3805948138",
         "2024-01-21 08:08:58.312124+00",
         "Finished NER",
         "t",
         "t",
         "f",
         "Lead Data Engineer",
         "Dice",
         "Plano, TX",
         "2024-01-14",
         "McKinney",
         "United States",
         "Maintenance Data Analyst",
         "Mid senior",
         "Onsite"
        ]
       ],
       "shape": {
        "columns": 15,
        "rows": 5
       }
      },
      "text/html": [
       "<div>\n",
       "<style scoped>\n",
       "    .dataframe tbody tr th:only-of-type {\n",
       "        vertical-align: middle;\n",
       "    }\n",
       "\n",
       "    .dataframe tbody tr th {\n",
       "        vertical-align: top;\n",
       "    }\n",
       "\n",
       "    .dataframe thead th {\n",
       "        text-align: right;\n",
       "    }\n",
       "</style>\n",
       "<table border=\"1\" class=\"dataframe\">\n",
       "  <thead>\n",
       "    <tr style=\"text-align: right;\">\n",
       "      <th></th>\n",
       "      <th>job_link</th>\n",
       "      <th>last_processed_time</th>\n",
       "      <th>last_status</th>\n",
       "      <th>got_summary</th>\n",
       "      <th>got_ner</th>\n",
       "      <th>is_being_worked</th>\n",
       "      <th>job_title</th>\n",
       "      <th>company</th>\n",
       "      <th>job_location</th>\n",
       "      <th>first_seen</th>\n",
       "      <th>search_city</th>\n",
       "      <th>search_country</th>\n",
       "      <th>search_position</th>\n",
       "      <th>job_level</th>\n",
       "      <th>job_type</th>\n",
       "    </tr>\n",
       "  </thead>\n",
       "  <tbody>\n",
       "    <tr>\n",
       "      <th>0</th>\n",
       "      <td>https://www.linkedin.com/jobs/view/senior-mach...</td>\n",
       "      <td>2024-01-21 08:08:48.031964+00</td>\n",
       "      <td>Finished NER</td>\n",
       "      <td>t</td>\n",
       "      <td>t</td>\n",
       "      <td>f</td>\n",
       "      <td>Senior Machine Learning Engineer</td>\n",
       "      <td>Jobs for Humanity</td>\n",
       "      <td>New Haven, CT</td>\n",
       "      <td>2024-01-14</td>\n",
       "      <td>East Haven</td>\n",
       "      <td>United States</td>\n",
       "      <td>Agricultural-Research Engineer</td>\n",
       "      <td>Mid senior</td>\n",
       "      <td>Onsite</td>\n",
       "    </tr>\n",
       "    <tr>\n",
       "      <th>1</th>\n",
       "      <td>https://www.linkedin.com/jobs/view/principal-s...</td>\n",
       "      <td>2024-01-20 04:02:12.331406+00</td>\n",
       "      <td>Finished NER</td>\n",
       "      <td>t</td>\n",
       "      <td>t</td>\n",
       "      <td>f</td>\n",
       "      <td>Principal Software Engineer, ML Accelerators</td>\n",
       "      <td>Aurora</td>\n",
       "      <td>San Francisco, CA</td>\n",
       "      <td>2024-01-14</td>\n",
       "      <td>El Cerrito</td>\n",
       "      <td>United States</td>\n",
       "      <td>Set-Key Driver</td>\n",
       "      <td>Mid senior</td>\n",
       "      <td>Onsite</td>\n",
       "    </tr>\n",
       "    <tr>\n",
       "      <th>2</th>\n",
       "      <td>https://www.linkedin.com/jobs/view/senior-etl-...</td>\n",
       "      <td>2024-01-21 08:08:31.941595+00</td>\n",
       "      <td>Finished NER</td>\n",
       "      <td>t</td>\n",
       "      <td>t</td>\n",
       "      <td>f</td>\n",
       "      <td>Senior ETL Data Warehouse Specialist</td>\n",
       "      <td>Adame Services LLC</td>\n",
       "      <td>New York, NY</td>\n",
       "      <td>2024-01-14</td>\n",
       "      <td>Middletown</td>\n",
       "      <td>United States</td>\n",
       "      <td>Technical Support Specialist</td>\n",
       "      <td>Associate</td>\n",
       "      <td>Onsite</td>\n",
       "    </tr>\n",
       "    <tr>\n",
       "      <th>3</th>\n",
       "      <td>https://www.linkedin.com/jobs/view/senior-data...</td>\n",
       "      <td>2024-01-20 15:30:55.796572+00</td>\n",
       "      <td>Finished NER</td>\n",
       "      <td>t</td>\n",
       "      <td>t</td>\n",
       "      <td>f</td>\n",
       "      <td>Senior Data Warehouse Developer / Architect</td>\n",
       "      <td>Morph Enterprise</td>\n",
       "      <td>Harrisburg, PA</td>\n",
       "      <td>2024-01-12</td>\n",
       "      <td>Lebanon</td>\n",
       "      <td>United States</td>\n",
       "      <td>Architect</td>\n",
       "      <td>Mid senior</td>\n",
       "      <td>Onsite</td>\n",
       "    </tr>\n",
       "    <tr>\n",
       "      <th>4</th>\n",
       "      <td>https://www.linkedin.com/jobs/view/lead-data-e...</td>\n",
       "      <td>2024-01-21 08:08:58.312124+00</td>\n",
       "      <td>Finished NER</td>\n",
       "      <td>t</td>\n",
       "      <td>t</td>\n",
       "      <td>f</td>\n",
       "      <td>Lead Data Engineer</td>\n",
       "      <td>Dice</td>\n",
       "      <td>Plano, TX</td>\n",
       "      <td>2024-01-14</td>\n",
       "      <td>McKinney</td>\n",
       "      <td>United States</td>\n",
       "      <td>Maintenance Data Analyst</td>\n",
       "      <td>Mid senior</td>\n",
       "      <td>Onsite</td>\n",
       "    </tr>\n",
       "  </tbody>\n",
       "</table>\n",
       "</div>"
      ],
      "text/plain": [
       "                                            job_link  \\\n",
       "0  https://www.linkedin.com/jobs/view/senior-mach...   \n",
       "1  https://www.linkedin.com/jobs/view/principal-s...   \n",
       "2  https://www.linkedin.com/jobs/view/senior-etl-...   \n",
       "3  https://www.linkedin.com/jobs/view/senior-data...   \n",
       "4  https://www.linkedin.com/jobs/view/lead-data-e...   \n",
       "\n",
       "             last_processed_time   last_status got_summary got_ner  \\\n",
       "0  2024-01-21 08:08:48.031964+00  Finished NER           t       t   \n",
       "1  2024-01-20 04:02:12.331406+00  Finished NER           t       t   \n",
       "2  2024-01-21 08:08:31.941595+00  Finished NER           t       t   \n",
       "3  2024-01-20 15:30:55.796572+00  Finished NER           t       t   \n",
       "4  2024-01-21 08:08:58.312124+00  Finished NER           t       t   \n",
       "\n",
       "  is_being_worked                                     job_title  \\\n",
       "0               f              Senior Machine Learning Engineer   \n",
       "1               f  Principal Software Engineer, ML Accelerators   \n",
       "2               f          Senior ETL Data Warehouse Specialist   \n",
       "3               f   Senior Data Warehouse Developer / Architect   \n",
       "4               f                            Lead Data Engineer   \n",
       "\n",
       "              company       job_location  first_seen search_city  \\\n",
       "0   Jobs for Humanity      New Haven, CT  2024-01-14  East Haven   \n",
       "1              Aurora  San Francisco, CA  2024-01-14  El Cerrito   \n",
       "2  Adame Services LLC       New York, NY  2024-01-14  Middletown   \n",
       "3    Morph Enterprise     Harrisburg, PA  2024-01-12     Lebanon   \n",
       "4                Dice          Plano, TX  2024-01-14    McKinney   \n",
       "\n",
       "  search_country                 search_position   job_level job_type  \n",
       "0  United States  Agricultural-Research Engineer  Mid senior   Onsite  \n",
       "1  United States                  Set-Key Driver  Mid senior   Onsite  \n",
       "2  United States    Technical Support Specialist   Associate   Onsite  \n",
       "3  United States                       Architect  Mid senior   Onsite  \n",
       "4  United States        Maintenance Data Analyst  Mid senior   Onsite  "
      ]
     },
     "metadata": {},
     "output_type": "display_data"
    },
    {
     "data": {
      "text/plain": [
       "'Job Skills Dataset:'"
      ]
     },
     "metadata": {},
     "output_type": "display_data"
    },
    {
     "data": {
      "application/vnd.microsoft.datawrangler.viewer.v0+json": {
       "columns": [
        {
         "name": "index",
         "rawType": "int64",
         "type": "integer"
        },
        {
         "name": "job_link",
         "rawType": "object",
         "type": "string"
        },
        {
         "name": "job_skills",
         "rawType": "object",
         "type": "string"
        }
       ],
       "conversionMethod": "pd.DataFrame",
       "ref": "913a788b-06b1-4430-8251-d5f3b7d36a05",
       "rows": [
        [
         "0",
         "https://www.linkedin.com/jobs/view/senior-machine-learning-engineer-at-jobs-for-humanity-3804053819",
         "Machine Learning, Programming, Python, Scala, Java, Data Engineering, Distributed Computing, Statistical Modeling, Optimization, Data Pipelines, Cloud Computing, DevOps, Software Development, Data Gathering, Data Preparation, Data Visualization, Machine Learning Frameworks, scikitlearn, PyTorch, Dask, Spark, TensorFlow, Distributed File Systems, Multi node Database Paradigms, Open Source ML Software, Responsible AI, Explainable AI"
        ],
        [
         "1",
         "https://www.linkedin.com/jobs/view/principal-software-engineer-ml-accelerators-at-aurora-3703455068",
         "C++, Python, PyTorch, TensorFlow, MXNet, CUDA, OpenCL, OpenVX, Halide, SIMD programming models, MLspecific accelerators, Linux/unix environments, Deep learning frameworks, Computer vision deep learning models, ML software and hardware technology, Inference on edge platforms, Cloud ML training pipelines, HPC experience, Performance troubleshooting, Profiling, Roofline model, Analytical skills, Communication skills"
        ],
        [
         "2",
         "https://www.linkedin.com/jobs/view/senior-etl-data-warehouse-specialist-at-adame-services-llc-3765023888",
         "ETL, Data Integration, Data Transformation, Data Warehousing, Business Intelligence, Data Modeling, Data Architecture, Data Quality, Data Validation, Data Cleansing, Performance Optimization, Performance Tuning, Troubleshooting, Documentation, Reporting, Data Analysis, Collaboration, Communication, SQL, Informatica, Talend, Apache NiFi, AWS Redshift, Azure SQL Data Warehouse, Financial/Banking, CloudBased Data Platforms, Regulatory Compliance"
        ],
        [
         "3",
         "https://www.linkedin.com/jobs/view/senior-data-warehouse-developer-architect-at-morph-enterprise-3794602483",
         "Data Lakes, Data Bricks, Azure Data Factory Pipelines, Spark, Python, Business Intelligence, Data Warehouse, SQL Server, Azure, ETL/ELT, SQL Server Integration Services, TSQL, Data Formatting, Data Capture, Data Search, Data Retrieval, Data Extraction, Data Classification, Information Filtering, Data Mining Architectures, Modeling Standards, Reporting, Data Analysis Methodologies, Data Engineering, Database File Systems Optimization, API's, Analytics as a Service, Relational Databases, Dimensional Databases, Entity Relationships, Data Warehousing, Facts, Dimensions, Star Schema Concepts, Star Schema Terminology, Project Management, Organizational Skills, Collaboration, Communication, Technical Presentaion Skills, 12+ Years of Relevant Experience"
        ],
        [
         "4",
         "https://www.linkedin.com/jobs/view/lead-data-engineer-at-dice-3805948138",
         "Java, Scala, Python, RDBMS, NoSQL, Redshift, Snowflake, Unit testing, Agile engineering, Big data technologies, Cloud computing (AWS Microsoft Azure Google Cloud), Distributed data/computing tools (MapReduce Hadoop Hive EMR Kafka Spark Gurobi MySQL), Realtime data and streaming applications, NoSQL implementation (Mongo Cassandra), Data warehousing (Redshift Snowflake), UNIX/Linux, Shell scripting"
        ]
       ],
       "shape": {
        "columns": 2,
        "rows": 5
       }
      },
      "text/html": [
       "<div>\n",
       "<style scoped>\n",
       "    .dataframe tbody tr th:only-of-type {\n",
       "        vertical-align: middle;\n",
       "    }\n",
       "\n",
       "    .dataframe tbody tr th {\n",
       "        vertical-align: top;\n",
       "    }\n",
       "\n",
       "    .dataframe thead th {\n",
       "        text-align: right;\n",
       "    }\n",
       "</style>\n",
       "<table border=\"1\" class=\"dataframe\">\n",
       "  <thead>\n",
       "    <tr style=\"text-align: right;\">\n",
       "      <th></th>\n",
       "      <th>job_link</th>\n",
       "      <th>job_skills</th>\n",
       "    </tr>\n",
       "  </thead>\n",
       "  <tbody>\n",
       "    <tr>\n",
       "      <th>0</th>\n",
       "      <td>https://www.linkedin.com/jobs/view/senior-mach...</td>\n",
       "      <td>Machine Learning, Programming, Python, Scala, ...</td>\n",
       "    </tr>\n",
       "    <tr>\n",
       "      <th>1</th>\n",
       "      <td>https://www.linkedin.com/jobs/view/principal-s...</td>\n",
       "      <td>C++, Python, PyTorch, TensorFlow, MXNet, CUDA,...</td>\n",
       "    </tr>\n",
       "    <tr>\n",
       "      <th>2</th>\n",
       "      <td>https://www.linkedin.com/jobs/view/senior-etl-...</td>\n",
       "      <td>ETL, Data Integration, Data Transformation, Da...</td>\n",
       "    </tr>\n",
       "    <tr>\n",
       "      <th>3</th>\n",
       "      <td>https://www.linkedin.com/jobs/view/senior-data...</td>\n",
       "      <td>Data Lakes, Data Bricks, Azure Data Factory Pi...</td>\n",
       "    </tr>\n",
       "    <tr>\n",
       "      <th>4</th>\n",
       "      <td>https://www.linkedin.com/jobs/view/lead-data-e...</td>\n",
       "      <td>Java, Scala, Python, RDBMS, NoSQL, Redshift, S...</td>\n",
       "    </tr>\n",
       "  </tbody>\n",
       "</table>\n",
       "</div>"
      ],
      "text/plain": [
       "                                            job_link  \\\n",
       "0  https://www.linkedin.com/jobs/view/senior-mach...   \n",
       "1  https://www.linkedin.com/jobs/view/principal-s...   \n",
       "2  https://www.linkedin.com/jobs/view/senior-etl-...   \n",
       "3  https://www.linkedin.com/jobs/view/senior-data...   \n",
       "4  https://www.linkedin.com/jobs/view/lead-data-e...   \n",
       "\n",
       "                                          job_skills  \n",
       "0  Machine Learning, Programming, Python, Scala, ...  \n",
       "1  C++, Python, PyTorch, TensorFlow, MXNet, CUDA,...  \n",
       "2  ETL, Data Integration, Data Transformation, Da...  \n",
       "3  Data Lakes, Data Bricks, Azure Data Factory Pi...  \n",
       "4  Java, Scala, Python, RDBMS, NoSQL, Redshift, S...  "
      ]
     },
     "metadata": {},
     "output_type": "display_data"
    }
   ],
   "source": [
    "# Load the data\n",
    "job_postings = pd.read_csv('../../../../data/job_postings.csv')\n",
    "job_skills = pd.read_csv('../../../../data/job_skills.csv')\n",
    "\n",
    "display(\"Job Postings Dataset:\")\n",
    "display(job_postings.head())\n",
    "display(\"Job Skills Dataset:\")\n",
    "display(job_skills.head())"
   ]
  },
  {
   "cell_type": "code",
   "execution_count": 29,
   "metadata": {},
   "outputs": [
    {
     "data": {
      "application/vnd.microsoft.datawrangler.viewer.v0+json": {
       "columns": [
        {
         "name": "index",
         "rawType": "int64",
         "type": "integer"
        },
        {
         "name": "job_link",
         "rawType": "object",
         "type": "string"
        },
        {
         "name": "last_processed_time",
         "rawType": "object",
         "type": "string"
        },
        {
         "name": "last_status",
         "rawType": "object",
         "type": "string"
        },
        {
         "name": "got_summary",
         "rawType": "object",
         "type": "string"
        },
        {
         "name": "got_ner",
         "rawType": "object",
         "type": "string"
        },
        {
         "name": "is_being_worked",
         "rawType": "object",
         "type": "string"
        },
        {
         "name": "job_title",
         "rawType": "object",
         "type": "string"
        },
        {
         "name": "company",
         "rawType": "object",
         "type": "string"
        },
        {
         "name": "job_location",
         "rawType": "object",
         "type": "unknown"
        },
        {
         "name": "first_seen",
         "rawType": "object",
         "type": "string"
        },
        {
         "name": "search_city",
         "rawType": "object",
         "type": "string"
        },
        {
         "name": "search_country",
         "rawType": "object",
         "type": "string"
        },
        {
         "name": "search_position",
         "rawType": "object",
         "type": "string"
        },
        {
         "name": "job_level",
         "rawType": "object",
         "type": "string"
        },
        {
         "name": "job_type",
         "rawType": "object",
         "type": "string"
        }
       ],
       "conversionMethod": "pd.DataFrame",
       "ref": "9c12ba62-b58b-4fc4-8bdf-9d03972f67ed",
       "rows": [
        [
         "0",
         "https://www.linkedin.com/jobs/view/senior-machine-learning-engineer-at-jobs-for-humanity-3804053819",
         "2024-01-21 08:08:48.031964+00",
         "Finished NER",
         "t",
         "t",
         "f",
         "Senior Machine Learning Engineer",
         "Jobs for Humanity",
         "New Haven, CT",
         "2024-01-14",
         "East Haven",
         "United States",
         "Agricultural-Research Engineer",
         "Mid senior",
         "Onsite"
        ],
        [
         "1",
         "https://www.linkedin.com/jobs/view/principal-software-engineer-ml-accelerators-at-aurora-3703455068",
         "2024-01-20 04:02:12.331406+00",
         "Finished NER",
         "t",
         "t",
         "f",
         "Principal Software Engineer, ML Accelerators",
         "Aurora",
         "San Francisco, CA",
         "2024-01-14",
         "El Cerrito",
         "United States",
         "Set-Key Driver",
         "Mid senior",
         "Onsite"
        ],
        [
         "2",
         "https://www.linkedin.com/jobs/view/senior-etl-data-warehouse-specialist-at-adame-services-llc-3765023888",
         "2024-01-21 08:08:31.941595+00",
         "Finished NER",
         "t",
         "t",
         "f",
         "Senior ETL Data Warehouse Specialist",
         "Adame Services LLC",
         "New York, NY",
         "2024-01-14",
         "Middletown",
         "United States",
         "Technical Support Specialist",
         "Associate",
         "Onsite"
        ],
        [
         "3",
         "https://www.linkedin.com/jobs/view/senior-data-warehouse-developer-architect-at-morph-enterprise-3794602483",
         "2024-01-20 15:30:55.796572+00",
         "Finished NER",
         "t",
         "t",
         "f",
         "Senior Data Warehouse Developer / Architect",
         "Morph Enterprise",
         "Harrisburg, PA",
         "2024-01-12",
         "Lebanon",
         "United States",
         "Architect",
         "Mid senior",
         "Onsite"
        ],
        [
         "4",
         "https://www.linkedin.com/jobs/view/lead-data-engineer-at-dice-3805948138",
         "2024-01-21 08:08:58.312124+00",
         "Finished NER",
         "t",
         "t",
         "f",
         "Lead Data Engineer",
         "Dice",
         "Plano, TX",
         "2024-01-14",
         "McKinney",
         "United States",
         "Maintenance Data Analyst",
         "Mid senior",
         "Onsite"
        ],
        [
         "5",
         "https://www.linkedin.com/jobs/view/senior-data-engineer-at-university-of-chicago-3798206502",
         "2024-01-21 07:14:11.378097+00",
         "Finished NER",
         "t",
         "t",
         "f",
         "Senior Data Engineer",
         "University of Chicago",
         "Chicago, IL",
         "2024-01-14",
         "East Chicago",
         "United States",
         "Data Base Administrator",
         "Mid senior",
         "Onsite"
        ],
        [
         "6",
         "https://www.linkedin.com/jobs/view/manager-cyber-risk-analysis-machine-learning-at-jobs-for-humanity-3792356406",
         "2024-01-21 07:14:09.631476+00",
         "Finished NER",
         "t",
         "t",
         "f",
         "Manager, Cyber Risk & Analysis (Machine Learning)",
         "Jobs for Humanity",
         "Boston, MA",
         "2024-01-16",
         "Beverly",
         "United States",
         "Manager Reports Analysis",
         "Mid senior",
         "Onsite"
        ],
        [
         "7",
         "https://www.linkedin.com/jobs/view/principal-associate-data-loss-prevention-dlp-engineer-at-jobs-for-humanity-3789001363",
         "2024-01-21 07:39:58.478064+00",
         "Finished NER",
         "t",
         "t",
         "f",
         "Principal Associate, Data Loss Prevention (DLP) Engineer",
         "Jobs for Humanity",
         "Scranton, PA",
         "2024-01-14",
         "Nanticoke",
         "United States",
         "Architect",
         "Mid senior",
         "Onsite"
        ],
        [
         "8",
         "https://www.linkedin.com/jobs/view/senior-financial-data-analyst-at-the-walt-disney-company-3787686471",
         "2024-01-21 07:14:50.991803+00",
         "Finished NER",
         "t",
         "t",
         "f",
         "Senior Financial Data Analyst",
         "The Walt Disney Company",
         "Lake Buena Vista, FL",
         "2024-01-15",
         "Avondale",
         "United States",
         "Budget Officer",
         "Mid senior",
         "Onsite"
        ],
        [
         "9",
         "https://www.linkedin.com/jobs/view/machine-learning-infrastructure-engineer-at-l-t-technology-services-3784021144",
         "2024-01-21 07:40:40.017291+00",
         "Finished NER",
         "t",
         "t",
         "f",
         "Machine Learning Infrastructure Engineer",
         "L&T Technology Services",
         "Sunnyvale, CA",
         "2024-01-14",
         "Redwood City",
         "United States",
         "Test Fixture Designer",
         "Mid senior",
         "Onsite"
        ],
        [
         "10",
         "https://www.linkedin.com/jobs/view/sr-workforce-management-data-analyst-at-wisemen-multimedia-llc-3756883410",
         "2024-01-21 07:15:01.601597+00",
         "Finished NER",
         "t",
         "t",
         "f",
         "Sr. Workforce Management Data Analyst",
         "Wisemen Multimedia, LLC",
         "Atlanta, GA",
         "2024-01-13",
         "Stockbridge",
         "United States",
         "Management Analyst",
         "Mid senior",
         "Onsite"
        ],
        [
         "11",
         "https://www.linkedin.com/jobs/view/master-data-management-data-process-analyst-at-opentext-3737391805",
         "2024-01-20 07:01:01.408401+00",
         "Finished NER",
         "t",
         "t",
         "f",
         "Master Data Management - Data/Process Analyst",
         "OpenText",
         "Pasadena, CA",
         "2024-01-15",
         "West Covina",
         "United States",
         "Actuary",
         "Mid senior",
         "Onsite"
        ],
        [
         "12",
         "https://www.linkedin.com/jobs/view/4-corporate-associate-positions-amlaw-at-lhh-3798676411",
         "2024-01-21 05:31:32.650457+00",
         "Finished NER",
         "t",
         "t",
         "f",
         "4 Corporate Associate Positions (AmLaw)",
         "LHH",
         "Atlanta, GA",
         "2024-01-16",
         "Crookston",
         "United States",
         "Floor Worker",
         "Associate",
         "Onsite"
        ],
        [
         "13",
         "https://www.linkedin.com/jobs/view/sr-database-administrator-at-dice-3805944749",
         "2024-01-21 07:45:17.879848+00",
         "Finished NER",
         "t",
         "t",
         "f",
         "Sr. Database Administrator",
         "Dice",
         "Yorba Linda, CA",
         "2024-01-14",
         "Irvine",
         "United States",
         "Data Base Administrator",
         "Mid senior",
         "Onsite"
        ],
        [
         "14",
         "https://www.linkedin.com/jobs/view/senior-mlops-engineer-at-recruiting-from-scratch-3783324565",
         "2024-01-21 07:24:26.424951+00",
         "Finished NER",
         "t",
         "t",
         "f",
         "Senior MLOps Engineer",
         "Recruiting from Scratch",
         "Atlanta, GA",
         "2024-01-14",
         "Duluth",
         "United States",
         "Value Engineer",
         "Mid senior",
         "Onsite"
        ],
        [
         "15",
         "https://uk.linkedin.com/jobs/view/data-engineer-manager-at-energy-jobline-3793277333",
         "2024-01-21 07:15:37.821778+00",
         "Finished NER",
         "t",
         "t",
         "f",
         "Data Engineer Manager",
         "Energy Jobline",
         "Wolverhampton, England, United Kingdom",
         "2024-01-14",
         "Telford",
         "United Kingdom",
         "Agricultural-Research Engineer",
         "Mid senior",
         "Onsite"
        ],
        [
         "16",
         "https://ca.linkedin.com/jobs/view/data-analyst-part-time-at-toyandsons-3757203932",
         "2024-01-21 00:27:40.684771+00",
         "Finished NER",
         "t",
         "t",
         "f",
         "Data Analyst Part Time",
         "Toyandsons",
         "Waterloo, Ontario, Canada",
         "2024-01-14",
         "Stratford",
         "Canada",
         "Data Entry Clerk",
         "Mid senior",
         "Onsite"
        ],
        [
         "17",
         "https://www.linkedin.com/jobs/view/summer-2024-datacenter-hardware-validation-engineer-undergrad-co-op-intern-at-amd-3792253704",
         "2024-01-21 07:16:26.210589+00",
         "Finished NER",
         "t",
         "t",
         "f",
         "Summer 2024 Datacenter Hardware Validation Engineer Undergrad Co-Op/ Intern",
         "AMD",
         "Austin, TX",
         "2024-01-15",
         "Austin",
         "United States",
         "Die-Maker Apprentice",
         "Mid senior",
         "Onsite"
        ],
        [
         "18",
         "https://www.linkedin.com/jobs/view/enterprise-data-manager-product-owner-at-dmvtek-3742043410",
         "2024-01-21 07:34:51.313302+00",
         "Finished NER",
         "t",
         "t",
         "f",
         "Enterprise Data Manager/Product owner",
         "DMVTEK",
         "State College-DuBois Area",
         "2024-01-14",
         "Zion",
         "United States",
         "Manager Department",
         "Mid senior",
         "Onsite"
        ],
        [
         "19",
         "https://www.linkedin.com/jobs/view/it-database-developer-senior-dba-admin-at-experis-3770918380",
         "2024-01-21 07:34:56.031534+00",
         "Finished NER",
         "t",
         "t",
         "f",
         "IT Database Developer Senior - DBA Admin",
         "Experis",
         "Minneapolis, MN",
         "2024-01-14",
         "Lake Forest",
         "United States",
         "Data Base Administrator",
         "Mid senior",
         "Onsite"
        ],
        [
         "20",
         "https://www.linkedin.com/jobs/view/contractor-epic-clarity-data-analyst-revenue-cycle-at-deloitte-3805724958",
         "2024-01-21 07:16:15.96147+00",
         "Finished NER",
         "t",
         "t",
         "f",
         "Contractor - Epic Clarity Data Analyst - Revenue Cycle",
         "Deloitte",
         "Mississippi, United States",
         "2024-01-14",
         "Magnolia",
         "United States",
         "Data Entry Clerk",
         "Mid senior",
         "Onsite"
        ],
        [
         "21",
         "https://www.linkedin.com/jobs/view/data-engineering-architect-at-dice-3805941847",
         "2024-01-21 07:16:40.642374+00",
         "Finished NER",
         "t",
         "t",
         "f",
         "Data Engineering Architect",
         "Dice",
         "Greenwood Village, CO",
         "2024-01-14",
         "Aurora",
         "United States",
         "Value Engineer",
         "Mid senior",
         "Onsite"
        ],
        [
         "22",
         "https://www.linkedin.com/jobs/view/staff-data-engineer-fleet-analytics-at-tesla-3737835058",
         "2024-01-21 08:26:02.998031+00",
         "Finished NER",
         "t",
         "t",
         "f",
         "Staff Data Engineer, Fleet Analytics",
         "Tesla",
         "Palo Alto, CA",
         "2024-01-14",
         "San Leandro",
         "United States",
         "Data Communications Analyst",
         "Mid senior",
         "Onsite"
        ],
        [
         "23",
         "https://uk.linkedin.com/jobs/view/senior-data-engineer-azure-python-scala-spark-at-templeton-and-partners-tech-recruitment-3662399726",
         "2024-01-21 07:41:33.782107+00",
         "Finished NER",
         "t",
         "t",
         "f",
         "Senior Data Engineer - Azure, Python, Scala, Spark",
         "Templeton and Partners - Tech Recruitment",
         "London, England, United Kingdom",
         "2024-01-16",
         "Slough",
         "United Kingdom",
         "Loading-Machine Tool-Setter",
         "Mid senior",
         "Onsite"
        ],
        [
         "24",
         "https://www.linkedin.com/jobs/view/senior-data-engineer-public-company-at-recruiting-from-scratch-3744399380",
         "2024-01-21 07:16:42.800244+00",
         "Finished NER",
         "t",
         "t",
         "f",
         "Senior Data Engineer, Public Company",
         "Recruiting from Scratch",
         "St Louis, MO",
         "2024-01-14",
         "Ferguson",
         "United States",
         "Systems Analyst",
         "Mid senior",
         "Onsite"
        ],
        [
         "25",
         "https://www.linkedin.com/jobs/view/it-data-lifecycle-manager-at-labella-associates-3745903864",
         "2024-01-21 07:55:49.287211+00",
         "Finished NER",
         "t",
         "t",
         "f",
         "IT- Data Lifecycle Manager",
         "LaBella Associates",
         "Albany, NY",
         "2024-01-16",
         "New York",
         "United States",
         "Folder",
         "Mid senior",
         "Onsite"
        ],
        [
         "26",
         "https://www.linkedin.com/jobs/view/lead-software-engineer-full-stack-enterprise-data-at-jobs-for-humanity-3788699165",
         "2024-01-21 07:55:55.3622+00",
         "Finished NER",
         "t",
         "t",
         "f",
         "Lead Software Engineer, Full Stack (Enterprise Data)",
         "Jobs for Humanity",
         "Fredericksburg, VA",
         "2024-01-14",
         "Livingston",
         "United States",
         "Computer Programmer",
         "Mid senior",
         "Onsite"
        ],
        [
         "27",
         "https://www.linkedin.com/jobs/view/senior-architect-data-analytics-product-line-at-rsc2-inc-3619211106",
         "2024-01-21 07:56:34.891569+00",
         "Finished NER",
         "t",
         "t",
         "f",
         "Senior Architect - Data Analytics Product Line",
         "RSC2, Inc.",
         "Washington, DC",
         "2024-01-14",
         "Mount Vernon",
         "United States",
         "Architect",
         "Mid senior",
         "Onsite"
        ],
        [
         "28",
         "https://www.linkedin.com/jobs/view/vcp-design-to-value-project-manager-and-data-analyst-mr-at-ge-healthcare-3804602326",
         "2024-01-21 08:02:01.538039+00",
         "Finished NER",
         "t",
         "t",
         "f",
         "VCP Design to Value Project Manager and Data Analyst-MR",
         "GE HealthCare",
         "Waukesha, WI",
         "2024-01-14",
         "Waterford",
         "United States",
         "Data Entry Clerk",
         "Mid senior",
         "Onsite"
        ],
        [
         "29",
         "https://www.linkedin.com/jobs/view/lead-data-engineer-python-java-or-scala-at-dice-3805947503",
         "2024-01-21 07:41:50.858481+00",
         "Finished NER",
         "t",
         "t",
         "f",
         "Lead Data Engineer, (Python, Java or Scala)",
         "Dice",
         "Philadelphia, PA",
         "2024-01-14",
         "Camden",
         "United States",
         "Electrical-Research Engineer",
         "Mid senior",
         "Onsite"
        ],
        [
         "30",
         "https://www.linkedin.com/jobs/view/data-scientist-at-futran-solutions-3713035221",
         "2024-01-19 16:29:08.256242+00",
         "Finished NER",
         "t",
         "t",
         "f",
         "Data Scientist",
         "Futran Solutions",
         "Dallas, TX",
         "2024-01-12",
         "Arlington",
         "United States",
         "Biologist",
         "Mid senior",
         "Onsite"
        ],
        [
         "31",
         "https://uk.linkedin.com/jobs/view/senior-data-analyst-at-huws-gray-3806880530",
         "2024-01-20 12:38:50.416771+00",
         "Finished NER",
         "t",
         "t",
         "f",
         "Senior Data Analyst",
         "Huws Gray",
         "Awsworth, England, United Kingdom",
         "2024-01-16",
         "Derby",
         "United Kingdom",
         "Mathematician",
         "Mid senior",
         "Onsite"
        ],
        [
         "32",
         "https://www.linkedin.com/jobs/view/data-visualization-business-intelligence-analyst-3019-at-smx-3760167341",
         "2024-01-20 12:38:52.431568+00",
         "Finished NER",
         "t",
         "t",
         "f",
         "Data Visualization / Business Intelligence Analyst (3019)",
         "SMX",
         "Port Hueneme, CA",
         "2024-01-14",
         "Port Hueneme",
         "United States",
         "Data Entry Clerk",
         "Mid senior",
         "Onsite"
        ],
        [
         "33",
         "https://www.linkedin.com/jobs/view/principal-associate-data-loss-prevention-dlp-engineer-at-jobs-for-humanity-3792318995",
         "2024-01-21 08:09:51.272364+00",
         "Finished NER",
         "t",
         "t",
         "f",
         "Principal Associate, Data Loss Prevention (DLP) Engineer",
         "Jobs for Humanity",
         "Paris, TX",
         "2024-01-14",
         "Hugo",
         "United States",
         "Data Communications Analyst",
         "Mid senior",
         "Onsite"
        ],
        [
         "34",
         "https://www.linkedin.com/jobs/view/data-scientist-at-rand-corporation-3799959396",
         "2024-01-21 07:42:23.15769+00",
         "Finished NER",
         "t",
         "t",
         "f",
         "Data Scientist",
         "RAND Corporation",
         "Washington, DC",
         "2024-01-16",
         "Clinton",
         "United States",
         "Geophysicist",
         "Mid senior",
         "Onsite"
        ],
        [
         "35",
         "https://www.linkedin.com/jobs/view/senior-data-architect-at-uk-health-security-agency-3799458004",
         "2024-01-21 08:21:36.050554+00",
         "Finished NER",
         "t",
         "t",
         "f",
         "Senior Data Architect",
         "UK Health Security Agency",
         "National, MD",
         "2024-01-15",
         "Maryland",
         "United States",
         "Copy Holder",
         "Mid senior",
         "Onsite"
        ],
        [
         "36",
         "https://www.linkedin.com/jobs/view/senior-data-engineer-public-company-at-recruiting-from-scratch-3744387832",
         "2024-01-21 07:18:19.517109+00",
         "Finished NER",
         "t",
         "t",
         "f",
         "Senior Data Engineer, Public Company",
         "Recruiting from Scratch",
         "West Lafayette, IN",
         "2024-01-14",
         "Sheffield",
         "United States",
         "Computer Operator",
         "Mid senior",
         "Onsite"
        ],
        [
         "37",
         "https://uk.linkedin.com/jobs/view/data-quality-manager-football-association-at-guardian-jobs-3801788021",
         "2024-01-20 10:00:23.086676+00",
         "Finished NER",
         "t",
         "t",
         "f",
         "Data Quality Manager, FOOTBALL ASSOCIATION",
         "Guardian Jobs",
         "Wembley, England, United Kingdom",
         "2024-01-14",
         "Luton",
         "United Kingdom",
         "Supervisor Files",
         "Mid senior",
         "Onsite"
        ],
        [
         "38",
         "https://www.linkedin.com/jobs/view/senior-ml-engineer-at-cybercoders-3789459946",
         "2024-01-21 08:21:12.395155+00",
         "Finished NER",
         "t",
         "t",
         "f",
         "Senior ML Engineer",
         "CyberCoders",
         "Santa Clara, CA",
         "2024-01-14",
         "Livermore",
         "United States",
         "Electronics-Test Engineer",
         "Mid senior",
         "Onsite"
        ],
        [
         "39",
         "https://www.linkedin.com/jobs/view/director-ontology-and-data-modeling-at-jobs-for-humanity-3804059234",
         "2024-01-21 07:18:55.689562+00",
         "Finished NER",
         "t",
         "t",
         "f",
         "Director, Ontology and Data Modeling",
         "Jobs for Humanity",
         "Richmond, VA",
         "2024-01-15",
         "Fitzgerald",
         "United States",
         "Director Translation",
         "Mid senior",
         "Onsite"
        ],
        [
         "40",
         "https://www.linkedin.com/jobs/view/sr-data-scientist-at-anser-3693346470",
         "2024-01-21 07:43:06.562591+00",
         "Finished NER",
         "t",
         "t",
         "f",
         "Sr. Data Scientist",
         "ANSER",
         "Washington, DC",
         "2024-01-14",
         "West Springfield",
         "United States",
         "Chemist",
         "Mid senior",
         "Onsite"
        ],
        [
         "41",
         "https://www.linkedin.com/jobs/view/sr-data-engineer-etl-with-security-clearance-at-clearancejobs-3753445788",
         "2024-01-21 07:18:40.974485+00",
         "Finished NER",
         "t",
         "t",
         "f",
         "Sr. Data Engineer - ETL with Security Clearance",
         "ClearanceJobs",
         "Chantilly, VA",
         "2024-01-16",
         "Manassas",
         "United States",
         "Loading-Machine Tool-Setter",
         "Mid senior",
         "Onsite"
        ],
        [
         "42",
         "https://uk.linkedin.com/jobs/view/assitant-vice-president-senior-database-sme-at-mufg-3777580139",
         "2024-01-19 19:10:58.6292+00",
         "Finished NER",
         "t",
         "t",
         "f",
         "Assitant Vice President - Senior Database SME",
         "MUFG",
         "London, England, United Kingdom",
         "2024-01-16",
         "Slough",
         "United Kingdom",
         "Manager Forms Analysis",
         "Mid senior",
         "Onsite"
        ],
        [
         "43",
         "https://www.linkedin.com/jobs/view/sr-analyst-it-data-science-at-reynolds-american-inc-3775205684",
         "2024-01-20 00:22:12.964601+00",
         "Finished NER",
         "t",
         "t",
         "f",
         "Sr Analyst IT - Data Science",
         "Reynolds American Inc.",
         "Winston-Salem, NC",
         "2024-01-14",
         "Winston-Salem",
         "United States",
         "Data Entry Clerk",
         "Mid senior",
         "Onsite"
        ],
        [
         "44",
         "https://www.linkedin.com/jobs/view/electrical-data-center-project-manager-at-miller-electric-company-3793530333",
         "2024-01-19 19:28:16.49085+00",
         "Finished NER",
         "t",
         "t",
         "f",
         "Electrical Data Center Project Manager",
         "Miller Electric Company",
         "Dallas, TX",
         "2024-01-16",
         "Garland",
         "United States",
         "Miller Supervisor",
         "Mid senior",
         "Onsite"
        ],
        [
         "45",
         "https://www.linkedin.com/jobs/view/distinguished-engineer-card-tech-data-remote-elligble-at-jobs-for-humanity-3804057368",
         "2024-01-19 19:28:18.657412+00",
         "Finished NER",
         "t",
         "t",
         "f",
         "Distinguished Engineer, Card Tech Data (Remote-Elligble)",
         "Jobs for Humanity",
         "Boston, MA",
         "2024-01-15",
         "Lowell",
         "United States",
         "Data Communications Technician",
         "Mid senior",
         "Onsite"
        ],
        [
         "46",
         "https://uk.linkedin.com/jobs/view/quality-coach-iqa-it-and-data-apprenticeships-at-km-education-recruitment-3790195005",
         "2024-01-21 08:05:13.103892+00",
         "Finished NER",
         "t",
         "t",
         "f",
         "Quality Coach / IQA - IT and Data Apprenticeships",
         "KM Education Recruitment",
         "Sheffield, England, United Kingdom",
         "2024-01-14",
         "Mansfield",
         "United Kingdom",
         "Recruiter",
         "Mid senior",
         "Onsite"
        ],
        [
         "47",
         "https://www.linkedin.com/jobs/view/staff-data-scientist-financial-strategy-at-stripe-3785926208",
         "2024-01-21 08:05:39.24823+00",
         "Finished NER",
         "t",
         "t",
         "f",
         "Staff Data Scientist, Financial Strategy",
         "Stripe",
         "Seattle, WA",
         "2024-01-16",
         "Kent",
         "United States",
         "Geophysicist",
         "Mid senior",
         "Onsite"
        ],
        [
         "48",
         "https://www.linkedin.com/jobs/view/senior-counsel-data-privacy-and-cybersecurity-at-professional-diversity-network-3805988239",
         "2024-01-21 07:19:30.657312+00",
         "Finished NER",
         "t",
         "t",
         "f",
         "Senior Counsel, Data Privacy and Cybersecurity",
         "Professional Diversity Network",
         "Cypress, CA",
         "2024-01-15",
         "West Covina",
         "United States",
         "Computer Security Specialist",
         "Mid senior",
         "Onsite"
        ],
        [
         "49",
         "https://www.linkedin.com/jobs/view/data-engineering-manager-san-antonio-at-argo-group-3805541206",
         "2024-01-21 08:06:54.741975+00",
         "Finished NER",
         "t",
         "t",
         "f",
         "Data Engineering Manager - San Antonio",
         "Argo Group",
         "San Antonio, TX",
         "2024-01-15",
         "San Antonio",
         "United States",
         "Electrical-Installation Supervisor",
         "Mid senior",
         "Onsite"
        ]
       ],
       "shape": {
        "columns": 15,
        "rows": 12217
       }
      },
      "text/html": [
       "<div>\n",
       "<style scoped>\n",
       "    .dataframe tbody tr th:only-of-type {\n",
       "        vertical-align: middle;\n",
       "    }\n",
       "\n",
       "    .dataframe tbody tr th {\n",
       "        vertical-align: top;\n",
       "    }\n",
       "\n",
       "    .dataframe thead th {\n",
       "        text-align: right;\n",
       "    }\n",
       "</style>\n",
       "<table border=\"1\" class=\"dataframe\">\n",
       "  <thead>\n",
       "    <tr style=\"text-align: right;\">\n",
       "      <th></th>\n",
       "      <th>job_link</th>\n",
       "      <th>last_processed_time</th>\n",
       "      <th>last_status</th>\n",
       "      <th>got_summary</th>\n",
       "      <th>got_ner</th>\n",
       "      <th>is_being_worked</th>\n",
       "      <th>job_title</th>\n",
       "      <th>company</th>\n",
       "      <th>job_location</th>\n",
       "      <th>first_seen</th>\n",
       "      <th>search_city</th>\n",
       "      <th>search_country</th>\n",
       "      <th>search_position</th>\n",
       "      <th>job_level</th>\n",
       "      <th>job_type</th>\n",
       "    </tr>\n",
       "  </thead>\n",
       "  <tbody>\n",
       "    <tr>\n",
       "      <th>0</th>\n",
       "      <td>https://www.linkedin.com/jobs/view/senior-mach...</td>\n",
       "      <td>2024-01-21 08:08:48.031964+00</td>\n",
       "      <td>Finished NER</td>\n",
       "      <td>t</td>\n",
       "      <td>t</td>\n",
       "      <td>f</td>\n",
       "      <td>Senior Machine Learning Engineer</td>\n",
       "      <td>Jobs for Humanity</td>\n",
       "      <td>New Haven, CT</td>\n",
       "      <td>2024-01-14</td>\n",
       "      <td>East Haven</td>\n",
       "      <td>United States</td>\n",
       "      <td>Agricultural-Research Engineer</td>\n",
       "      <td>Mid senior</td>\n",
       "      <td>Onsite</td>\n",
       "    </tr>\n",
       "    <tr>\n",
       "      <th>1</th>\n",
       "      <td>https://www.linkedin.com/jobs/view/principal-s...</td>\n",
       "      <td>2024-01-20 04:02:12.331406+00</td>\n",
       "      <td>Finished NER</td>\n",
       "      <td>t</td>\n",
       "      <td>t</td>\n",
       "      <td>f</td>\n",
       "      <td>Principal Software Engineer, ML Accelerators</td>\n",
       "      <td>Aurora</td>\n",
       "      <td>San Francisco, CA</td>\n",
       "      <td>2024-01-14</td>\n",
       "      <td>El Cerrito</td>\n",
       "      <td>United States</td>\n",
       "      <td>Set-Key Driver</td>\n",
       "      <td>Mid senior</td>\n",
       "      <td>Onsite</td>\n",
       "    </tr>\n",
       "    <tr>\n",
       "      <th>2</th>\n",
       "      <td>https://www.linkedin.com/jobs/view/senior-etl-...</td>\n",
       "      <td>2024-01-21 08:08:31.941595+00</td>\n",
       "      <td>Finished NER</td>\n",
       "      <td>t</td>\n",
       "      <td>t</td>\n",
       "      <td>f</td>\n",
       "      <td>Senior ETL Data Warehouse Specialist</td>\n",
       "      <td>Adame Services LLC</td>\n",
       "      <td>New York, NY</td>\n",
       "      <td>2024-01-14</td>\n",
       "      <td>Middletown</td>\n",
       "      <td>United States</td>\n",
       "      <td>Technical Support Specialist</td>\n",
       "      <td>Associate</td>\n",
       "      <td>Onsite</td>\n",
       "    </tr>\n",
       "    <tr>\n",
       "      <th>3</th>\n",
       "      <td>https://www.linkedin.com/jobs/view/senior-data...</td>\n",
       "      <td>2024-01-20 15:30:55.796572+00</td>\n",
       "      <td>Finished NER</td>\n",
       "      <td>t</td>\n",
       "      <td>t</td>\n",
       "      <td>f</td>\n",
       "      <td>Senior Data Warehouse Developer / Architect</td>\n",
       "      <td>Morph Enterprise</td>\n",
       "      <td>Harrisburg, PA</td>\n",
       "      <td>2024-01-12</td>\n",
       "      <td>Lebanon</td>\n",
       "      <td>United States</td>\n",
       "      <td>Architect</td>\n",
       "      <td>Mid senior</td>\n",
       "      <td>Onsite</td>\n",
       "    </tr>\n",
       "    <tr>\n",
       "      <th>4</th>\n",
       "      <td>https://www.linkedin.com/jobs/view/lead-data-e...</td>\n",
       "      <td>2024-01-21 08:08:58.312124+00</td>\n",
       "      <td>Finished NER</td>\n",
       "      <td>t</td>\n",
       "      <td>t</td>\n",
       "      <td>f</td>\n",
       "      <td>Lead Data Engineer</td>\n",
       "      <td>Dice</td>\n",
       "      <td>Plano, TX</td>\n",
       "      <td>2024-01-14</td>\n",
       "      <td>McKinney</td>\n",
       "      <td>United States</td>\n",
       "      <td>Maintenance Data Analyst</td>\n",
       "      <td>Mid senior</td>\n",
       "      <td>Onsite</td>\n",
       "    </tr>\n",
       "    <tr>\n",
       "      <th>...</th>\n",
       "      <td>...</td>\n",
       "      <td>...</td>\n",
       "      <td>...</td>\n",
       "      <td>...</td>\n",
       "      <td>...</td>\n",
       "      <td>...</td>\n",
       "      <td>...</td>\n",
       "      <td>...</td>\n",
       "      <td>...</td>\n",
       "      <td>...</td>\n",
       "      <td>...</td>\n",
       "      <td>...</td>\n",
       "      <td>...</td>\n",
       "      <td>...</td>\n",
       "      <td>...</td>\n",
       "    </tr>\n",
       "    <tr>\n",
       "      <th>12212</th>\n",
       "      <td>https://uk.linkedin.com/jobs/view/data-reporti...</td>\n",
       "      <td>2024-01-21 07:11:22.099082+00</td>\n",
       "      <td>Finished NER</td>\n",
       "      <td>t</td>\n",
       "      <td>t</td>\n",
       "      <td>f</td>\n",
       "      <td>Data Reporting Manager, FOOTBALL ASSOCIATION</td>\n",
       "      <td>Guardian Jobs</td>\n",
       "      <td>Wembley, England, United Kingdom</td>\n",
       "      <td>2024-01-16</td>\n",
       "      <td>High Wycombe</td>\n",
       "      <td>United Kingdom</td>\n",
       "      <td>Manager Forms Analysis</td>\n",
       "      <td>Mid senior</td>\n",
       "      <td>Onsite</td>\n",
       "    </tr>\n",
       "    <tr>\n",
       "      <th>12213</th>\n",
       "      <td>https://www.linkedin.com/jobs/view/corporate-a...</td>\n",
       "      <td>2024-01-19 15:10:41.177008+00</td>\n",
       "      <td>Finished NER</td>\n",
       "      <td>t</td>\n",
       "      <td>t</td>\n",
       "      <td>f</td>\n",
       "      <td>Corporate AML Alert Investigation Specialist</td>\n",
       "      <td>Glacier Bancorp, Inc.</td>\n",
       "      <td>Kalispell, MT</td>\n",
       "      <td>2024-01-14</td>\n",
       "      <td>Montana</td>\n",
       "      <td>United States</td>\n",
       "      <td>Teller</td>\n",
       "      <td>Mid senior</td>\n",
       "      <td>Onsite</td>\n",
       "    </tr>\n",
       "    <tr>\n",
       "      <th>12214</th>\n",
       "      <td>https://www.linkedin.com/jobs/view/senior-data...</td>\n",
       "      <td>2024-01-20 15:20:19.036168+00</td>\n",
       "      <td>Finished NER</td>\n",
       "      <td>t</td>\n",
       "      <td>t</td>\n",
       "      <td>f</td>\n",
       "      <td>Senior Data Scientist</td>\n",
       "      <td>Highnote</td>\n",
       "      <td>San Francisco, CA</td>\n",
       "      <td>2024-01-16</td>\n",
       "      <td>San Rafael</td>\n",
       "      <td>United States</td>\n",
       "      <td>Mathematician</td>\n",
       "      <td>Mid senior</td>\n",
       "      <td>Onsite</td>\n",
       "    </tr>\n",
       "    <tr>\n",
       "      <th>12215</th>\n",
       "      <td>https://www.linkedin.com/jobs/view/senior-data...</td>\n",
       "      <td>2024-01-19 23:25:28.107523+00</td>\n",
       "      <td>Finished NER</td>\n",
       "      <td>t</td>\n",
       "      <td>t</td>\n",
       "      <td>f</td>\n",
       "      <td>Senior Data Engineer</td>\n",
       "      <td>CompSource Mutual Insurance Company</td>\n",
       "      <td>Oklahoma City, OK</td>\n",
       "      <td>2024-01-16</td>\n",
       "      <td>Arcadia</td>\n",
       "      <td>United States</td>\n",
       "      <td>Protection Engineer</td>\n",
       "      <td>Mid senior</td>\n",
       "      <td>Onsite</td>\n",
       "    </tr>\n",
       "    <tr>\n",
       "      <th>12216</th>\n",
       "      <td>https://www.linkedin.com/jobs/view/medical-tec...</td>\n",
       "      <td>2024-01-19 23:26:27.593516+00</td>\n",
       "      <td>Finished NER</td>\n",
       "      <td>t</td>\n",
       "      <td>t</td>\n",
       "      <td>f</td>\n",
       "      <td>Medical Technologist, MLS or MLT</td>\n",
       "      <td>Community Health Systems</td>\n",
       "      <td>Mooresville, NC</td>\n",
       "      <td>2024-01-14</td>\n",
       "      <td>Salisbury</td>\n",
       "      <td>United States</td>\n",
       "      <td>Biologist</td>\n",
       "      <td>Mid senior</td>\n",
       "      <td>Onsite</td>\n",
       "    </tr>\n",
       "  </tbody>\n",
       "</table>\n",
       "<p>12217 rows × 15 columns</p>\n",
       "</div>"
      ],
      "text/plain": [
       "                                                job_link  \\\n",
       "0      https://www.linkedin.com/jobs/view/senior-mach...   \n",
       "1      https://www.linkedin.com/jobs/view/principal-s...   \n",
       "2      https://www.linkedin.com/jobs/view/senior-etl-...   \n",
       "3      https://www.linkedin.com/jobs/view/senior-data...   \n",
       "4      https://www.linkedin.com/jobs/view/lead-data-e...   \n",
       "...                                                  ...   \n",
       "12212  https://uk.linkedin.com/jobs/view/data-reporti...   \n",
       "12213  https://www.linkedin.com/jobs/view/corporate-a...   \n",
       "12214  https://www.linkedin.com/jobs/view/senior-data...   \n",
       "12215  https://www.linkedin.com/jobs/view/senior-data...   \n",
       "12216  https://www.linkedin.com/jobs/view/medical-tec...   \n",
       "\n",
       "                 last_processed_time   last_status got_summary got_ner  \\\n",
       "0      2024-01-21 08:08:48.031964+00  Finished NER           t       t   \n",
       "1      2024-01-20 04:02:12.331406+00  Finished NER           t       t   \n",
       "2      2024-01-21 08:08:31.941595+00  Finished NER           t       t   \n",
       "3      2024-01-20 15:30:55.796572+00  Finished NER           t       t   \n",
       "4      2024-01-21 08:08:58.312124+00  Finished NER           t       t   \n",
       "...                              ...           ...         ...     ...   \n",
       "12212  2024-01-21 07:11:22.099082+00  Finished NER           t       t   \n",
       "12213  2024-01-19 15:10:41.177008+00  Finished NER           t       t   \n",
       "12214  2024-01-20 15:20:19.036168+00  Finished NER           t       t   \n",
       "12215  2024-01-19 23:25:28.107523+00  Finished NER           t       t   \n",
       "12216  2024-01-19 23:26:27.593516+00  Finished NER           t       t   \n",
       "\n",
       "      is_being_worked                                     job_title  \\\n",
       "0                   f              Senior Machine Learning Engineer   \n",
       "1                   f  Principal Software Engineer, ML Accelerators   \n",
       "2                   f          Senior ETL Data Warehouse Specialist   \n",
       "3                   f   Senior Data Warehouse Developer / Architect   \n",
       "4                   f                            Lead Data Engineer   \n",
       "...               ...                                           ...   \n",
       "12212               f  Data Reporting Manager, FOOTBALL ASSOCIATION   \n",
       "12213               f  Corporate AML Alert Investigation Specialist   \n",
       "12214               f                         Senior Data Scientist   \n",
       "12215               f                          Senior Data Engineer   \n",
       "12216               f              Medical Technologist, MLS or MLT   \n",
       "\n",
       "                                   company                      job_location  \\\n",
       "0                        Jobs for Humanity                     New Haven, CT   \n",
       "1                                   Aurora                 San Francisco, CA   \n",
       "2                       Adame Services LLC                      New York, NY   \n",
       "3                         Morph Enterprise                    Harrisburg, PA   \n",
       "4                                     Dice                         Plano, TX   \n",
       "...                                    ...                               ...   \n",
       "12212                        Guardian Jobs  Wembley, England, United Kingdom   \n",
       "12213                Glacier Bancorp, Inc.                     Kalispell, MT   \n",
       "12214                             Highnote                 San Francisco, CA   \n",
       "12215  CompSource Mutual Insurance Company                 Oklahoma City, OK   \n",
       "12216             Community Health Systems                   Mooresville, NC   \n",
       "\n",
       "       first_seen   search_city  search_country  \\\n",
       "0      2024-01-14    East Haven   United States   \n",
       "1      2024-01-14    El Cerrito   United States   \n",
       "2      2024-01-14    Middletown   United States   \n",
       "3      2024-01-12       Lebanon   United States   \n",
       "4      2024-01-14      McKinney   United States   \n",
       "...           ...           ...             ...   \n",
       "12212  2024-01-16  High Wycombe  United Kingdom   \n",
       "12213  2024-01-14       Montana   United States   \n",
       "12214  2024-01-16    San Rafael   United States   \n",
       "12215  2024-01-16       Arcadia   United States   \n",
       "12216  2024-01-14     Salisbury   United States   \n",
       "\n",
       "                      search_position   job_level job_type  \n",
       "0      Agricultural-Research Engineer  Mid senior   Onsite  \n",
       "1                      Set-Key Driver  Mid senior   Onsite  \n",
       "2        Technical Support Specialist   Associate   Onsite  \n",
       "3                           Architect  Mid senior   Onsite  \n",
       "4            Maintenance Data Analyst  Mid senior   Onsite  \n",
       "...                               ...         ...      ...  \n",
       "12212          Manager Forms Analysis  Mid senior   Onsite  \n",
       "12213                          Teller  Mid senior   Onsite  \n",
       "12214                   Mathematician  Mid senior   Onsite  \n",
       "12215             Protection Engineer  Mid senior   Onsite  \n",
       "12216                       Biologist  Mid senior   Onsite  \n",
       "\n",
       "[12217 rows x 15 columns]"
      ]
     },
     "execution_count": 29,
     "metadata": {},
     "output_type": "execute_result"
    }
   ],
   "source": [
    "job_postings"
   ]
  },
  {
   "cell_type": "code",
   "execution_count": 30,
   "metadata": {},
   "outputs": [
    {
     "data": {
      "text/plain": [
       "'Job Postings Dataset:'"
      ]
     },
     "metadata": {},
     "output_type": "display_data"
    },
    {
     "name": "stdout",
     "output_type": "stream",
     "text": [
      "<class 'pandas.core.frame.DataFrame'>\n",
      "RangeIndex: 12217 entries, 0 to 12216\n",
      "Data columns (total 15 columns):\n",
      " #   Column               Non-Null Count  Dtype \n",
      "---  ------               --------------  ----- \n",
      " 0   job_link             12217 non-null  object\n",
      " 1   last_processed_time  12217 non-null  object\n",
      " 2   last_status          12217 non-null  object\n",
      " 3   got_summary          12217 non-null  object\n",
      " 4   got_ner              12217 non-null  object\n",
      " 5   is_being_worked      12217 non-null  object\n",
      " 6   job_title            12217 non-null  object\n",
      " 7   company              12217 non-null  object\n",
      " 8   job_location         12216 non-null  object\n",
      " 9   first_seen           12217 non-null  object\n",
      " 10  search_city          12217 non-null  object\n",
      " 11  search_country       12217 non-null  object\n",
      " 12  search_position      12217 non-null  object\n",
      " 13  job_level            12217 non-null  object\n",
      " 14  job_type             12217 non-null  object\n",
      "dtypes: object(15)\n",
      "memory usage: 1.4+ MB\n"
     ]
    },
    {
     "data": {
      "text/plain": [
       "None"
      ]
     },
     "metadata": {},
     "output_type": "display_data"
    },
    {
     "data": {
      "text/plain": [
       "'Job Skills Dataset:'"
      ]
     },
     "metadata": {},
     "output_type": "display_data"
    },
    {
     "name": "stdout",
     "output_type": "stream",
     "text": [
      "<class 'pandas.core.frame.DataFrame'>\n",
      "RangeIndex: 12217 entries, 0 to 12216\n",
      "Data columns (total 2 columns):\n",
      " #   Column      Non-Null Count  Dtype \n",
      "---  ------      --------------  ----- \n",
      " 0   job_link    12217 non-null  object\n",
      " 1   job_skills  12212 non-null  object\n",
      "dtypes: object(2)\n",
      "memory usage: 191.0+ KB\n"
     ]
    },
    {
     "data": {
      "text/plain": [
       "None"
      ]
     },
     "metadata": {},
     "output_type": "display_data"
    }
   ],
   "source": [
    "# display basic dataset information\n",
    "\n",
    "display(\"Job Postings Dataset:\")\n",
    "display(job_postings.info())\n",
    "display(\"Job Skills Dataset:\")\n",
    "display(job_skills.info())\n"
   ]
  },
  {
   "cell_type": "code",
   "execution_count": 31,
   "metadata": {},
   "outputs": [
    {
     "data": {
      "text/plain": [
       "'Job Postings Dataset:'"
      ]
     },
     "metadata": {},
     "output_type": "display_data"
    },
    {
     "data": {
      "application/vnd.microsoft.datawrangler.viewer.v0+json": {
       "columns": [
        {
         "name": "index",
         "rawType": "object",
         "type": "string"
        },
        {
         "name": "job_link",
         "rawType": "object",
         "type": "unknown"
        },
        {
         "name": "last_processed_time",
         "rawType": "object",
         "type": "unknown"
        },
        {
         "name": "last_status",
         "rawType": "object",
         "type": "unknown"
        },
        {
         "name": "got_summary",
         "rawType": "object",
         "type": "unknown"
        },
        {
         "name": "got_ner",
         "rawType": "object",
         "type": "unknown"
        },
        {
         "name": "is_being_worked",
         "rawType": "object",
         "type": "unknown"
        },
        {
         "name": "job_title",
         "rawType": "object",
         "type": "unknown"
        },
        {
         "name": "company",
         "rawType": "object",
         "type": "unknown"
        },
        {
         "name": "job_location",
         "rawType": "object",
         "type": "unknown"
        },
        {
         "name": "first_seen",
         "rawType": "object",
         "type": "unknown"
        },
        {
         "name": "search_city",
         "rawType": "object",
         "type": "unknown"
        },
        {
         "name": "search_country",
         "rawType": "object",
         "type": "unknown"
        },
        {
         "name": "search_position",
         "rawType": "object",
         "type": "unknown"
        },
        {
         "name": "job_level",
         "rawType": "object",
         "type": "unknown"
        },
        {
         "name": "job_type",
         "rawType": "object",
         "type": "unknown"
        }
       ],
       "conversionMethod": "pd.DataFrame",
       "ref": "c480c0bc-f937-442f-9f4b-e426bbaab459",
       "rows": [
        [
         "count",
         "12217",
         "12217",
         "12217",
         "12217",
         "12217",
         "12217",
         "12217",
         "12217",
         "12216",
         "12217",
         "12217",
         "12217",
         "12217",
         "12217",
         "12217"
        ],
        [
         "unique",
         "12217",
         "5763",
         "1",
         "1",
         "1",
         "1",
         "6484",
         "3947",
         "2049",
         "6",
         "801",
         "4",
         "711",
         "2",
         "3"
        ],
        [
         "top",
         "https://www.linkedin.com/jobs/view/senior-machine-learning-engineer-at-jobs-for-humanity-3804053819",
         "2024-01-19 09:45:09.215838+00",
         "Finished NER",
         "t",
         "t",
         "f",
         "Senior Data Engineer",
         "Jobs for Humanity",
         "New York, NY",
         "2024-01-13",
         "Greater London",
         "United States",
         "Data Entry Clerk",
         "Mid senior",
         "Onsite"
        ],
        [
         "freq",
         "1",
         "6455",
         "12217",
         "12217",
         "12217",
         "12217",
         "285",
         "732",
         "280",
         "4946",
         "189",
         "10291",
         "1088",
         "10919",
         "12188"
        ]
       ],
       "shape": {
        "columns": 15,
        "rows": 4
       }
      },
      "text/html": [
       "<div>\n",
       "<style scoped>\n",
       "    .dataframe tbody tr th:only-of-type {\n",
       "        vertical-align: middle;\n",
       "    }\n",
       "\n",
       "    .dataframe tbody tr th {\n",
       "        vertical-align: top;\n",
       "    }\n",
       "\n",
       "    .dataframe thead th {\n",
       "        text-align: right;\n",
       "    }\n",
       "</style>\n",
       "<table border=\"1\" class=\"dataframe\">\n",
       "  <thead>\n",
       "    <tr style=\"text-align: right;\">\n",
       "      <th></th>\n",
       "      <th>job_link</th>\n",
       "      <th>last_processed_time</th>\n",
       "      <th>last_status</th>\n",
       "      <th>got_summary</th>\n",
       "      <th>got_ner</th>\n",
       "      <th>is_being_worked</th>\n",
       "      <th>job_title</th>\n",
       "      <th>company</th>\n",
       "      <th>job_location</th>\n",
       "      <th>first_seen</th>\n",
       "      <th>search_city</th>\n",
       "      <th>search_country</th>\n",
       "      <th>search_position</th>\n",
       "      <th>job_level</th>\n",
       "      <th>job_type</th>\n",
       "    </tr>\n",
       "  </thead>\n",
       "  <tbody>\n",
       "    <tr>\n",
       "      <th>count</th>\n",
       "      <td>12217</td>\n",
       "      <td>12217</td>\n",
       "      <td>12217</td>\n",
       "      <td>12217</td>\n",
       "      <td>12217</td>\n",
       "      <td>12217</td>\n",
       "      <td>12217</td>\n",
       "      <td>12217</td>\n",
       "      <td>12216</td>\n",
       "      <td>12217</td>\n",
       "      <td>12217</td>\n",
       "      <td>12217</td>\n",
       "      <td>12217</td>\n",
       "      <td>12217</td>\n",
       "      <td>12217</td>\n",
       "    </tr>\n",
       "    <tr>\n",
       "      <th>unique</th>\n",
       "      <td>12217</td>\n",
       "      <td>5763</td>\n",
       "      <td>1</td>\n",
       "      <td>1</td>\n",
       "      <td>1</td>\n",
       "      <td>1</td>\n",
       "      <td>6484</td>\n",
       "      <td>3947</td>\n",
       "      <td>2049</td>\n",
       "      <td>6</td>\n",
       "      <td>801</td>\n",
       "      <td>4</td>\n",
       "      <td>711</td>\n",
       "      <td>2</td>\n",
       "      <td>3</td>\n",
       "    </tr>\n",
       "    <tr>\n",
       "      <th>top</th>\n",
       "      <td>https://www.linkedin.com/jobs/view/senior-mach...</td>\n",
       "      <td>2024-01-19 09:45:09.215838+00</td>\n",
       "      <td>Finished NER</td>\n",
       "      <td>t</td>\n",
       "      <td>t</td>\n",
       "      <td>f</td>\n",
       "      <td>Senior Data Engineer</td>\n",
       "      <td>Jobs for Humanity</td>\n",
       "      <td>New York, NY</td>\n",
       "      <td>2024-01-13</td>\n",
       "      <td>Greater London</td>\n",
       "      <td>United States</td>\n",
       "      <td>Data Entry Clerk</td>\n",
       "      <td>Mid senior</td>\n",
       "      <td>Onsite</td>\n",
       "    </tr>\n",
       "    <tr>\n",
       "      <th>freq</th>\n",
       "      <td>1</td>\n",
       "      <td>6455</td>\n",
       "      <td>12217</td>\n",
       "      <td>12217</td>\n",
       "      <td>12217</td>\n",
       "      <td>12217</td>\n",
       "      <td>285</td>\n",
       "      <td>732</td>\n",
       "      <td>280</td>\n",
       "      <td>4946</td>\n",
       "      <td>189</td>\n",
       "      <td>10291</td>\n",
       "      <td>1088</td>\n",
       "      <td>10919</td>\n",
       "      <td>12188</td>\n",
       "    </tr>\n",
       "  </tbody>\n",
       "</table>\n",
       "</div>"
      ],
      "text/plain": [
       "                                                 job_link  \\\n",
       "count                                               12217   \n",
       "unique                                              12217   \n",
       "top     https://www.linkedin.com/jobs/view/senior-mach...   \n",
       "freq                                                    1   \n",
       "\n",
       "                  last_processed_time   last_status got_summary got_ner  \\\n",
       "count                           12217         12217       12217   12217   \n",
       "unique                           5763             1           1       1   \n",
       "top     2024-01-19 09:45:09.215838+00  Finished NER           t       t   \n",
       "freq                             6455         12217       12217   12217   \n",
       "\n",
       "       is_being_worked             job_title            company  job_location  \\\n",
       "count            12217                 12217              12217         12216   \n",
       "unique               1                  6484               3947          2049   \n",
       "top                  f  Senior Data Engineer  Jobs for Humanity  New York, NY   \n",
       "freq             12217                   285                732           280   \n",
       "\n",
       "        first_seen     search_city search_country   search_position  \\\n",
       "count        12217           12217          12217             12217   \n",
       "unique           6             801              4               711   \n",
       "top     2024-01-13  Greater London  United States  Data Entry Clerk   \n",
       "freq          4946             189          10291              1088   \n",
       "\n",
       "         job_level job_type  \n",
       "count        12217    12217  \n",
       "unique           2        3  \n",
       "top     Mid senior   Onsite  \n",
       "freq         10919    12188  "
      ]
     },
     "metadata": {},
     "output_type": "display_data"
    },
    {
     "data": {
      "text/plain": [
       "'Job Skills Dataset:'"
      ]
     },
     "metadata": {},
     "output_type": "display_data"
    },
    {
     "data": {
      "application/vnd.microsoft.datawrangler.viewer.v0+json": {
       "columns": [
        {
         "name": "index",
         "rawType": "object",
         "type": "string"
        },
        {
         "name": "job_link",
         "rawType": "object",
         "type": "unknown"
        },
        {
         "name": "job_skills",
         "rawType": "object",
         "type": "unknown"
        }
       ],
       "conversionMethod": "pd.DataFrame",
       "ref": "c44326fe-74ed-4fb1-864f-679d07ea9a17",
       "rows": [
        [
         "count",
         "12217",
         "12212"
        ],
        [
         "unique",
         "12217",
         "12204"
        ],
        [
         "top",
         "https://www.linkedin.com/jobs/view/senior-machine-learning-engineer-at-jobs-for-humanity-3804053819",
         "VolunteerMatch, LinkedIn for Good"
        ],
        [
         "freq",
         "1",
         "3"
        ]
       ],
       "shape": {
        "columns": 2,
        "rows": 4
       }
      },
      "text/html": [
       "<div>\n",
       "<style scoped>\n",
       "    .dataframe tbody tr th:only-of-type {\n",
       "        vertical-align: middle;\n",
       "    }\n",
       "\n",
       "    .dataframe tbody tr th {\n",
       "        vertical-align: top;\n",
       "    }\n",
       "\n",
       "    .dataframe thead th {\n",
       "        text-align: right;\n",
       "    }\n",
       "</style>\n",
       "<table border=\"1\" class=\"dataframe\">\n",
       "  <thead>\n",
       "    <tr style=\"text-align: right;\">\n",
       "      <th></th>\n",
       "      <th>job_link</th>\n",
       "      <th>job_skills</th>\n",
       "    </tr>\n",
       "  </thead>\n",
       "  <tbody>\n",
       "    <tr>\n",
       "      <th>count</th>\n",
       "      <td>12217</td>\n",
       "      <td>12212</td>\n",
       "    </tr>\n",
       "    <tr>\n",
       "      <th>unique</th>\n",
       "      <td>12217</td>\n",
       "      <td>12204</td>\n",
       "    </tr>\n",
       "    <tr>\n",
       "      <th>top</th>\n",
       "      <td>https://www.linkedin.com/jobs/view/senior-mach...</td>\n",
       "      <td>VolunteerMatch, LinkedIn for Good</td>\n",
       "    </tr>\n",
       "    <tr>\n",
       "      <th>freq</th>\n",
       "      <td>1</td>\n",
       "      <td>3</td>\n",
       "    </tr>\n",
       "  </tbody>\n",
       "</table>\n",
       "</div>"
      ],
      "text/plain": [
       "                                                 job_link  \\\n",
       "count                                               12217   \n",
       "unique                                              12217   \n",
       "top     https://www.linkedin.com/jobs/view/senior-mach...   \n",
       "freq                                                    1   \n",
       "\n",
       "                               job_skills  \n",
       "count                               12212  \n",
       "unique                              12204  \n",
       "top     VolunteerMatch, LinkedIn for Good  \n",
       "freq                                    3  "
      ]
     },
     "metadata": {},
     "output_type": "display_data"
    }
   ],
   "source": [
    "# display basic dataset statistics\n",
    "\n",
    "display(\"Job Postings Dataset:\")\n",
    "display(job_postings.describe())\n",
    "display(\"Job Skills Dataset:\")\n",
    "display(job_skills.describe())\n",
    "\n"
   ]
  },
  {
   "cell_type": "markdown",
   "metadata": {},
   "source": [
    "### Dataset Career Representation Analysis"
   ]
  },
  {
   "cell_type": "code",
   "execution_count": 32,
   "metadata": {},
   "outputs": [
    {
     "data": {
      "text/plain": [
       "'Number of unique job titles in the job_postings dataset: 6484'"
      ]
     },
     "metadata": {},
     "output_type": "display_data"
    },
    {
     "data": {
      "application/vnd.microsoft.datawrangler.viewer.v0+json": {
       "columns": [
        {
         "name": "index",
         "rawType": "int64",
         "type": "integer"
        },
        {
         "name": "job_title",
         "rawType": "object",
         "type": "string"
        },
        {
         "name": "count",
         "rawType": "int64",
         "type": "integer"
        }
       ],
       "conversionMethod": "pd.DataFrame",
       "ref": "c4326c71-a246-4029-a884-edb7ddfc65fd",
       "rows": [
        [
         "0",
         "Senior Data Engineer",
         "285"
        ],
        [
         "1",
         "Senior Data Analyst",
         "163"
        ],
        [
         "2",
         "Data Engineer",
         "149"
        ],
        [
         "3",
         "Senior MLOps Engineer",
         "138"
        ],
        [
         "4",
         "Data Analyst",
         "137"
        ],
        [
         "5",
         "Data Scientist",
         "128"
        ],
        [
         "6",
         "Lead Data Engineer",
         "123"
        ],
        [
         "7",
         "Senior Data Scientist",
         "119"
        ],
        [
         "8",
         "Data Architect",
         "111"
        ],
        [
         "9",
         "Staff Machine Learning Engineer, Series A",
         "101"
        ],
        [
         "10",
         "Senior Machine Learning Engineer",
         "59"
        ],
        [
         "11",
         "Manager, Data Engineering",
         "57"
        ],
        [
         "12",
         "Manager, Data Loss Prevention (DLP) Engineer (Symantec)",
         "57"
        ],
        [
         "13",
         "Senior Data Engineer, Public Company",
         "53"
        ],
        [
         "14",
         "Senior Machine Learning Engineer - AI",
         "53"
        ],
        [
         "15",
         "Principal Associate, Data Loss Prevention (DLP) Engineer",
         "53"
        ],
        [
         "16",
         "Senior Database Administrator",
         "49"
        ],
        [
         "17",
         "Machine Learning Engineer",
         "49"
        ],
        [
         "18",
         "Lead Data Scientist",
         "46"
        ],
        [
         "19",
         "Senior MLS Engineer, Autonomous Driving Startup",
         "45"
        ],
        [
         "20",
         "Manager, Data Engineering (Python, AWS, Airflow, Snowflake) (Hybrid)",
         "44"
        ],
        [
         "21",
         "Senior Manager, Ontology and Data Modeling",
         "41"
        ],
        [
         "22",
         "Sr. Data Engineer",
         "39"
        ],
        [
         "23",
         "Database Administrator",
         "37"
        ],
        [
         "24",
         "Senior Manager, Machine Learning Engineering",
         "36"
        ],
        [
         "25",
         "Lead Machine Learning Engineer",
         "35"
        ],
        [
         "26",
         "Contractor - Epic Clarity Data Analyst - Revenue Cycle",
         "34"
        ],
        [
         "27",
         "Manager, Cyber Risk & Analysis (Machine Learning)",
         "32"
        ],
        [
         "28",
         "Contractor - Epic Clarity Data Analyst",
         "32"
        ],
        [
         "29",
         "Datacenter Technician",
         "32"
        ],
        [
         "30",
         "Senior Lead Data Engineer",
         "30"
        ],
        [
         "31",
         "Lead Data Analyst",
         "30"
        ],
        [
         "32",
         "Business Data Analyst",
         "29"
        ],
        [
         "33",
         "Senior Data Analyst (Flights team, Bangkok-based, Relocation provided)",
         "28"
        ],
        [
         "34",
         "Lead Data Engineer (FinOps)",
         "27"
        ],
        [
         "35",
         "Customer Service Representative/Data Analyst/Data Entry Clerk Full Time",
         "27"
        ],
        [
         "36",
         "Lead Data Engineer (Fintech team) (Bangkok based, relocation provided)",
         "26"
        ],
        [
         "37",
         "Data Steward - Research Analysis Spec Sr",
         "25"
        ],
        [
         "38",
         "Sr. Data Engineer (Hybrid)",
         "25"
        ],
        [
         "39",
         "Master Data Management - Data/Process Analyst",
         "25"
        ],
        [
         "40",
         "Customer Service Representative/Data Analyst/Data Entry Clerk",
         "24"
        ],
        [
         "41",
         "Data Center Engineer",
         "23"
        ],
        [
         "42",
         "Director, Ontology and Data Modeling",
         "22"
        ],
        [
         "43",
         "Data Analyst I",
         "22"
        ],
        [
         "44",
         "Sr. Data Analyst",
         "22"
        ],
        [
         "45",
         "Data Analyst (Bangkok Based, relocation provided)",
         "22"
        ],
        [
         "46",
         "Senior Data Analyst (Product Team) (Bangkok Based, relocation provided)",
         "22"
        ],
        [
         "47",
         "Customer Service Representative/Data Analyst/Data Entry Clerk Part Time",
         "22"
        ],
        [
         "48",
         "Data Entry Specialist",
         "21"
        ],
        [
         "49",
         "Data Manager",
         "21"
        ]
       ],
       "shape": {
        "columns": 2,
        "rows": 6484
       }
      },
      "text/html": [
       "<div>\n",
       "<style scoped>\n",
       "    .dataframe tbody tr th:only-of-type {\n",
       "        vertical-align: middle;\n",
       "    }\n",
       "\n",
       "    .dataframe tbody tr th {\n",
       "        vertical-align: top;\n",
       "    }\n",
       "\n",
       "    .dataframe thead th {\n",
       "        text-align: right;\n",
       "    }\n",
       "</style>\n",
       "<table border=\"1\" class=\"dataframe\">\n",
       "  <thead>\n",
       "    <tr style=\"text-align: right;\">\n",
       "      <th></th>\n",
       "      <th>job_title</th>\n",
       "      <th>count</th>\n",
       "    </tr>\n",
       "  </thead>\n",
       "  <tbody>\n",
       "    <tr>\n",
       "      <th>0</th>\n",
       "      <td>Senior Data Engineer</td>\n",
       "      <td>285</td>\n",
       "    </tr>\n",
       "    <tr>\n",
       "      <th>1</th>\n",
       "      <td>Senior Data Analyst</td>\n",
       "      <td>163</td>\n",
       "    </tr>\n",
       "    <tr>\n",
       "      <th>2</th>\n",
       "      <td>Data Engineer</td>\n",
       "      <td>149</td>\n",
       "    </tr>\n",
       "    <tr>\n",
       "      <th>3</th>\n",
       "      <td>Senior MLOps Engineer</td>\n",
       "      <td>138</td>\n",
       "    </tr>\n",
       "    <tr>\n",
       "      <th>4</th>\n",
       "      <td>Data Analyst</td>\n",
       "      <td>137</td>\n",
       "    </tr>\n",
       "    <tr>\n",
       "      <th>...</th>\n",
       "      <td>...</td>\n",
       "      <td>...</td>\n",
       "    </tr>\n",
       "    <tr>\n",
       "      <th>6479</th>\n",
       "      <td>Medical Scientist/MLT - Cranberry (FT and PT a...</td>\n",
       "      <td>1</td>\n",
       "    </tr>\n",
       "    <tr>\n",
       "      <th>6480</th>\n",
       "      <td>IMLS Graduate Fellow in Objects Conservation</td>\n",
       "      <td>1</td>\n",
       "    </tr>\n",
       "    <tr>\n",
       "      <th>6481</th>\n",
       "      <td>SCHOOL DATA MANAGER II 2023-2024 EOY</td>\n",
       "      <td>1</td>\n",
       "    </tr>\n",
       "    <tr>\n",
       "      <th>6482</th>\n",
       "      <td>Sr Systems Administrator (Data Management)</td>\n",
       "      <td>1</td>\n",
       "    </tr>\n",
       "    <tr>\n",
       "      <th>6483</th>\n",
       "      <td>Medical Technologist, MLS or MLT</td>\n",
       "      <td>1</td>\n",
       "    </tr>\n",
       "  </tbody>\n",
       "</table>\n",
       "<p>6484 rows × 2 columns</p>\n",
       "</div>"
      ],
      "text/plain": [
       "                                              job_title  count\n",
       "0                                  Senior Data Engineer    285\n",
       "1                                   Senior Data Analyst    163\n",
       "2                                         Data Engineer    149\n",
       "3                                 Senior MLOps Engineer    138\n",
       "4                                          Data Analyst    137\n",
       "...                                                 ...    ...\n",
       "6479  Medical Scientist/MLT - Cranberry (FT and PT a...      1\n",
       "6480       IMLS Graduate Fellow in Objects Conservation      1\n",
       "6481               SCHOOL DATA MANAGER II 2023-2024 EOY      1\n",
       "6482         Sr Systems Administrator (Data Management)      1\n",
       "6483                   Medical Technologist, MLS or MLT      1\n",
       "\n",
       "[6484 rows x 2 columns]"
      ]
     },
     "metadata": {},
     "output_type": "display_data"
    }
   ],
   "source": [
    "# Display the number of unique job titles in the job_postings dataset\n",
    "unique_job_titles = job_postings['job_title'].nunique()\n",
    "display(f\"Number of unique job titles in the job_postings dataset: {unique_job_titles}\")\n",
    "\n",
    "# Display a l;st of all job titles and the number of occurences in the job_postings dataset\n",
    "job_title_counts = pd.DataFrame(job_postings['job_title'].value_counts()).reset_index()\n",
    "display(job_title_counts)"
   ]
  },
  {
   "cell_type": "code",
   "execution_count": 33,
   "metadata": {},
   "outputs": [
    {
     "data": {
      "text/plain": [
       "'Top 10 Most Common Job Titles:'"
      ]
     },
     "metadata": {},
     "output_type": "display_data"
    },
    {
     "data": {
      "application/vnd.microsoft.datawrangler.viewer.v0+json": {
       "columns": [
        {
         "name": "index",
         "rawType": "int64",
         "type": "integer"
        },
        {
         "name": "job_title",
         "rawType": "object",
         "type": "string"
        },
        {
         "name": "count",
         "rawType": "int64",
         "type": "integer"
        }
       ],
       "conversionMethod": "pd.DataFrame",
       "ref": "ea1b24eb-a1c5-4f71-a879-de68e1dc6472",
       "rows": [
        [
         "0",
         "Senior Data Engineer",
         "285"
        ],
        [
         "1",
         "Senior Data Analyst",
         "163"
        ],
        [
         "2",
         "Data Engineer",
         "149"
        ],
        [
         "3",
         "Senior MLOps Engineer",
         "138"
        ],
        [
         "4",
         "Data Analyst",
         "137"
        ],
        [
         "5",
         "Data Scientist",
         "128"
        ],
        [
         "6",
         "Lead Data Engineer",
         "123"
        ],
        [
         "7",
         "Senior Data Scientist",
         "119"
        ],
        [
         "8",
         "Data Architect",
         "111"
        ],
        [
         "9",
         "Staff Machine Learning Engineer, Series A",
         "101"
        ]
       ],
       "shape": {
        "columns": 2,
        "rows": 10
       }
      },
      "text/html": [
       "<div>\n",
       "<style scoped>\n",
       "    .dataframe tbody tr th:only-of-type {\n",
       "        vertical-align: middle;\n",
       "    }\n",
       "\n",
       "    .dataframe tbody tr th {\n",
       "        vertical-align: top;\n",
       "    }\n",
       "\n",
       "    .dataframe thead th {\n",
       "        text-align: right;\n",
       "    }\n",
       "</style>\n",
       "<table border=\"1\" class=\"dataframe\">\n",
       "  <thead>\n",
       "    <tr style=\"text-align: right;\">\n",
       "      <th></th>\n",
       "      <th>job_title</th>\n",
       "      <th>count</th>\n",
       "    </tr>\n",
       "  </thead>\n",
       "  <tbody>\n",
       "    <tr>\n",
       "      <th>0</th>\n",
       "      <td>Senior Data Engineer</td>\n",
       "      <td>285</td>\n",
       "    </tr>\n",
       "    <tr>\n",
       "      <th>1</th>\n",
       "      <td>Senior Data Analyst</td>\n",
       "      <td>163</td>\n",
       "    </tr>\n",
       "    <tr>\n",
       "      <th>2</th>\n",
       "      <td>Data Engineer</td>\n",
       "      <td>149</td>\n",
       "    </tr>\n",
       "    <tr>\n",
       "      <th>3</th>\n",
       "      <td>Senior MLOps Engineer</td>\n",
       "      <td>138</td>\n",
       "    </tr>\n",
       "    <tr>\n",
       "      <th>4</th>\n",
       "      <td>Data Analyst</td>\n",
       "      <td>137</td>\n",
       "    </tr>\n",
       "    <tr>\n",
       "      <th>5</th>\n",
       "      <td>Data Scientist</td>\n",
       "      <td>128</td>\n",
       "    </tr>\n",
       "    <tr>\n",
       "      <th>6</th>\n",
       "      <td>Lead Data Engineer</td>\n",
       "      <td>123</td>\n",
       "    </tr>\n",
       "    <tr>\n",
       "      <th>7</th>\n",
       "      <td>Senior Data Scientist</td>\n",
       "      <td>119</td>\n",
       "    </tr>\n",
       "    <tr>\n",
       "      <th>8</th>\n",
       "      <td>Data Architect</td>\n",
       "      <td>111</td>\n",
       "    </tr>\n",
       "    <tr>\n",
       "      <th>9</th>\n",
       "      <td>Staff Machine Learning Engineer, Series A</td>\n",
       "      <td>101</td>\n",
       "    </tr>\n",
       "  </tbody>\n",
       "</table>\n",
       "</div>"
      ],
      "text/plain": [
       "                                   job_title  count\n",
       "0                       Senior Data Engineer    285\n",
       "1                        Senior Data Analyst    163\n",
       "2                              Data Engineer    149\n",
       "3                      Senior MLOps Engineer    138\n",
       "4                               Data Analyst    137\n",
       "5                             Data Scientist    128\n",
       "6                         Lead Data Engineer    123\n",
       "7                      Senior Data Scientist    119\n",
       "8                             Data Architect    111\n",
       "9  Staff Machine Learning Engineer, Series A    101"
      ]
     },
     "metadata": {},
     "output_type": "display_data"
    },
    {
     "data": {
      "text/plain": [
       "'Bottom 10 Least Common Job Titles:'"
      ]
     },
     "metadata": {},
     "output_type": "display_data"
    },
    {
     "data": {
      "application/vnd.microsoft.datawrangler.viewer.v0+json": {
       "columns": [
        {
         "name": "index",
         "rawType": "int64",
         "type": "integer"
        },
        {
         "name": "job_title",
         "rawType": "object",
         "type": "string"
        },
        {
         "name": "count",
         "rawType": "int64",
         "type": "integer"
        }
       ],
       "conversionMethod": "pd.DataFrame",
       "ref": "6830e2d5-258f-4cb5-a892-d73fadb4b24e",
       "rows": [
        [
         "6474",
         "Alternative Data Sales",
         "1"
        ],
        [
         "6475",
         "Grants and Data Quality Assurance Manager",
         "1"
        ],
        [
         "6476",
         "Government Representative 2  Data Coordinator, Gender Based Violence (Posting #014-24)",
         "1"
        ],
        [
         "6477",
         "Research Data Specialist",
         "1"
        ],
        [
         "6478",
         "Medical Laboratory Scientist/MLT",
         "1"
        ],
        [
         "6479",
         "Medical Scientist/MLT - Cranberry (FT and PT available)",
         "1"
        ],
        [
         "6480",
         "IMLS Graduate Fellow in Objects Conservation",
         "1"
        ],
        [
         "6481",
         "SCHOOL DATA MANAGER II 2023-2024 EOY",
         "1"
        ],
        [
         "6482",
         "Sr Systems Administrator (Data Management)",
         "1"
        ],
        [
         "6483",
         "Medical Technologist, MLS or MLT",
         "1"
        ]
       ],
       "shape": {
        "columns": 2,
        "rows": 10
       }
      },
      "text/html": [
       "<div>\n",
       "<style scoped>\n",
       "    .dataframe tbody tr th:only-of-type {\n",
       "        vertical-align: middle;\n",
       "    }\n",
       "\n",
       "    .dataframe tbody tr th {\n",
       "        vertical-align: top;\n",
       "    }\n",
       "\n",
       "    .dataframe thead th {\n",
       "        text-align: right;\n",
       "    }\n",
       "</style>\n",
       "<table border=\"1\" class=\"dataframe\">\n",
       "  <thead>\n",
       "    <tr style=\"text-align: right;\">\n",
       "      <th></th>\n",
       "      <th>job_title</th>\n",
       "      <th>count</th>\n",
       "    </tr>\n",
       "  </thead>\n",
       "  <tbody>\n",
       "    <tr>\n",
       "      <th>6474</th>\n",
       "      <td>Alternative Data Sales</td>\n",
       "      <td>1</td>\n",
       "    </tr>\n",
       "    <tr>\n",
       "      <th>6475</th>\n",
       "      <td>Grants and Data Quality Assurance Manager</td>\n",
       "      <td>1</td>\n",
       "    </tr>\n",
       "    <tr>\n",
       "      <th>6476</th>\n",
       "      <td>Government Representative 2  Data Coordinator,...</td>\n",
       "      <td>1</td>\n",
       "    </tr>\n",
       "    <tr>\n",
       "      <th>6477</th>\n",
       "      <td>Research Data Specialist</td>\n",
       "      <td>1</td>\n",
       "    </tr>\n",
       "    <tr>\n",
       "      <th>6478</th>\n",
       "      <td>Medical Laboratory Scientist/MLT</td>\n",
       "      <td>1</td>\n",
       "    </tr>\n",
       "    <tr>\n",
       "      <th>6479</th>\n",
       "      <td>Medical Scientist/MLT - Cranberry (FT and PT a...</td>\n",
       "      <td>1</td>\n",
       "    </tr>\n",
       "    <tr>\n",
       "      <th>6480</th>\n",
       "      <td>IMLS Graduate Fellow in Objects Conservation</td>\n",
       "      <td>1</td>\n",
       "    </tr>\n",
       "    <tr>\n",
       "      <th>6481</th>\n",
       "      <td>SCHOOL DATA MANAGER II 2023-2024 EOY</td>\n",
       "      <td>1</td>\n",
       "    </tr>\n",
       "    <tr>\n",
       "      <th>6482</th>\n",
       "      <td>Sr Systems Administrator (Data Management)</td>\n",
       "      <td>1</td>\n",
       "    </tr>\n",
       "    <tr>\n",
       "      <th>6483</th>\n",
       "      <td>Medical Technologist, MLS or MLT</td>\n",
       "      <td>1</td>\n",
       "    </tr>\n",
       "  </tbody>\n",
       "</table>\n",
       "</div>"
      ],
      "text/plain": [
       "                                              job_title  count\n",
       "6474                             Alternative Data Sales      1\n",
       "6475          Grants and Data Quality Assurance Manager      1\n",
       "6476  Government Representative 2  Data Coordinator,...      1\n",
       "6477                           Research Data Specialist      1\n",
       "6478                   Medical Laboratory Scientist/MLT      1\n",
       "6479  Medical Scientist/MLT - Cranberry (FT and PT a...      1\n",
       "6480       IMLS Graduate Fellow in Objects Conservation      1\n",
       "6481               SCHOOL DATA MANAGER II 2023-2024 EOY      1\n",
       "6482         Sr Systems Administrator (Data Management)      1\n",
       "6483                   Medical Technologist, MLS or MLT      1"
      ]
     },
     "metadata": {},
     "output_type": "display_data"
    },
    {
     "data": {
      "image/png": "[encoded data removed]",
      "text/plain": [
       "<Figure size 1500x800 with 2 Axes>"
      ]
     },
     "metadata": {},
     "output_type": "display_data"
    }
   ],
   "source": [
    "# Visualize the distribution of job titles within most and least common\n",
    "top_10_jobs = job_title_counts.head(10)\n",
    "bottom_10_jobs = job_title_counts.tail(10)\n",
    "\n",
    "display(\"Top 10 Most Common Job Titles:\")\n",
    "display(top_10_jobs)\n",
    "\n",
    "display(\"Bottom 10 Least Common Job Titles:\")\n",
    "display(bottom_10_jobs)\n",
    "\n",
    "# Create figure\n",
    "plt.figure(figsize=(15, 8))\n",
    "\n",
    "# First subplot - Top 10 jobs\n",
    "plt.subplot(1, 2, 1)\n",
    "plt.bar(top_10_jobs['job_title'], top_10_jobs['count'])\n",
    "plt.xticks(rotation=45, ha='right')\n",
    "plt.title('Top 10 Most Common Jobs')\n",
    "\n",
    "# Second subplot - Bottom 10 jobs\n",
    "plt.subplot(1, 2, 2)\n",
    "plt.bar(bottom_10_jobs['job_title'], bottom_10_jobs['count'])\n",
    "plt.xticks(rotation=45, ha='right')\n",
    "plt.title('Bottom 10 Least Common Jobs')\n",
    "\n",
    "plt.tight_layout()\n",
    "\n",
    "# save figure\n",
    "plt.savefig('../../../../resources/eda_1.1_job_titles_distribution_bar.png')\n"
   ]
  },
  {
   "cell_type": "code",
   "execution_count": 34,
   "metadata": {},
   "outputs": [
    {
     "data": {
      "image/png": "[encoded data removed]",
      "text/plain": [
       "<Figure size 1200x500 with 1 Axes>"
      ]
     },
     "metadata": {},
     "output_type": "display_data"
    }
   ],
   "source": [
    "# Create a new figure for the line graph\n",
    "plt.figure(figsize=(12, 5))\n",
    "\n",
    "# Create line plot using the full job_title_counts dataframe\n",
    "plt.plot(range(len(job_title_counts)), job_title_counts['count'], linewidth=2)\n",
    "\n",
    "# Customize the plot\n",
    "plt.title('Distribution of Job Counts by Commonality')\n",
    "plt.xlabel('Job Title Rank (Most to Least Common)')\n",
    "plt.ylabel('Number of Occurrences')\n",
    "plt.grid(True, alpha=0.7)\n",
    "\n",
    "# Add tight layout to prevent label cutoff\n",
    "plt.tight_layout()\n",
    "\n",
    "# save figure\n",
    "plt.savefig('../../../../resources/eda_1.1_job_counts_distribution_line.png')\n"
   ]
  },
  {
   "cell_type": "markdown",
   "metadata": {},
   "source": [
    "#### **Reflection: Standardizing Job Titles**  \n",
    "\n",
    "I expected some inconsistencies—abbreviations, varied job names, specializations, and industry-specific connotations—but running the **career representation analysis** revealed just how extreme the uniqueness of certain job titles is. Seeing roles like **\"IMLS Graduate Fellow in Objects Conservation\"** or **\"Medical Scientist/MLT - Cranberry (FT and PT)\"** reinforced that a simple rule-based approach might not be enough.  \n",
    "\n",
    "The **line graph** depicting job count distribution by commonality made this even clearer—**nearly 80% of the job titles appear only once**, meaning most titles are highly descriptive and unique. This raises a key challenge: **How do I generalize meaningfully without oversimplifying the data?**  \n",
    "\n",
    "From my research, possible approaches include **keyword-based categorization**, **manual review for edge cases**, and even **fuzzy matching**—though I haven’t explored these yet. As I start the **EDA process**, my focus will be understanding the data’s structure before deciding on what the best approach to standardization could be and whether it's viable considering the time constraints.\n"
   ]
  },
  {
   "cell_type": "markdown",
   "metadata": {},
   "source": [
    "### Job Skill Data Representation Analysis"
   ]
  },
  {
   "cell_type": "code",
   "execution_count": 35,
   "metadata": {},
   "outputs": [
    {
     "data": {
      "application/vnd.microsoft.datawrangler.viewer.v0+json": {
       "columns": [
        {
         "name": "index",
         "rawType": "int64",
         "type": "integer"
        },
        {
         "name": "job_link",
         "rawType": "object",
         "type": "string"
        },
        {
         "name": "last_processed_time",
         "rawType": "object",
         "type": "string"
        },
        {
         "name": "last_status",
         "rawType": "object",
         "type": "string"
        },
        {
         "name": "got_summary",
         "rawType": "object",
         "type": "string"
        },
        {
         "name": "got_ner",
         "rawType": "object",
         "type": "string"
        },
        {
         "name": "is_being_worked",
         "rawType": "object",
         "type": "string"
        },
        {
         "name": "job_title",
         "rawType": "object",
         "type": "string"
        },
        {
         "name": "company",
         "rawType": "object",
         "type": "string"
        },
        {
         "name": "job_location",
         "rawType": "object",
         "type": "string"
        },
        {
         "name": "first_seen",
         "rawType": "object",
         "type": "string"
        },
        {
         "name": "search_city",
         "rawType": "object",
         "type": "string"
        },
        {
         "name": "search_country",
         "rawType": "object",
         "type": "string"
        },
        {
         "name": "search_position",
         "rawType": "object",
         "type": "string"
        },
        {
         "name": "job_level",
         "rawType": "object",
         "type": "string"
        },
        {
         "name": "job_type",
         "rawType": "object",
         "type": "string"
        },
        {
         "name": "job_skills",
         "rawType": "object",
         "type": "string"
        }
       ],
       "conversionMethod": "pd.DataFrame",
       "ref": "717aa844-8eb2-451d-b9b7-fac7c71aa634",
       "rows": [
        [
         "0",
         "https://www.linkedin.com/jobs/view/senior-machine-learning-engineer-at-jobs-for-humanity-3804053819",
         "2024-01-21 08:08:48.031964+00",
         "Finished NER",
         "t",
         "t",
         "f",
         "Senior Machine Learning Engineer",
         "Jobs for Humanity",
         "New Haven, CT",
         "2024-01-14",
         "East Haven",
         "United States",
         "Agricultural-Research Engineer",
         "Mid senior",
         "Onsite",
         "Machine Learning, Programming, Python, Scala, Java, Data Engineering, Distributed Computing, Statistical Modeling, Optimization, Data Pipelines, Cloud Computing, DevOps, Software Development, Data Gathering, Data Preparation, Data Visualization, Machine Learning Frameworks, scikitlearn, PyTorch, Dask, Spark, TensorFlow, Distributed File Systems, Multi node Database Paradigms, Open Source ML Software, Responsible AI, Explainable AI"
        ],
        [
         "1",
         "https://www.linkedin.com/jobs/view/principal-software-engineer-ml-accelerators-at-aurora-3703455068",
         "2024-01-20 04:02:12.331406+00",
         "Finished NER",
         "t",
         "t",
         "f",
         "Principal Software Engineer, ML Accelerators",
         "Aurora",
         "San Francisco, CA",
         "2024-01-14",
         "El Cerrito",
         "United States",
         "Set-Key Driver",
         "Mid senior",
         "Onsite",
         "C++, Python, PyTorch, TensorFlow, MXNet, CUDA, OpenCL, OpenVX, Halide, SIMD programming models, MLspecific accelerators, Linux/unix environments, Deep learning frameworks, Computer vision deep learning models, ML software and hardware technology, Inference on edge platforms, Cloud ML training pipelines, HPC experience, Performance troubleshooting, Profiling, Roofline model, Analytical skills, Communication skills"
        ],
        [
         "2",
         "https://www.linkedin.com/jobs/view/senior-etl-data-warehouse-specialist-at-adame-services-llc-3765023888",
         "2024-01-21 08:08:31.941595+00",
         "Finished NER",
         "t",
         "t",
         "f",
         "Senior ETL Data Warehouse Specialist",
         "Adame Services LLC",
         "New York, NY",
         "2024-01-14",
         "Middletown",
         "United States",
         "Technical Support Specialist",
         "Associate",
         "Onsite",
         "ETL, Data Integration, Data Transformation, Data Warehousing, Business Intelligence, Data Modeling, Data Architecture, Data Quality, Data Validation, Data Cleansing, Performance Optimization, Performance Tuning, Troubleshooting, Documentation, Reporting, Data Analysis, Collaboration, Communication, SQL, Informatica, Talend, Apache NiFi, AWS Redshift, Azure SQL Data Warehouse, Financial/Banking, CloudBased Data Platforms, Regulatory Compliance"
        ],
        [
         "3",
         "https://www.linkedin.com/jobs/view/senior-data-warehouse-developer-architect-at-morph-enterprise-3794602483",
         "2024-01-20 15:30:55.796572+00",
         "Finished NER",
         "t",
         "t",
         "f",
         "Senior Data Warehouse Developer / Architect",
         "Morph Enterprise",
         "Harrisburg, PA",
         "2024-01-12",
         "Lebanon",
         "United States",
         "Architect",
         "Mid senior",
         "Onsite",
         "Data Lakes, Data Bricks, Azure Data Factory Pipelines, Spark, Python, Business Intelligence, Data Warehouse, SQL Server, Azure, ETL/ELT, SQL Server Integration Services, TSQL, Data Formatting, Data Capture, Data Search, Data Retrieval, Data Extraction, Data Classification, Information Filtering, Data Mining Architectures, Modeling Standards, Reporting, Data Analysis Methodologies, Data Engineering, Database File Systems Optimization, API's, Analytics as a Service, Relational Databases, Dimensional Databases, Entity Relationships, Data Warehousing, Facts, Dimensions, Star Schema Concepts, Star Schema Terminology, Project Management, Organizational Skills, Collaboration, Communication, Technical Presentaion Skills, 12+ Years of Relevant Experience"
        ],
        [
         "4",
         "https://www.linkedin.com/jobs/view/lead-data-engineer-at-dice-3805948138",
         "2024-01-21 08:08:58.312124+00",
         "Finished NER",
         "t",
         "t",
         "f",
         "Lead Data Engineer",
         "Dice",
         "Plano, TX",
         "2024-01-14",
         "McKinney",
         "United States",
         "Maintenance Data Analyst",
         "Mid senior",
         "Onsite",
         "Java, Scala, Python, RDBMS, NoSQL, Redshift, Snowflake, Unit testing, Agile engineering, Big data technologies, Cloud computing (AWS Microsoft Azure Google Cloud), Distributed data/computing tools (MapReduce Hadoop Hive EMR Kafka Spark Gurobi MySQL), Realtime data and streaming applications, NoSQL implementation (Mongo Cassandra), Data warehousing (Redshift Snowflake), UNIX/Linux, Shell scripting"
        ]
       ],
       "shape": {
        "columns": 16,
        "rows": 5
       }
      },
      "text/html": [
       "<div>\n",
       "<style scoped>\n",
       "    .dataframe tbody tr th:only-of-type {\n",
       "        vertical-align: middle;\n",
       "    }\n",
       "\n",
       "    .dataframe tbody tr th {\n",
       "        vertical-align: top;\n",
       "    }\n",
       "\n",
       "    .dataframe thead th {\n",
       "        text-align: right;\n",
       "    }\n",
       "</style>\n",
       "<table border=\"1\" class=\"dataframe\">\n",
       "  <thead>\n",
       "    <tr style=\"text-align: right;\">\n",
       "      <th></th>\n",
       "      <th>job_link</th>\n",
       "      <th>last_processed_time</th>\n",
       "      <th>last_status</th>\n",
       "      <th>got_summary</th>\n",
       "      <th>got_ner</th>\n",
       "      <th>is_being_worked</th>\n",
       "      <th>job_title</th>\n",
       "      <th>company</th>\n",
       "      <th>job_location</th>\n",
       "      <th>first_seen</th>\n",
       "      <th>search_city</th>\n",
       "      <th>search_country</th>\n",
       "      <th>search_position</th>\n",
       "      <th>job_level</th>\n",
       "      <th>job_type</th>\n",
       "      <th>job_skills</th>\n",
       "    </tr>\n",
       "  </thead>\n",
       "  <tbody>\n",
       "    <tr>\n",
       "      <th>0</th>\n",
       "      <td>https://www.linkedin.com/jobs/view/senior-mach...</td>\n",
       "      <td>2024-01-21 08:08:48.031964+00</td>\n",
       "      <td>Finished NER</td>\n",
       "      <td>t</td>\n",
       "      <td>t</td>\n",
       "      <td>f</td>\n",
       "      <td>Senior Machine Learning Engineer</td>\n",
       "      <td>Jobs for Humanity</td>\n",
       "      <td>New Haven, CT</td>\n",
       "      <td>2024-01-14</td>\n",
       "      <td>East Haven</td>\n",
       "      <td>United States</td>\n",
       "      <td>Agricultural-Research Engineer</td>\n",
       "      <td>Mid senior</td>\n",
       "      <td>Onsite</td>\n",
       "      <td>Machine Learning, Programming, Python, Scala, ...</td>\n",
       "    </tr>\n",
       "    <tr>\n",
       "      <th>1</th>\n",
       "      <td>https://www.linkedin.com/jobs/view/principal-s...</td>\n",
       "      <td>2024-01-20 04:02:12.331406+00</td>\n",
       "      <td>Finished NER</td>\n",
       "      <td>t</td>\n",
       "      <td>t</td>\n",
       "      <td>f</td>\n",
       "      <td>Principal Software Engineer, ML Accelerators</td>\n",
       "      <td>Aurora</td>\n",
       "      <td>San Francisco, CA</td>\n",
       "      <td>2024-01-14</td>\n",
       "      <td>El Cerrito</td>\n",
       "      <td>United States</td>\n",
       "      <td>Set-Key Driver</td>\n",
       "      <td>Mid senior</td>\n",
       "      <td>Onsite</td>\n",
       "      <td>C++, Python, PyTorch, TensorFlow, MXNet, CUDA,...</td>\n",
       "    </tr>\n",
       "    <tr>\n",
       "      <th>2</th>\n",
       "      <td>https://www.linkedin.com/jobs/view/senior-etl-...</td>\n",
       "      <td>2024-01-21 08:08:31.941595+00</td>\n",
       "      <td>Finished NER</td>\n",
       "      <td>t</td>\n",
       "      <td>t</td>\n",
       "      <td>f</td>\n",
       "      <td>Senior ETL Data Warehouse Specialist</td>\n",
       "      <td>Adame Services LLC</td>\n",
       "      <td>New York, NY</td>\n",
       "      <td>2024-01-14</td>\n",
       "      <td>Middletown</td>\n",
       "      <td>United States</td>\n",
       "      <td>Technical Support Specialist</td>\n",
       "      <td>Associate</td>\n",
       "      <td>Onsite</td>\n",
       "      <td>ETL, Data Integration, Data Transformation, Da...</td>\n",
       "    </tr>\n",
       "    <tr>\n",
       "      <th>3</th>\n",
       "      <td>https://www.linkedin.com/jobs/view/senior-data...</td>\n",
       "      <td>2024-01-20 15:30:55.796572+00</td>\n",
       "      <td>Finished NER</td>\n",
       "      <td>t</td>\n",
       "      <td>t</td>\n",
       "      <td>f</td>\n",
       "      <td>Senior Data Warehouse Developer / Architect</td>\n",
       "      <td>Morph Enterprise</td>\n",
       "      <td>Harrisburg, PA</td>\n",
       "      <td>2024-01-12</td>\n",
       "      <td>Lebanon</td>\n",
       "      <td>United States</td>\n",
       "      <td>Architect</td>\n",
       "      <td>Mid senior</td>\n",
       "      <td>Onsite</td>\n",
       "      <td>Data Lakes, Data Bricks, Azure Data Factory Pi...</td>\n",
       "    </tr>\n",
       "    <tr>\n",
       "      <th>4</th>\n",
       "      <td>https://www.linkedin.com/jobs/view/lead-data-e...</td>\n",
       "      <td>2024-01-21 08:08:58.312124+00</td>\n",
       "      <td>Finished NER</td>\n",
       "      <td>t</td>\n",
       "      <td>t</td>\n",
       "      <td>f</td>\n",
       "      <td>Lead Data Engineer</td>\n",
       "      <td>Dice</td>\n",
       "      <td>Plano, TX</td>\n",
       "      <td>2024-01-14</td>\n",
       "      <td>McKinney</td>\n",
       "      <td>United States</td>\n",
       "      <td>Maintenance Data Analyst</td>\n",
       "      <td>Mid senior</td>\n",
       "      <td>Onsite</td>\n",
       "      <td>Java, Scala, Python, RDBMS, NoSQL, Redshift, S...</td>\n",
       "    </tr>\n",
       "  </tbody>\n",
       "</table>\n",
       "</div>"
      ],
      "text/plain": [
       "                                            job_link  \\\n",
       "0  https://www.linkedin.com/jobs/view/senior-mach...   \n",
       "1  https://www.linkedin.com/jobs/view/principal-s...   \n",
       "2  https://www.linkedin.com/jobs/view/senior-etl-...   \n",
       "3  https://www.linkedin.com/jobs/view/senior-data...   \n",
       "4  https://www.linkedin.com/jobs/view/lead-data-e...   \n",
       "\n",
       "             last_processed_time   last_status got_summary got_ner  \\\n",
       "0  2024-01-21 08:08:48.031964+00  Finished NER           t       t   \n",
       "1  2024-01-20 04:02:12.331406+00  Finished NER           t       t   \n",
       "2  2024-01-21 08:08:31.941595+00  Finished NER           t       t   \n",
       "3  2024-01-20 15:30:55.796572+00  Finished NER           t       t   \n",
       "4  2024-01-21 08:08:58.312124+00  Finished NER           t       t   \n",
       "\n",
       "  is_being_worked                                     job_title  \\\n",
       "0               f              Senior Machine Learning Engineer   \n",
       "1               f  Principal Software Engineer, ML Accelerators   \n",
       "2               f          Senior ETL Data Warehouse Specialist   \n",
       "3               f   Senior Data Warehouse Developer / Architect   \n",
       "4               f                            Lead Data Engineer   \n",
       "\n",
       "              company       job_location  first_seen search_city  \\\n",
       "0   Jobs for Humanity      New Haven, CT  2024-01-14  East Haven   \n",
       "1              Aurora  San Francisco, CA  2024-01-14  El Cerrito   \n",
       "2  Adame Services LLC       New York, NY  2024-01-14  Middletown   \n",
       "3    Morph Enterprise     Harrisburg, PA  2024-01-12     Lebanon   \n",
       "4                Dice          Plano, TX  2024-01-14    McKinney   \n",
       "\n",
       "  search_country                 search_position   job_level job_type  \\\n",
       "0  United States  Agricultural-Research Engineer  Mid senior   Onsite   \n",
       "1  United States                  Set-Key Driver  Mid senior   Onsite   \n",
       "2  United States    Technical Support Specialist   Associate   Onsite   \n",
       "3  United States                       Architect  Mid senior   Onsite   \n",
       "4  United States        Maintenance Data Analyst  Mid senior   Onsite   \n",
       "\n",
       "                                          job_skills  \n",
       "0  Machine Learning, Programming, Python, Scala, ...  \n",
       "1  C++, Python, PyTorch, TensorFlow, MXNet, CUDA,...  \n",
       "2  ETL, Data Integration, Data Transformation, Da...  \n",
       "3  Data Lakes, Data Bricks, Azure Data Factory Pi...  \n",
       "4  Java, Scala, Python, RDBMS, NoSQL, Redshift, S...  "
      ]
     },
     "metadata": {},
     "output_type": "display_data"
    },
    {
     "data": {
      "application/vnd.microsoft.datawrangler.viewer.v0+json": {
       "columns": [
        {
         "name": "index",
         "rawType": "object",
         "type": "string"
        },
        {
         "name": "job_link",
         "rawType": "object",
         "type": "unknown"
        },
        {
         "name": "last_processed_time",
         "rawType": "object",
         "type": "unknown"
        },
        {
         "name": "last_status",
         "rawType": "object",
         "type": "unknown"
        },
        {
         "name": "got_summary",
         "rawType": "object",
         "type": "unknown"
        },
        {
         "name": "got_ner",
         "rawType": "object",
         "type": "unknown"
        },
        {
         "name": "is_being_worked",
         "rawType": "object",
         "type": "unknown"
        },
        {
         "name": "job_title",
         "rawType": "object",
         "type": "unknown"
        },
        {
         "name": "company",
         "rawType": "object",
         "type": "unknown"
        },
        {
         "name": "job_location",
         "rawType": "object",
         "type": "unknown"
        },
        {
         "name": "first_seen",
         "rawType": "object",
         "type": "unknown"
        },
        {
         "name": "search_city",
         "rawType": "object",
         "type": "unknown"
        },
        {
         "name": "search_country",
         "rawType": "object",
         "type": "unknown"
        },
        {
         "name": "search_position",
         "rawType": "object",
         "type": "unknown"
        },
        {
         "name": "job_level",
         "rawType": "object",
         "type": "unknown"
        },
        {
         "name": "job_type",
         "rawType": "object",
         "type": "unknown"
        },
        {
         "name": "job_skills",
         "rawType": "object",
         "type": "unknown"
        }
       ],
       "conversionMethod": "pd.DataFrame",
       "ref": "43330e48-4c5f-4340-b76d-6d2259487747",
       "rows": [
        [
         "count",
         "12217",
         "12217",
         "12217",
         "12217",
         "12217",
         "12217",
         "12217",
         "12217",
         "12216",
         "12217",
         "12217",
         "12217",
         "12217",
         "12217",
         "12217",
         "12212"
        ],
        [
         "unique",
         "12217",
         "5763",
         "1",
         "1",
         "1",
         "1",
         "6484",
         "3947",
         "2049",
         "6",
         "801",
         "4",
         "711",
         "2",
         "3",
         "12204"
        ],
        [
         "top",
         "https://www.linkedin.com/jobs/view/senior-machine-learning-engineer-at-jobs-for-humanity-3804053819",
         "2024-01-19 09:45:09.215838+00",
         "Finished NER",
         "t",
         "t",
         "f",
         "Senior Data Engineer",
         "Jobs for Humanity",
         "New York, NY",
         "2024-01-13",
         "Greater London",
         "United States",
         "Data Entry Clerk",
         "Mid senior",
         "Onsite",
         "VolunteerMatch, LinkedIn for Good"
        ],
        [
         "freq",
         "1",
         "6455",
         "12217",
         "12217",
         "12217",
         "12217",
         "285",
         "732",
         "280",
         "4946",
         "189",
         "10291",
         "1088",
         "10919",
         "12188",
         "3"
        ]
       ],
       "shape": {
        "columns": 16,
        "rows": 4
       }
      },
      "text/html": [
       "<div>\n",
       "<style scoped>\n",
       "    .dataframe tbody tr th:only-of-type {\n",
       "        vertical-align: middle;\n",
       "    }\n",
       "\n",
       "    .dataframe tbody tr th {\n",
       "        vertical-align: top;\n",
       "    }\n",
       "\n",
       "    .dataframe thead th {\n",
       "        text-align: right;\n",
       "    }\n",
       "</style>\n",
       "<table border=\"1\" class=\"dataframe\">\n",
       "  <thead>\n",
       "    <tr style=\"text-align: right;\">\n",
       "      <th></th>\n",
       "      <th>job_link</th>\n",
       "      <th>last_processed_time</th>\n",
       "      <th>last_status</th>\n",
       "      <th>got_summary</th>\n",
       "      <th>got_ner</th>\n",
       "      <th>is_being_worked</th>\n",
       "      <th>job_title</th>\n",
       "      <th>company</th>\n",
       "      <th>job_location</th>\n",
       "      <th>first_seen</th>\n",
       "      <th>search_city</th>\n",
       "      <th>search_country</th>\n",
       "      <th>search_position</th>\n",
       "      <th>job_level</th>\n",
       "      <th>job_type</th>\n",
       "      <th>job_skills</th>\n",
       "    </tr>\n",
       "  </thead>\n",
       "  <tbody>\n",
       "    <tr>\n",
       "      <th>count</th>\n",
       "      <td>12217</td>\n",
       "      <td>12217</td>\n",
       "      <td>12217</td>\n",
       "      <td>12217</td>\n",
       "      <td>12217</td>\n",
       "      <td>12217</td>\n",
       "      <td>12217</td>\n",
       "      <td>12217</td>\n",
       "      <td>12216</td>\n",
       "      <td>12217</td>\n",
       "      <td>12217</td>\n",
       "      <td>12217</td>\n",
       "      <td>12217</td>\n",
       "      <td>12217</td>\n",
       "      <td>12217</td>\n",
       "      <td>12212</td>\n",
       "    </tr>\n",
       "    <tr>\n",
       "      <th>unique</th>\n",
       "      <td>12217</td>\n",
       "      <td>5763</td>\n",
       "      <td>1</td>\n",
       "      <td>1</td>\n",
       "      <td>1</td>\n",
       "      <td>1</td>\n",
       "      <td>6484</td>\n",
       "      <td>3947</td>\n",
       "      <td>2049</td>\n",
       "      <td>6</td>\n",
       "      <td>801</td>\n",
       "      <td>4</td>\n",
       "      <td>711</td>\n",
       "      <td>2</td>\n",
       "      <td>3</td>\n",
       "      <td>12204</td>\n",
       "    </tr>\n",
       "    <tr>\n",
       "      <th>top</th>\n",
       "      <td>https://www.linkedin.com/jobs/view/senior-mach...</td>\n",
       "      <td>2024-01-19 09:45:09.215838+00</td>\n",
       "      <td>Finished NER</td>\n",
       "      <td>t</td>\n",
       "      <td>t</td>\n",
       "      <td>f</td>\n",
       "      <td>Senior Data Engineer</td>\n",
       "      <td>Jobs for Humanity</td>\n",
       "      <td>New York, NY</td>\n",
       "      <td>2024-01-13</td>\n",
       "      <td>Greater London</td>\n",
       "      <td>United States</td>\n",
       "      <td>Data Entry Clerk</td>\n",
       "      <td>Mid senior</td>\n",
       "      <td>Onsite</td>\n",
       "      <td>VolunteerMatch, LinkedIn for Good</td>\n",
       "    </tr>\n",
       "    <tr>\n",
       "      <th>freq</th>\n",
       "      <td>1</td>\n",
       "      <td>6455</td>\n",
       "      <td>12217</td>\n",
       "      <td>12217</td>\n",
       "      <td>12217</td>\n",
       "      <td>12217</td>\n",
       "      <td>285</td>\n",
       "      <td>732</td>\n",
       "      <td>280</td>\n",
       "      <td>4946</td>\n",
       "      <td>189</td>\n",
       "      <td>10291</td>\n",
       "      <td>1088</td>\n",
       "      <td>10919</td>\n",
       "      <td>12188</td>\n",
       "      <td>3</td>\n",
       "    </tr>\n",
       "  </tbody>\n",
       "</table>\n",
       "</div>"
      ],
      "text/plain": [
       "                                                 job_link  \\\n",
       "count                                               12217   \n",
       "unique                                              12217   \n",
       "top     https://www.linkedin.com/jobs/view/senior-mach...   \n",
       "freq                                                    1   \n",
       "\n",
       "                  last_processed_time   last_status got_summary got_ner  \\\n",
       "count                           12217         12217       12217   12217   \n",
       "unique                           5763             1           1       1   \n",
       "top     2024-01-19 09:45:09.215838+00  Finished NER           t       t   \n",
       "freq                             6455         12217       12217   12217   \n",
       "\n",
       "       is_being_worked             job_title            company  job_location  \\\n",
       "count            12217                 12217              12217         12216   \n",
       "unique               1                  6484               3947          2049   \n",
       "top                  f  Senior Data Engineer  Jobs for Humanity  New York, NY   \n",
       "freq             12217                   285                732           280   \n",
       "\n",
       "        first_seen     search_city search_country   search_position  \\\n",
       "count        12217           12217          12217             12217   \n",
       "unique           6             801              4               711   \n",
       "top     2024-01-13  Greater London  United States  Data Entry Clerk   \n",
       "freq          4946             189          10291              1088   \n",
       "\n",
       "         job_level job_type                         job_skills  \n",
       "count        12217    12217                              12212  \n",
       "unique           2        3                              12204  \n",
       "top     Mid senior   Onsite  VolunteerMatch, LinkedIn for Good  \n",
       "freq         10919    12188                                  3  "
      ]
     },
     "metadata": {},
     "output_type": "display_data"
    }
   ],
   "source": [
    "# Merge job_postings and job_skills datasets\n",
    "merged_df = pd.merge(job_postings, job_skills, on='job_link', how='left')\n",
    "\n",
    "# Display the merged dataset\n",
    "display(merged_df.head())\n",
    "\n",
    "# Display basic statistics\n",
    "display(merged_df.describe())"
   ]
  },
  {
   "cell_type": "markdown",
   "metadata": {},
   "source": [
    "#### Skill Frequency Analysis"
   ]
  },
  {
   "cell_type": "code",
   "execution_count": 36,
   "metadata": {},
   "outputs": [
    {
     "name": "stderr",
     "output_type": "stream",
     "text": [
      "/var/folders/pt/863lyd297bx33mrhwt8gcp0h0000gn/T/ipykernel_37752/2346587964.py:5: SettingWithCopyWarning: \n",
      "A value is trying to be set on a copy of a slice from a DataFrame.\n",
      "Try using .loc[row_indexer,col_indexer] = value instead\n",
      "\n",
      "See the caveats in the documentation: https://pandas.pydata.org/pandas-docs/stable/user_guide/indexing.html#returning-a-view-versus-a-copy\n",
      "  job_skills_clean['job_skills'] = job_skills_clean['job_skills'].str.split(',')\n"
     ]
    },
    {
     "data": {
      "application/vnd.microsoft.datawrangler.viewer.v0+json": {
       "columns": [
        {
         "name": "index",
         "rawType": "int64",
         "type": "integer"
        },
        {
         "name": "job_link",
         "rawType": "object",
         "type": "string"
        },
        {
         "name": "skill_name",
         "rawType": "object",
         "type": "string"
        }
       ],
       "conversionMethod": "pd.DataFrame",
       "ref": "07eedb46-15bb-41a4-a38e-997effb09fb6",
       "rows": [
        [
         "0",
         "https://www.linkedin.com/jobs/view/senior-machine-learning-engineer-at-jobs-for-humanity-3804053819",
         "Machine Learning"
        ],
        [
         "1",
         "https://www.linkedin.com/jobs/view/senior-machine-learning-engineer-at-jobs-for-humanity-3804053819",
         " Programming"
        ],
        [
         "2",
         "https://www.linkedin.com/jobs/view/senior-machine-learning-engineer-at-jobs-for-humanity-3804053819",
         " Python"
        ],
        [
         "3",
         "https://www.linkedin.com/jobs/view/senior-machine-learning-engineer-at-jobs-for-humanity-3804053819",
         " Scala"
        ],
        [
         "4",
         "https://www.linkedin.com/jobs/view/senior-machine-learning-engineer-at-jobs-for-humanity-3804053819",
         " Java"
        ],
        [
         "5",
         "https://www.linkedin.com/jobs/view/senior-machine-learning-engineer-at-jobs-for-humanity-3804053819",
         " Data Engineering"
        ],
        [
         "6",
         "https://www.linkedin.com/jobs/view/senior-machine-learning-engineer-at-jobs-for-humanity-3804053819",
         " Distributed Computing"
        ],
        [
         "7",
         "https://www.linkedin.com/jobs/view/senior-machine-learning-engineer-at-jobs-for-humanity-3804053819",
         " Statistical Modeling"
        ],
        [
         "8",
         "https://www.linkedin.com/jobs/view/senior-machine-learning-engineer-at-jobs-for-humanity-3804053819",
         " Optimization"
        ],
        [
         "9",
         "https://www.linkedin.com/jobs/view/senior-machine-learning-engineer-at-jobs-for-humanity-3804053819",
         " Data Pipelines"
        ],
        [
         "10",
         "https://www.linkedin.com/jobs/view/senior-machine-learning-engineer-at-jobs-for-humanity-3804053819",
         " Cloud Computing"
        ],
        [
         "11",
         "https://www.linkedin.com/jobs/view/senior-machine-learning-engineer-at-jobs-for-humanity-3804053819",
         " DevOps"
        ],
        [
         "12",
         "https://www.linkedin.com/jobs/view/senior-machine-learning-engineer-at-jobs-for-humanity-3804053819",
         " Software Development"
        ],
        [
         "13",
         "https://www.linkedin.com/jobs/view/senior-machine-learning-engineer-at-jobs-for-humanity-3804053819",
         " Data Gathering"
        ],
        [
         "14",
         "https://www.linkedin.com/jobs/view/senior-machine-learning-engineer-at-jobs-for-humanity-3804053819",
         " Data Preparation"
        ],
        [
         "15",
         "https://www.linkedin.com/jobs/view/senior-machine-learning-engineer-at-jobs-for-humanity-3804053819",
         " Data Visualization"
        ],
        [
         "16",
         "https://www.linkedin.com/jobs/view/senior-machine-learning-engineer-at-jobs-for-humanity-3804053819",
         " Machine Learning Frameworks"
        ],
        [
         "17",
         "https://www.linkedin.com/jobs/view/senior-machine-learning-engineer-at-jobs-for-humanity-3804053819",
         " scikitlearn"
        ],
        [
         "18",
         "https://www.linkedin.com/jobs/view/senior-machine-learning-engineer-at-jobs-for-humanity-3804053819",
         " PyTorch"
        ],
        [
         "19",
         "https://www.linkedin.com/jobs/view/senior-machine-learning-engineer-at-jobs-for-humanity-3804053819",
         " Dask"
        ],
        [
         "20",
         "https://www.linkedin.com/jobs/view/senior-machine-learning-engineer-at-jobs-for-humanity-3804053819",
         " Spark"
        ],
        [
         "21",
         "https://www.linkedin.com/jobs/view/senior-machine-learning-engineer-at-jobs-for-humanity-3804053819",
         " TensorFlow"
        ],
        [
         "22",
         "https://www.linkedin.com/jobs/view/senior-machine-learning-engineer-at-jobs-for-humanity-3804053819",
         " Distributed File Systems"
        ],
        [
         "23",
         "https://www.linkedin.com/jobs/view/senior-machine-learning-engineer-at-jobs-for-humanity-3804053819",
         " Multi node Database Paradigms"
        ],
        [
         "24",
         "https://www.linkedin.com/jobs/view/senior-machine-learning-engineer-at-jobs-for-humanity-3804053819",
         " Open Source ML Software"
        ],
        [
         "25",
         "https://www.linkedin.com/jobs/view/senior-machine-learning-engineer-at-jobs-for-humanity-3804053819",
         " Responsible AI"
        ],
        [
         "26",
         "https://www.linkedin.com/jobs/view/senior-machine-learning-engineer-at-jobs-for-humanity-3804053819",
         " Explainable AI"
        ],
        [
         "27",
         "https://www.linkedin.com/jobs/view/principal-software-engineer-ml-accelerators-at-aurora-3703455068",
         "C++"
        ],
        [
         "28",
         "https://www.linkedin.com/jobs/view/principal-software-engineer-ml-accelerators-at-aurora-3703455068",
         " Python"
        ],
        [
         "29",
         "https://www.linkedin.com/jobs/view/principal-software-engineer-ml-accelerators-at-aurora-3703455068",
         " PyTorch"
        ],
        [
         "30",
         "https://www.linkedin.com/jobs/view/principal-software-engineer-ml-accelerators-at-aurora-3703455068",
         " TensorFlow"
        ],
        [
         "31",
         "https://www.linkedin.com/jobs/view/principal-software-engineer-ml-accelerators-at-aurora-3703455068",
         " MXNet"
        ],
        [
         "32",
         "https://www.linkedin.com/jobs/view/principal-software-engineer-ml-accelerators-at-aurora-3703455068",
         " CUDA"
        ],
        [
         "33",
         "https://www.linkedin.com/jobs/view/principal-software-engineer-ml-accelerators-at-aurora-3703455068",
         " OpenCL"
        ],
        [
         "34",
         "https://www.linkedin.com/jobs/view/principal-software-engineer-ml-accelerators-at-aurora-3703455068",
         " OpenVX"
        ],
        [
         "35",
         "https://www.linkedin.com/jobs/view/principal-software-engineer-ml-accelerators-at-aurora-3703455068",
         " Halide"
        ],
        [
         "36",
         "https://www.linkedin.com/jobs/view/principal-software-engineer-ml-accelerators-at-aurora-3703455068",
         " SIMD programming models"
        ],
        [
         "37",
         "https://www.linkedin.com/jobs/view/principal-software-engineer-ml-accelerators-at-aurora-3703455068",
         " MLspecific accelerators"
        ],
        [
         "38",
         "https://www.linkedin.com/jobs/view/principal-software-engineer-ml-accelerators-at-aurora-3703455068",
         " Linux/unix environments"
        ],
        [
         "39",
         "https://www.linkedin.com/jobs/view/principal-software-engineer-ml-accelerators-at-aurora-3703455068",
         " Deep learning frameworks"
        ],
        [
         "40",
         "https://www.linkedin.com/jobs/view/principal-software-engineer-ml-accelerators-at-aurora-3703455068",
         " Computer vision deep learning models"
        ],
        [
         "41",
         "https://www.linkedin.com/jobs/view/principal-software-engineer-ml-accelerators-at-aurora-3703455068",
         " ML software and hardware technology"
        ],
        [
         "42",
         "https://www.linkedin.com/jobs/view/principal-software-engineer-ml-accelerators-at-aurora-3703455068",
         " Inference on edge platforms"
        ],
        [
         "43",
         "https://www.linkedin.com/jobs/view/principal-software-engineer-ml-accelerators-at-aurora-3703455068",
         " Cloud ML training pipelines"
        ],
        [
         "44",
         "https://www.linkedin.com/jobs/view/principal-software-engineer-ml-accelerators-at-aurora-3703455068",
         " HPC experience"
        ],
        [
         "45",
         "https://www.linkedin.com/jobs/view/principal-software-engineer-ml-accelerators-at-aurora-3703455068",
         " Performance troubleshooting"
        ],
        [
         "46",
         "https://www.linkedin.com/jobs/view/principal-software-engineer-ml-accelerators-at-aurora-3703455068",
         " Profiling"
        ],
        [
         "47",
         "https://www.linkedin.com/jobs/view/principal-software-engineer-ml-accelerators-at-aurora-3703455068",
         " Roofline model"
        ],
        [
         "48",
         "https://www.linkedin.com/jobs/view/principal-software-engineer-ml-accelerators-at-aurora-3703455068",
         " Analytical skills"
        ],
        [
         "49",
         "https://www.linkedin.com/jobs/view/principal-software-engineer-ml-accelerators-at-aurora-3703455068",
         " Communication skills"
        ]
       ],
       "shape": {
        "columns": 2,
        "rows": 314950
       }
      },
      "text/html": [
       "<div>\n",
       "<style scoped>\n",
       "    .dataframe tbody tr th:only-of-type {\n",
       "        vertical-align: middle;\n",
       "    }\n",
       "\n",
       "    .dataframe tbody tr th {\n",
       "        vertical-align: top;\n",
       "    }\n",
       "\n",
       "    .dataframe thead th {\n",
       "        text-align: right;\n",
       "    }\n",
       "</style>\n",
       "<table border=\"1\" class=\"dataframe\">\n",
       "  <thead>\n",
       "    <tr style=\"text-align: right;\">\n",
       "      <th></th>\n",
       "      <th>job_link</th>\n",
       "      <th>skill_name</th>\n",
       "    </tr>\n",
       "  </thead>\n",
       "  <tbody>\n",
       "    <tr>\n",
       "      <th>0</th>\n",
       "      <td>https://www.linkedin.com/jobs/view/senior-mach...</td>\n",
       "      <td>Machine Learning</td>\n",
       "    </tr>\n",
       "    <tr>\n",
       "      <th>1</th>\n",
       "      <td>https://www.linkedin.com/jobs/view/senior-mach...</td>\n",
       "      <td>Programming</td>\n",
       "    </tr>\n",
       "    <tr>\n",
       "      <th>2</th>\n",
       "      <td>https://www.linkedin.com/jobs/view/senior-mach...</td>\n",
       "      <td>Python</td>\n",
       "    </tr>\n",
       "    <tr>\n",
       "      <th>3</th>\n",
       "      <td>https://www.linkedin.com/jobs/view/senior-mach...</td>\n",
       "      <td>Scala</td>\n",
       "    </tr>\n",
       "    <tr>\n",
       "      <th>4</th>\n",
       "      <td>https://www.linkedin.com/jobs/view/senior-mach...</td>\n",
       "      <td>Java</td>\n",
       "    </tr>\n",
       "    <tr>\n",
       "      <th>...</th>\n",
       "      <td>...</td>\n",
       "      <td>...</td>\n",
       "    </tr>\n",
       "    <tr>\n",
       "      <th>314945</th>\n",
       "      <td>https://www.linkedin.com/jobs/view/medical-tec...</td>\n",
       "      <td>Graduation from Accredited MT/MLS Program</td>\n",
       "    </tr>\n",
       "    <tr>\n",
       "      <th>314946</th>\n",
       "      <td>https://www.linkedin.com/jobs/view/medical-tec...</td>\n",
       "      <td>National Exam Passing</td>\n",
       "    </tr>\n",
       "    <tr>\n",
       "      <th>314947</th>\n",
       "      <td>https://www.linkedin.com/jobs/view/medical-tec...</td>\n",
       "      <td>Board of Registry</td>\n",
       "    </tr>\n",
       "    <tr>\n",
       "      <th>314948</th>\n",
       "      <td>https://www.linkedin.com/jobs/view/medical-tec...</td>\n",
       "      <td>American Society for Clinical Pathology</td>\n",
       "    </tr>\n",
       "    <tr>\n",
       "      <th>314949</th>\n",
       "      <td>https://www.linkedin.com/jobs/view/medical-tec...</td>\n",
       "      <td>Microbiology Experience</td>\n",
       "    </tr>\n",
       "  </tbody>\n",
       "</table>\n",
       "<p>314950 rows × 2 columns</p>\n",
       "</div>"
      ],
      "text/plain": [
       "                                                 job_link  \\\n",
       "0       https://www.linkedin.com/jobs/view/senior-mach...   \n",
       "1       https://www.linkedin.com/jobs/view/senior-mach...   \n",
       "2       https://www.linkedin.com/jobs/view/senior-mach...   \n",
       "3       https://www.linkedin.com/jobs/view/senior-mach...   \n",
       "4       https://www.linkedin.com/jobs/view/senior-mach...   \n",
       "...                                                   ...   \n",
       "314945  https://www.linkedin.com/jobs/view/medical-tec...   \n",
       "314946  https://www.linkedin.com/jobs/view/medical-tec...   \n",
       "314947  https://www.linkedin.com/jobs/view/medical-tec...   \n",
       "314948  https://www.linkedin.com/jobs/view/medical-tec...   \n",
       "314949  https://www.linkedin.com/jobs/view/medical-tec...   \n",
       "\n",
       "                                        skill_name  \n",
       "0                                 Machine Learning  \n",
       "1                                      Programming  \n",
       "2                                           Python  \n",
       "3                                            Scala  \n",
       "4                                             Java  \n",
       "...                                            ...  \n",
       "314945   Graduation from Accredited MT/MLS Program  \n",
       "314946                       National Exam Passing  \n",
       "314947                           Board of Registry  \n",
       "314948     American Society for Clinical Pathology  \n",
       "314949                     Microbiology Experience  \n",
       "\n",
       "[314950 rows x 2 columns]"
      ]
     },
     "metadata": {},
     "output_type": "display_data"
    }
   ],
   "source": [
    "# Drop skill dataset rows with null values\n",
    "job_skills_clean = job_skills.dropna(subset=['job_skills'])\n",
    "\n",
    "# Split job_skills into individual skills\n",
    "job_skills_clean['job_skills'] = job_skills_clean['job_skills'].str.split(',')\n",
    "\n",
    "# explode the list into separate rows\n",
    "job_skills_clean = job_skills_clean.explode('job_skills')\n",
    "\n",
    "# Create a new dataframe with lowercased stripped skills\n",
    "job_skills_list = pd.DataFrame({\n",
    "    'job_link': job_skills_clean['job_link'],\n",
    "    'skill_name': job_skills_clean['job_skills']\n",
    "}).reset_index(drop=True)\n",
    "\n",
    "display(job_skills_list)\n"
   ]
  },
  {
   "cell_type": "code",
   "execution_count": 37,
   "metadata": {},
   "outputs": [
    {
     "data": {
      "text/plain": [
       "'Top 10 Skills:'"
      ]
     },
     "metadata": {},
     "output_type": "display_data"
    },
    {
     "data": {
      "application/vnd.microsoft.datawrangler.viewer.v0+json": {
       "columns": [
        {
         "name": "index",
         "rawType": "int64",
         "type": "integer"
        },
        {
         "name": "skill_name",
         "rawType": "object",
         "type": "string"
        },
        {
         "name": "count",
         "rawType": "int64",
         "type": "integer"
        }
       ],
       "conversionMethod": "pd.DataFrame",
       "ref": "8d9c44f4-00e6-4328-b5d7-b33a198bbc77",
       "rows": [
        [
         "0",
         " Python",
         "4430"
        ],
        [
         "1",
         " SQL",
         "4271"
        ],
        [
         "2",
         " Communication",
         "2493"
        ],
        [
         "3",
         " Tableau",
         "1653"
        ],
        [
         "4",
         " AWS",
         "1631"
        ],
        [
         "5",
         " Data Visualization",
         "1536"
        ],
        [
         "6",
         " R",
         "1530"
        ],
        [
         "7",
         " Data Analysis",
         "1495"
        ],
        [
         "8",
         " Machine Learning",
         "1412"
        ],
        [
         "9",
         " Spark",
         "1379"
        ]
       ],
       "shape": {
        "columns": 2,
        "rows": 10
       }
      },
      "text/html": [
       "<div>\n",
       "<style scoped>\n",
       "    .dataframe tbody tr th:only-of-type {\n",
       "        vertical-align: middle;\n",
       "    }\n",
       "\n",
       "    .dataframe tbody tr th {\n",
       "        vertical-align: top;\n",
       "    }\n",
       "\n",
       "    .dataframe thead th {\n",
       "        text-align: right;\n",
       "    }\n",
       "</style>\n",
       "<table border=\"1\" class=\"dataframe\">\n",
       "  <thead>\n",
       "    <tr style=\"text-align: right;\">\n",
       "      <th></th>\n",
       "      <th>skill_name</th>\n",
       "      <th>count</th>\n",
       "    </tr>\n",
       "  </thead>\n",
       "  <tbody>\n",
       "    <tr>\n",
       "      <th>0</th>\n",
       "      <td>Python</td>\n",
       "      <td>4430</td>\n",
       "    </tr>\n",
       "    <tr>\n",
       "      <th>1</th>\n",
       "      <td>SQL</td>\n",
       "      <td>4271</td>\n",
       "    </tr>\n",
       "    <tr>\n",
       "      <th>2</th>\n",
       "      <td>Communication</td>\n",
       "      <td>2493</td>\n",
       "    </tr>\n",
       "    <tr>\n",
       "      <th>3</th>\n",
       "      <td>Tableau</td>\n",
       "      <td>1653</td>\n",
       "    </tr>\n",
       "    <tr>\n",
       "      <th>4</th>\n",
       "      <td>AWS</td>\n",
       "      <td>1631</td>\n",
       "    </tr>\n",
       "    <tr>\n",
       "      <th>5</th>\n",
       "      <td>Data Visualization</td>\n",
       "      <td>1536</td>\n",
       "    </tr>\n",
       "    <tr>\n",
       "      <th>6</th>\n",
       "      <td>R</td>\n",
       "      <td>1530</td>\n",
       "    </tr>\n",
       "    <tr>\n",
       "      <th>7</th>\n",
       "      <td>Data Analysis</td>\n",
       "      <td>1495</td>\n",
       "    </tr>\n",
       "    <tr>\n",
       "      <th>8</th>\n",
       "      <td>Machine Learning</td>\n",
       "      <td>1412</td>\n",
       "    </tr>\n",
       "    <tr>\n",
       "      <th>9</th>\n",
       "      <td>Spark</td>\n",
       "      <td>1379</td>\n",
       "    </tr>\n",
       "  </tbody>\n",
       "</table>\n",
       "</div>"
      ],
      "text/plain": [
       "            skill_name  count\n",
       "0               Python   4430\n",
       "1                  SQL   4271\n",
       "2        Communication   2493\n",
       "3              Tableau   1653\n",
       "4                  AWS   1631\n",
       "5   Data Visualization   1536\n",
       "6                    R   1530\n",
       "7        Data Analysis   1495\n",
       "8     Machine Learning   1412\n",
       "9                Spark   1379"
      ]
     },
     "metadata": {},
     "output_type": "display_data"
    },
    {
     "data": {
      "text/plain": [
       "'Bottom 10 Skills:'"
      ]
     },
     "metadata": {},
     "output_type": "display_data"
    },
    {
     "data": {
      "application/vnd.microsoft.datawrangler.viewer.v0+json": {
       "columns": [
        {
         "name": "index",
         "rawType": "int64",
         "type": "integer"
        },
        {
         "name": "skill_name",
         "rawType": "object",
         "type": "string"
        },
        {
         "name": "count",
         "rawType": "int64",
         "type": "integer"
        }
       ],
       "conversionMethod": "pd.DataFrame",
       "ref": "d63f17c1-2599-4183-8215-09393a6225e5",
       "rows": [
        [
         "76747",
         " Complex Information Systems",
         "1"
        ],
        [
         "76748",
         " National Science",
         "1"
        ],
        [
         "76749",
         " CLevel Executive Partnering",
         "1"
        ],
        [
         "76750",
         " Regulatory & Basel Reporting Requirements",
         "1"
        ],
        [
         "76751",
         " Metrics for Senior Management",
         "1"
        ],
        [
         "76752",
         " Senior Management Ready Materials",
         "1"
        ],
        [
         "76753",
         " Risk/Technology/Data Management",
         "1"
        ],
        [
         "76754",
         " Scrum Teams",
         "1"
        ],
        [
         "76755",
         " Testing and Review Support",
         "1"
        ],
        [
         "76756",
         " Microbiology Experience",
         "1"
        ]
       ],
       "shape": {
        "columns": 2,
        "rows": 10
       }
      },
      "text/html": [
       "<div>\n",
       "<style scoped>\n",
       "    .dataframe tbody tr th:only-of-type {\n",
       "        vertical-align: middle;\n",
       "    }\n",
       "\n",
       "    .dataframe tbody tr th {\n",
       "        vertical-align: top;\n",
       "    }\n",
       "\n",
       "    .dataframe thead th {\n",
       "        text-align: right;\n",
       "    }\n",
       "</style>\n",
       "<table border=\"1\" class=\"dataframe\">\n",
       "  <thead>\n",
       "    <tr style=\"text-align: right;\">\n",
       "      <th></th>\n",
       "      <th>skill_name</th>\n",
       "      <th>count</th>\n",
       "    </tr>\n",
       "  </thead>\n",
       "  <tbody>\n",
       "    <tr>\n",
       "      <th>76747</th>\n",
       "      <td>Complex Information Systems</td>\n",
       "      <td>1</td>\n",
       "    </tr>\n",
       "    <tr>\n",
       "      <th>76748</th>\n",
       "      <td>National Science</td>\n",
       "      <td>1</td>\n",
       "    </tr>\n",
       "    <tr>\n",
       "      <th>76749</th>\n",
       "      <td>CLevel Executive Partnering</td>\n",
       "      <td>1</td>\n",
       "    </tr>\n",
       "    <tr>\n",
       "      <th>76750</th>\n",
       "      <td>Regulatory &amp; Basel Reporting Requirements</td>\n",
       "      <td>1</td>\n",
       "    </tr>\n",
       "    <tr>\n",
       "      <th>76751</th>\n",
       "      <td>Metrics for Senior Management</td>\n",
       "      <td>1</td>\n",
       "    </tr>\n",
       "    <tr>\n",
       "      <th>76752</th>\n",
       "      <td>Senior Management Ready Materials</td>\n",
       "      <td>1</td>\n",
       "    </tr>\n",
       "    <tr>\n",
       "      <th>76753</th>\n",
       "      <td>Risk/Technology/Data Management</td>\n",
       "      <td>1</td>\n",
       "    </tr>\n",
       "    <tr>\n",
       "      <th>76754</th>\n",
       "      <td>Scrum Teams</td>\n",
       "      <td>1</td>\n",
       "    </tr>\n",
       "    <tr>\n",
       "      <th>76755</th>\n",
       "      <td>Testing and Review Support</td>\n",
       "      <td>1</td>\n",
       "    </tr>\n",
       "    <tr>\n",
       "      <th>76756</th>\n",
       "      <td>Microbiology Experience</td>\n",
       "      <td>1</td>\n",
       "    </tr>\n",
       "  </tbody>\n",
       "</table>\n",
       "</div>"
      ],
      "text/plain": [
       "                                       skill_name  count\n",
       "76747                 Complex Information Systems      1\n",
       "76748                            National Science      1\n",
       "76749                 CLevel Executive Partnering      1\n",
       "76750   Regulatory & Basel Reporting Requirements      1\n",
       "76751               Metrics for Senior Management      1\n",
       "76752           Senior Management Ready Materials      1\n",
       "76753             Risk/Technology/Data Management      1\n",
       "76754                                 Scrum Teams      1\n",
       "76755                  Testing and Review Support      1\n",
       "76756                     Microbiology Experience      1"
      ]
     },
     "metadata": {},
     "output_type": "display_data"
    },
    {
     "data": {
      "image/png": "[encoded data removed]",
      "text/plain": [
       "<Figure size 1500x700 with 2 Axes>"
      ]
     },
     "metadata": {},
     "output_type": "display_data"
    }
   ],
   "source": [
    "# Create a new dataframe with the frequency of each skill\n",
    "skill_frequency = job_skills_list['skill_name'].value_counts().reset_index()\n",
    "\n",
    "# display the top 10 skills\n",
    "display(\"Top 10 Skills:\")\n",
    "display(skill_frequency.head(10))\n",
    "\n",
    "# display the bottom 10 skills\n",
    "display(\"Bottom 10 Skills:\")\n",
    "display(skill_frequency.tail(10))\n",
    "\n",
    "# Create a bar chart of the top 10 and bottom 10 skills\n",
    "plt.figure(figsize=(15, 7))\n",
    "\n",
    "# Top 10 skills\n",
    "plt.subplot(1, 2, 1)\n",
    "plt.bar(skill_frequency['skill_name'].head(10), skill_frequency['count'].head(10))\n",
    "plt.xticks(rotation=45, ha='right')\n",
    "plt.title('Top 10 Skills')\n",
    "plt.xlabel('Skill Name')\n",
    "plt.ylabel('Frequency')\n",
    "\n",
    "# Bottom 10 skills\n",
    "plt.subplot(1, 2, 2)\n",
    "plt.bar(skill_frequency['skill_name'].tail(10), skill_frequency['count'].tail(10))\n",
    "plt.xticks(rotation=45, ha='right')\n",
    "plt.title('Bottom 10 Skills')\n",
    "plt.xlabel('Skill Name')\n",
    "plt.ylabel('Frequency')\n",
    "\n",
    "plt.tight_layout()\n",
    "\n",
    "# save figure\n",
    "plt.savefig('../../../../resources/eda_1.1_skill_frequency_distribution_bar.png')\n"
   ]
  },
  {
   "cell_type": "code",
   "execution_count": 38,
   "metadata": {},
   "outputs": [
    {
     "data": {
      "image/png": "[encoded data removed]",
      "text/plain": [
       "<Figure size 1500x500 with 1 Axes>"
      ]
     },
     "metadata": {},
     "output_type": "display_data"
    }
   ],
   "source": [
    "# create a line graph of the frequency of each skill by order of frequency\n",
    "plt.figure(figsize=(15, 5))\n",
    "\n",
    "# plot the full line\n",
    "plt.plot(skill_frequency['count'], linewidth=2)\n",
    "\n",
    "# label the plot\n",
    "plt.title('Frequency of Each Skill by Order of Frequency')\n",
    "plt.xlabel('Skill Rank (Most to Least Frequent)')\n",
    "plt.ylabel('Frequency')\n",
    "\n",
    "# save figure\n",
    "plt.savefig('../../../../resources/eda_1.1_skill_frequency_distribution_line.png')\n",
    "\n",
    "plt.tight_layout()\n",
    "plt.show()\n"
   ]
  },
  {
   "cell_type": "code",
   "execution_count": 39,
   "metadata": {},
   "outputs": [
    {
     "data": {
      "image/png": "[encoded data removed]",
      "text/plain": [
       "<Figure size 1500x500 with 1 Axes>"
      ]
     },
     "metadata": {},
     "output_type": "display_data"
    }
   ],
   "source": [
    "# create a line graph of the frequency of each skill by order of frequency between id 1 and 1000\n",
    "plt.figure(figsize=(15, 5))\n",
    "\n",
    "# Plot the full line\n",
    "plt.plot(skill_frequency['count'], linewidth=2)\n",
    "\n",
    "# Set the axis limits to zoom into first 1000 skills\n",
    "plt.xlim(0, 350)\n",
    "plt.ylim(0, None)  # from 0 to max value within the visible range\n",
    "\n",
    "# label the plot\n",
    "plt.title('Frequency of Top 1000 Skills (Out of 76,000+ Total Skills)')\n",
    "plt.xlabel('Skill Rank (Most to Least Frequent)')\n",
    "plt.ylabel('Frequency')\n",
    "plt.grid(True, alpha=0.3)\n",
    "\n",
    "# save figure\n",
    "plt.savefig('../../../../resources/eda_1.1_top_1000_skill_frequency_distribution_line.png')\n",
    "\n",
    "plt.tight_layout()\n",
    "plt.show()\n",
    "\n"
   ]
  },
  {
   "cell_type": "markdown",
   "metadata": {},
   "source": [
    "### **Reflection: Analyzing Skill Count Frequencies**  \n",
    "\n",
    "Looking at the skill count distribution, I noticed a pattern/ issue similar to the one we found with the job titles; **a small set of widely recognized standardized skills dominate the dataset, while the majority appear only once or a few times due to unique naming conventions or industry-specific terminology**.  \n",
    "\n",
    "The **top 10 skills** (e.g., **Python, SQL, Communication**) appear thousands of times, but the drop-off is steep. By the **250th–350th skill**, occurrences are already around **100**, and by the **2000th skill**, they fall near **20**. By the **10,000th skill**, each entry only has about **three** entries, with nearly **80,000 unique skills** in total. Though we could choose to only consider the skills that appear a certain number of times, this would still leave us with a large number of unique skills to consider with highly varying naming conventions.\n",
    "\n",
    "This presents a major challenge: **How do I group skills meaningfully without losing valuable distinctions? or How do I limit the operational complexity of the dashboard without sacrificing the ability to provide value to the user?**  \n",
    "\n",
    "From my research, options like **keyword-based grouping**, **hierarchical categorization**, or even **clustering similar skills** could help, but I haven’t explored them enough yet. As I continue the **EDA process**, I need to determine how to balance **data granularity and usability** when handling such extreme variance.\n"
   ]
  },
  {
   "cell_type": "markdown",
   "metadata": {},
   "source": [
    "## **OVERALL REFLECTION: Limiting Scope for a Realistic MVP**  \n",
    "\n",
    "Upon analyzing the job title and skill distribution datasets, it’s clear that the **data cleaning and standardization of the full dataset is unrealistic**. The extreme uniqueness of job titles (~80% appearing only once) coupled with the fragmentation of skills makes standardization a major challenge which would require the use of fuzzy matching and keyword-based grouping at the minimum and ML models or NLP models for the more complex cases -all of which are currently beyond my skill level and time constraints.\n",
    "\n",
    "To build a functional MVP, **limiting the scope of the project is necessary** options include:  \n",
    "\n",
    "1. **Strict Job Title Reduction (Option A)** → Focus only on the **top 10–20 most common job roles**, which **removes most job title cleaning and significantly reduces skill processing complexity**. This approach ensures we only process skills relevant to those jobs, making the MVP manageable.  \n",
    "\n",
    "2. **Keyword-Based Grouping for Job Titles (Option B)** → Instead of eliminating job titles, we can **merge specialized or niche job titles into broader categories** (e.g., *“Senior Data Engineer” → “Data Engineer”* or *“Medical Scientist/MLT - Cranberry” and “Medical Technologist, MLS or MLT” → “Medical Data Scientist”*). This retains more job roles while preventing fragmentation.  \n",
    "\n",
    "3. **Statistical Filtering of Niche Jobs & Skills (Option C)** → Use **frequency thresholds** to **remove extreme outliers**, both for job titles and skills, ensuring the dataset is clean and focused.  \n",
    "\n",
    "The goal is to **build a career skill analyzer that efficiently maps skills to job roles** while keeping the workload feasible. By choosing the right constraints, we ensure stakeholders receive a **usable product without unnecessary complexity**.  "
   ]
  }
 ],
 "metadata": {
  "kernelspec": {
   "display_name": "dev",
   "language": "python",
   "name": "python3"
  },
  "language_info": {
   "codemirror_mode": {
    "name": "ipython",
    "version": 3
   },
   "file_extension": ".py",
   "mimetype": "text/x-python",
   "name": "python",
   "nbconvert_exporter": "python",
   "pygments_lexer": "ipython3",
   "version": "3.10.15"
  }
 },
 "nbformat": 4,
 "nbformat_minor": 2
}
