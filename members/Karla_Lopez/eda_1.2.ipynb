{
 "cells": [
  {
   "cell_type": "code",
   "execution_count": 111,
   "metadata": {},
   "outputs": [],
   "source": [
    "# Import the dependencies\n",
    "import pandas as pd\n",
    "import re\n",
    "import numpy as np\n",
    "import matplotlib.pyplot as plt\n"
   ]
  },
  {
   "cell_type": "code",
   "execution_count": 112,
   "metadata": {},
   "outputs": [],
   "source": [
    "# Load the data\n",
    "file_path = '../../data/job_postings.csv'\n",
    "df = pd.read_csv(file_path)\n",
    "\n"
   ]
  },
  {
   "cell_type": "code",
   "execution_count": 113,
   "metadata": {},
   "outputs": [
    {
     "data": {
      "application/vnd.microsoft.datawrangler.viewer.v0+json": {
       "columns": [
        {
         "name": "index",
         "rawType": "int64",
         "type": "integer"
        },
        {
         "name": "job_link",
         "rawType": "object",
         "type": "string"
        },
        {
         "name": "last_processed_time",
         "rawType": "object",
         "type": "string"
        },
        {
         "name": "last_status",
         "rawType": "object",
         "type": "string"
        },
        {
         "name": "got_summary",
         "rawType": "object",
         "type": "string"
        },
        {
         "name": "got_ner",
         "rawType": "object",
         "type": "string"
        },
        {
         "name": "is_being_worked",
         "rawType": "object",
         "type": "string"
        },
        {
         "name": "job_title",
         "rawType": "object",
         "type": "string"
        },
        {
         "name": "company",
         "rawType": "object",
         "type": "string"
        },
        {
         "name": "job_location",
         "rawType": "object",
         "type": "string"
        },
        {
         "name": "first_seen",
         "rawType": "object",
         "type": "string"
        },
        {
         "name": "search_city",
         "rawType": "object",
         "type": "string"
        },
        {
         "name": "search_country",
         "rawType": "object",
         "type": "string"
        },
        {
         "name": "search_position",
         "rawType": "object",
         "type": "string"
        },
        {
         "name": "job_level",
         "rawType": "object",
         "type": "string"
        },
        {
         "name": "job_type",
         "rawType": "object",
         "type": "string"
        }
       ],
       "conversionMethod": "pd.DataFrame",
       "ref": "ead599f9-863f-40f0-91bb-cb54fb572a3b",
       "rows": [
        [
         "0",
         "https://www.linkedin.com/jobs/view/senior-machine-learning-engineer-at-jobs-for-humanity-3804053819",
         "2024-01-21 08:08:48.031964+00",
         "Finished NER",
         "t",
         "t",
         "f",
         "Senior Machine Learning Engineer",
         "Jobs for Humanity",
         "New Haven, CT",
         "2024-01-14",
         "East Haven",
         "United States",
         "Agricultural-Research Engineer",
         "Mid senior",
         "Onsite"
        ],
        [
         "1",
         "https://www.linkedin.com/jobs/view/principal-software-engineer-ml-accelerators-at-aurora-3703455068",
         "2024-01-20 04:02:12.331406+00",
         "Finished NER",
         "t",
         "t",
         "f",
         "Principal Software Engineer, ML Accelerators",
         "Aurora",
         "San Francisco, CA",
         "2024-01-14",
         "El Cerrito",
         "United States",
         "Set-Key Driver",
         "Mid senior",
         "Onsite"
        ],
        [
         "2",
         "https://www.linkedin.com/jobs/view/senior-etl-data-warehouse-specialist-at-adame-services-llc-3765023888",
         "2024-01-21 08:08:31.941595+00",
         "Finished NER",
         "t",
         "t",
         "f",
         "Senior ETL Data Warehouse Specialist",
         "Adame Services LLC",
         "New York, NY",
         "2024-01-14",
         "Middletown",
         "United States",
         "Technical Support Specialist",
         "Associate",
         "Onsite"
        ],
        [
         "3",
         "https://www.linkedin.com/jobs/view/senior-data-warehouse-developer-architect-at-morph-enterprise-3794602483",
         "2024-01-20 15:30:55.796572+00",
         "Finished NER",
         "t",
         "t",
         "f",
         "Senior Data Warehouse Developer / Architect",
         "Morph Enterprise",
         "Harrisburg, PA",
         "2024-01-12",
         "Lebanon",
         "United States",
         "Architect",
         "Mid senior",
         "Onsite"
        ],
        [
         "4",
         "https://www.linkedin.com/jobs/view/lead-data-engineer-at-dice-3805948138",
         "2024-01-21 08:08:58.312124+00",
         "Finished NER",
         "t",
         "t",
         "f",
         "Lead Data Engineer",
         "Dice",
         "Plano, TX",
         "2024-01-14",
         "McKinney",
         "United States",
         "Maintenance Data Analyst",
         "Mid senior",
         "Onsite"
        ]
       ],
       "shape": {
        "columns": 15,
        "rows": 5
       }
      },
      "text/html": [
       "<div>\n",
       "<style scoped>\n",
       "    .dataframe tbody tr th:only-of-type {\n",
       "        vertical-align: middle;\n",
       "    }\n",
       "\n",
       "    .dataframe tbody tr th {\n",
       "        vertical-align: top;\n",
       "    }\n",
       "\n",
       "    .dataframe thead th {\n",
       "        text-align: right;\n",
       "    }\n",
       "</style>\n",
       "<table border=\"1\" class=\"dataframe\">\n",
       "  <thead>\n",
       "    <tr style=\"text-align: right;\">\n",
       "      <th></th>\n",
       "      <th>job_link</th>\n",
       "      <th>last_processed_time</th>\n",
       "      <th>last_status</th>\n",
       "      <th>got_summary</th>\n",
       "      <th>got_ner</th>\n",
       "      <th>is_being_worked</th>\n",
       "      <th>job_title</th>\n",
       "      <th>company</th>\n",
       "      <th>job_location</th>\n",
       "      <th>first_seen</th>\n",
       "      <th>search_city</th>\n",
       "      <th>search_country</th>\n",
       "      <th>search_position</th>\n",
       "      <th>job_level</th>\n",
       "      <th>job_type</th>\n",
       "    </tr>\n",
       "  </thead>\n",
       "  <tbody>\n",
       "    <tr>\n",
       "      <th>0</th>\n",
       "      <td>https://www.linkedin.com/jobs/view/senior-mach...</td>\n",
       "      <td>2024-01-21 08:08:48.031964+00</td>\n",
       "      <td>Finished NER</td>\n",
       "      <td>t</td>\n",
       "      <td>t</td>\n",
       "      <td>f</td>\n",
       "      <td>Senior Machine Learning Engineer</td>\n",
       "      <td>Jobs for Humanity</td>\n",
       "      <td>New Haven, CT</td>\n",
       "      <td>2024-01-14</td>\n",
       "      <td>East Haven</td>\n",
       "      <td>United States</td>\n",
       "      <td>Agricultural-Research Engineer</td>\n",
       "      <td>Mid senior</td>\n",
       "      <td>Onsite</td>\n",
       "    </tr>\n",
       "    <tr>\n",
       "      <th>1</th>\n",
       "      <td>https://www.linkedin.com/jobs/view/principal-s...</td>\n",
       "      <td>2024-01-20 04:02:12.331406+00</td>\n",
       "      <td>Finished NER</td>\n",
       "      <td>t</td>\n",
       "      <td>t</td>\n",
       "      <td>f</td>\n",
       "      <td>Principal Software Engineer, ML Accelerators</td>\n",
       "      <td>Aurora</td>\n",
       "      <td>San Francisco, CA</td>\n",
       "      <td>2024-01-14</td>\n",
       "      <td>El Cerrito</td>\n",
       "      <td>United States</td>\n",
       "      <td>Set-Key Driver</td>\n",
       "      <td>Mid senior</td>\n",
       "      <td>Onsite</td>\n",
       "    </tr>\n",
       "    <tr>\n",
       "      <th>2</th>\n",
       "      <td>https://www.linkedin.com/jobs/view/senior-etl-...</td>\n",
       "      <td>2024-01-21 08:08:31.941595+00</td>\n",
       "      <td>Finished NER</td>\n",
       "      <td>t</td>\n",
       "      <td>t</td>\n",
       "      <td>f</td>\n",
       "      <td>Senior ETL Data Warehouse Specialist</td>\n",
       "      <td>Adame Services LLC</td>\n",
       "      <td>New York, NY</td>\n",
       "      <td>2024-01-14</td>\n",
       "      <td>Middletown</td>\n",
       "      <td>United States</td>\n",
       "      <td>Technical Support Specialist</td>\n",
       "      <td>Associate</td>\n",
       "      <td>Onsite</td>\n",
       "    </tr>\n",
       "    <tr>\n",
       "      <th>3</th>\n",
       "      <td>https://www.linkedin.com/jobs/view/senior-data...</td>\n",
       "      <td>2024-01-20 15:30:55.796572+00</td>\n",
       "      <td>Finished NER</td>\n",
       "      <td>t</td>\n",
       "      <td>t</td>\n",
       "      <td>f</td>\n",
       "      <td>Senior Data Warehouse Developer / Architect</td>\n",
       "      <td>Morph Enterprise</td>\n",
       "      <td>Harrisburg, PA</td>\n",
       "      <td>2024-01-12</td>\n",
       "      <td>Lebanon</td>\n",
       "      <td>United States</td>\n",
       "      <td>Architect</td>\n",
       "      <td>Mid senior</td>\n",
       "      <td>Onsite</td>\n",
       "    </tr>\n",
       "    <tr>\n",
       "      <th>4</th>\n",
       "      <td>https://www.linkedin.com/jobs/view/lead-data-e...</td>\n",
       "      <td>2024-01-21 08:08:58.312124+00</td>\n",
       "      <td>Finished NER</td>\n",
       "      <td>t</td>\n",
       "      <td>t</td>\n",
       "      <td>f</td>\n",
       "      <td>Lead Data Engineer</td>\n",
       "      <td>Dice</td>\n",
       "      <td>Plano, TX</td>\n",
       "      <td>2024-01-14</td>\n",
       "      <td>McKinney</td>\n",
       "      <td>United States</td>\n",
       "      <td>Maintenance Data Analyst</td>\n",
       "      <td>Mid senior</td>\n",
       "      <td>Onsite</td>\n",
       "    </tr>\n",
       "  </tbody>\n",
       "</table>\n",
       "</div>"
      ],
      "text/plain": [
       "                                            job_link  \\\n",
       "0  https://www.linkedin.com/jobs/view/senior-mach...   \n",
       "1  https://www.linkedin.com/jobs/view/principal-s...   \n",
       "2  https://www.linkedin.com/jobs/view/senior-etl-...   \n",
       "3  https://www.linkedin.com/jobs/view/senior-data...   \n",
       "4  https://www.linkedin.com/jobs/view/lead-data-e...   \n",
       "\n",
       "             last_processed_time   last_status got_summary got_ner  \\\n",
       "0  2024-01-21 08:08:48.031964+00  Finished NER           t       t   \n",
       "1  2024-01-20 04:02:12.331406+00  Finished NER           t       t   \n",
       "2  2024-01-21 08:08:31.941595+00  Finished NER           t       t   \n",
       "3  2024-01-20 15:30:55.796572+00  Finished NER           t       t   \n",
       "4  2024-01-21 08:08:58.312124+00  Finished NER           t       t   \n",
       "\n",
       "  is_being_worked                                     job_title  \\\n",
       "0               f              Senior Machine Learning Engineer   \n",
       "1               f  Principal Software Engineer, ML Accelerators   \n",
       "2               f          Senior ETL Data Warehouse Specialist   \n",
       "3               f   Senior Data Warehouse Developer / Architect   \n",
       "4               f                            Lead Data Engineer   \n",
       "\n",
       "              company       job_location  first_seen search_city  \\\n",
       "0   Jobs for Humanity      New Haven, CT  2024-01-14  East Haven   \n",
       "1              Aurora  San Francisco, CA  2024-01-14  El Cerrito   \n",
       "2  Adame Services LLC       New York, NY  2024-01-14  Middletown   \n",
       "3    Morph Enterprise     Harrisburg, PA  2024-01-12     Lebanon   \n",
       "4                Dice          Plano, TX  2024-01-14    McKinney   \n",
       "\n",
       "  search_country                 search_position   job_level job_type  \n",
       "0  United States  Agricultural-Research Engineer  Mid senior   Onsite  \n",
       "1  United States                  Set-Key Driver  Mid senior   Onsite  \n",
       "2  United States    Technical Support Specialist   Associate   Onsite  \n",
       "3  United States                       Architect  Mid senior   Onsite  \n",
       "4  United States        Maintenance Data Analyst  Mid senior   Onsite  "
      ]
     },
     "execution_count": 113,
     "metadata": {},
     "output_type": "execute_result"
    }
   ],
   "source": [
    "# Display the first 5 rows of the dataframe\n",
    "df.head()"
   ]
  },
  {
   "cell_type": "code",
   "execution_count": 114,
   "metadata": {},
   "outputs": [
    {
     "data": {
      "text/plain": [
       "(12217, 15)"
      ]
     },
     "execution_count": 114,
     "metadata": {},
     "output_type": "execute_result"
    }
   ],
   "source": [
    "# Display number of rows and columns\n",
    "df.shape\n"
   ]
  },
  {
   "cell_type": "code",
   "execution_count": 115,
   "metadata": {},
   "outputs": [
    {
     "data": {
      "application/vnd.microsoft.datawrangler.viewer.v0+json": {
       "columns": [
        {
         "name": "index",
         "rawType": "int64",
         "type": "integer"
        },
        {
         "name": "job_link",
         "rawType": "object",
         "type": "string"
        },
        {
         "name": "last_processed_time",
         "rawType": "object",
         "type": "string"
        },
        {
         "name": "job_title",
         "rawType": "object",
         "type": "string"
        },
        {
         "name": "company",
         "rawType": "object",
         "type": "string"
        },
        {
         "name": "job_location",
         "rawType": "object",
         "type": "string"
        },
        {
         "name": "search_city",
         "rawType": "object",
         "type": "string"
        },
        {
         "name": "search_country",
         "rawType": "object",
         "type": "string"
        },
        {
         "name": "search_position",
         "rawType": "object",
         "type": "string"
        },
        {
         "name": "job_level",
         "rawType": "object",
         "type": "string"
        }
       ],
       "conversionMethod": "pd.DataFrame",
       "ref": "493178a5-da1e-4df4-a667-7cf8f8f7bf67",
       "rows": [
        [
         "0",
         "https://www.linkedin.com/jobs/view/senior-machine-learning-engineer-at-jobs-for-humanity-3804053819",
         "2024-01-21 08:08:48.031964+00",
         "Senior Machine Learning Engineer",
         "Jobs for Humanity",
         "New Haven, CT",
         "East Haven",
         "United States",
         "Agricultural-Research Engineer",
         "Mid senior"
        ],
        [
         "1",
         "https://www.linkedin.com/jobs/view/principal-software-engineer-ml-accelerators-at-aurora-3703455068",
         "2024-01-20 04:02:12.331406+00",
         "Principal Software Engineer, ML Accelerators",
         "Aurora",
         "San Francisco, CA",
         "El Cerrito",
         "United States",
         "Set-Key Driver",
         "Mid senior"
        ],
        [
         "2",
         "https://www.linkedin.com/jobs/view/senior-etl-data-warehouse-specialist-at-adame-services-llc-3765023888",
         "2024-01-21 08:08:31.941595+00",
         "Senior ETL Data Warehouse Specialist",
         "Adame Services LLC",
         "New York, NY",
         "Middletown",
         "United States",
         "Technical Support Specialist",
         "Associate"
        ],
        [
         "3",
         "https://www.linkedin.com/jobs/view/senior-data-warehouse-developer-architect-at-morph-enterprise-3794602483",
         "2024-01-20 15:30:55.796572+00",
         "Senior Data Warehouse Developer / Architect",
         "Morph Enterprise",
         "Harrisburg, PA",
         "Lebanon",
         "United States",
         "Architect",
         "Mid senior"
        ],
        [
         "4",
         "https://www.linkedin.com/jobs/view/lead-data-engineer-at-dice-3805948138",
         "2024-01-21 08:08:58.312124+00",
         "Lead Data Engineer",
         "Dice",
         "Plano, TX",
         "McKinney",
         "United States",
         "Maintenance Data Analyst",
         "Mid senior"
        ]
       ],
       "shape": {
        "columns": 9,
        "rows": 5
       }
      },
      "text/html": [
       "<div>\n",
       "<style scoped>\n",
       "    .dataframe tbody tr th:only-of-type {\n",
       "        vertical-align: middle;\n",
       "    }\n",
       "\n",
       "    .dataframe tbody tr th {\n",
       "        vertical-align: top;\n",
       "    }\n",
       "\n",
       "    .dataframe thead th {\n",
       "        text-align: right;\n",
       "    }\n",
       "</style>\n",
       "<table border=\"1\" class=\"dataframe\">\n",
       "  <thead>\n",
       "    <tr style=\"text-align: right;\">\n",
       "      <th></th>\n",
       "      <th>job_link</th>\n",
       "      <th>last_processed_time</th>\n",
       "      <th>job_title</th>\n",
       "      <th>company</th>\n",
       "      <th>job_location</th>\n",
       "      <th>search_city</th>\n",
       "      <th>search_country</th>\n",
       "      <th>search_position</th>\n",
       "      <th>job_level</th>\n",
       "    </tr>\n",
       "  </thead>\n",
       "  <tbody>\n",
       "    <tr>\n",
       "      <th>0</th>\n",
       "      <td>https://www.linkedin.com/jobs/view/senior-mach...</td>\n",
       "      <td>2024-01-21 08:08:48.031964+00</td>\n",
       "      <td>Senior Machine Learning Engineer</td>\n",
       "      <td>Jobs for Humanity</td>\n",
       "      <td>New Haven, CT</td>\n",
       "      <td>East Haven</td>\n",
       "      <td>United States</td>\n",
       "      <td>Agricultural-Research Engineer</td>\n",
       "      <td>Mid senior</td>\n",
       "    </tr>\n",
       "    <tr>\n",
       "      <th>1</th>\n",
       "      <td>https://www.linkedin.com/jobs/view/principal-s...</td>\n",
       "      <td>2024-01-20 04:02:12.331406+00</td>\n",
       "      <td>Principal Software Engineer, ML Accelerators</td>\n",
       "      <td>Aurora</td>\n",
       "      <td>San Francisco, CA</td>\n",
       "      <td>El Cerrito</td>\n",
       "      <td>United States</td>\n",
       "      <td>Set-Key Driver</td>\n",
       "      <td>Mid senior</td>\n",
       "    </tr>\n",
       "    <tr>\n",
       "      <th>2</th>\n",
       "      <td>https://www.linkedin.com/jobs/view/senior-etl-...</td>\n",
       "      <td>2024-01-21 08:08:31.941595+00</td>\n",
       "      <td>Senior ETL Data Warehouse Specialist</td>\n",
       "      <td>Adame Services LLC</td>\n",
       "      <td>New York, NY</td>\n",
       "      <td>Middletown</td>\n",
       "      <td>United States</td>\n",
       "      <td>Technical Support Specialist</td>\n",
       "      <td>Associate</td>\n",
       "    </tr>\n",
       "    <tr>\n",
       "      <th>3</th>\n",
       "      <td>https://www.linkedin.com/jobs/view/senior-data...</td>\n",
       "      <td>2024-01-20 15:30:55.796572+00</td>\n",
       "      <td>Senior Data Warehouse Developer / Architect</td>\n",
       "      <td>Morph Enterprise</td>\n",
       "      <td>Harrisburg, PA</td>\n",
       "      <td>Lebanon</td>\n",
       "      <td>United States</td>\n",
       "      <td>Architect</td>\n",
       "      <td>Mid senior</td>\n",
       "    </tr>\n",
       "    <tr>\n",
       "      <th>4</th>\n",
       "      <td>https://www.linkedin.com/jobs/view/lead-data-e...</td>\n",
       "      <td>2024-01-21 08:08:58.312124+00</td>\n",
       "      <td>Lead Data Engineer</td>\n",
       "      <td>Dice</td>\n",
       "      <td>Plano, TX</td>\n",
       "      <td>McKinney</td>\n",
       "      <td>United States</td>\n",
       "      <td>Maintenance Data Analyst</td>\n",
       "      <td>Mid senior</td>\n",
       "    </tr>\n",
       "  </tbody>\n",
       "</table>\n",
       "</div>"
      ],
      "text/plain": [
       "                                            job_link  \\\n",
       "0  https://www.linkedin.com/jobs/view/senior-mach...   \n",
       "1  https://www.linkedin.com/jobs/view/principal-s...   \n",
       "2  https://www.linkedin.com/jobs/view/senior-etl-...   \n",
       "3  https://www.linkedin.com/jobs/view/senior-data...   \n",
       "4  https://www.linkedin.com/jobs/view/lead-data-e...   \n",
       "\n",
       "             last_processed_time  \\\n",
       "0  2024-01-21 08:08:48.031964+00   \n",
       "1  2024-01-20 04:02:12.331406+00   \n",
       "2  2024-01-21 08:08:31.941595+00   \n",
       "3  2024-01-20 15:30:55.796572+00   \n",
       "4  2024-01-21 08:08:58.312124+00   \n",
       "\n",
       "                                      job_title             company  \\\n",
       "0              Senior Machine Learning Engineer   Jobs for Humanity   \n",
       "1  Principal Software Engineer, ML Accelerators              Aurora   \n",
       "2          Senior ETL Data Warehouse Specialist  Adame Services LLC   \n",
       "3   Senior Data Warehouse Developer / Architect    Morph Enterprise   \n",
       "4                            Lead Data Engineer                Dice   \n",
       "\n",
       "        job_location search_city search_country  \\\n",
       "0      New Haven, CT  East Haven  United States   \n",
       "1  San Francisco, CA  El Cerrito  United States   \n",
       "2       New York, NY  Middletown  United States   \n",
       "3     Harrisburg, PA     Lebanon  United States   \n",
       "4          Plano, TX    McKinney  United States   \n",
       "\n",
       "                  search_position   job_level  \n",
       "0  Agricultural-Research Engineer  Mid senior  \n",
       "1                  Set-Key Driver  Mid senior  \n",
       "2    Technical Support Specialist   Associate  \n",
       "3                       Architect  Mid senior  \n",
       "4        Maintenance Data Analyst  Mid senior  "
      ]
     },
     "execution_count": 115,
     "metadata": {},
     "output_type": "execute_result"
    }
   ],
   "source": [
    "# Eliminate columns that are not needed\n",
    "columns_to_drop = ['last_status', 'got_summary', 'got_ner', 'is_being_worked', 'first_seen', 'job_type']\n",
    "df = df.drop(columns=[col for col in columns_to_drop if col in df.columns])\n",
    "df.head()"
   ]
  },
  {
   "cell_type": "code",
   "execution_count": 116,
   "metadata": {},
   "outputs": [
    {
     "data": {
      "text/plain": [
       "(12217, 9)"
      ]
     },
     "execution_count": 116,
     "metadata": {},
     "output_type": "execute_result"
    }
   ],
   "source": [
    "# Display number of columns.\n",
    "df.shape"
   ]
  },
  {
   "cell_type": "code",
   "execution_count": 117,
   "metadata": {},
   "outputs": [
    {
     "data": {
      "text/plain": [
       "(12216, 9)"
      ]
     },
     "execution_count": 117,
     "metadata": {},
     "output_type": "execute_result"
    }
   ],
   "source": [
    "# Remove rows with missing values\n",
    "df = df.dropna()\n",
    "df.shape"
   ]
  },
  {
   "cell_type": "code",
   "execution_count": 118,
   "metadata": {},
   "outputs": [
    {
     "data": {
      "application/vnd.microsoft.datawrangler.viewer.v0+json": {
       "columns": [
        {
         "name": "index",
         "rawType": "int64",
         "type": "integer"
        },
        {
         "name": "job_link",
         "rawType": "object",
         "type": "string"
        },
        {
         "name": "last_processed_time",
         "rawType": "object",
         "type": "string"
        },
        {
         "name": "job_title",
         "rawType": "object",
         "type": "string"
        },
        {
         "name": "company",
         "rawType": "object",
         "type": "string"
        },
        {
         "name": "search_city",
         "rawType": "object",
         "type": "string"
        },
        {
         "name": "search_country",
         "rawType": "object",
         "type": "string"
        },
        {
         "name": "search_position",
         "rawType": "object",
         "type": "string"
        },
        {
         "name": "job_level",
         "rawType": "object",
         "type": "string"
        },
        {
         "name": "City",
         "rawType": "object",
         "type": "string"
        },
        {
         "name": "State",
         "rawType": "object",
         "type": "string"
        }
       ],
       "conversionMethod": "pd.DataFrame",
       "ref": "89ce42e1-5e7d-4277-8033-68ffe9e03efb",
       "rows": [
        [
         "0",
         "https://www.linkedin.com/jobs/view/senior-machine-learning-engineer-at-jobs-for-humanity-3804053819",
         "2024-01-21 08:08:48.031964+00",
         "Senior Machine Learning Engineer",
         "Jobs for Humanity",
         "East Haven",
         "United States",
         "Agricultural-Research Engineer",
         "Mid senior",
         "New Haven",
         "CT"
        ],
        [
         "1",
         "https://www.linkedin.com/jobs/view/principal-software-engineer-ml-accelerators-at-aurora-3703455068",
         "2024-01-20 04:02:12.331406+00",
         "Principal Software Engineer, ML Accelerators",
         "Aurora",
         "El Cerrito",
         "United States",
         "Set-Key Driver",
         "Mid senior",
         "San Francisco",
         "CA"
        ],
        [
         "2",
         "https://www.linkedin.com/jobs/view/senior-etl-data-warehouse-specialist-at-adame-services-llc-3765023888",
         "2024-01-21 08:08:31.941595+00",
         "Senior ETL Data Warehouse Specialist",
         "Adame Services LLC",
         "Middletown",
         "United States",
         "Technical Support Specialist",
         "Associate",
         "New York",
         "NY"
        ],
        [
         "3",
         "https://www.linkedin.com/jobs/view/senior-data-warehouse-developer-architect-at-morph-enterprise-3794602483",
         "2024-01-20 15:30:55.796572+00",
         "Senior Data Warehouse Developer / Architect",
         "Morph Enterprise",
         "Lebanon",
         "United States",
         "Architect",
         "Mid senior",
         "Harrisburg",
         "PA"
        ],
        [
         "4",
         "https://www.linkedin.com/jobs/view/lead-data-engineer-at-dice-3805948138",
         "2024-01-21 08:08:58.312124+00",
         "Lead Data Engineer",
         "Dice",
         "McKinney",
         "United States",
         "Maintenance Data Analyst",
         "Mid senior",
         "Plano",
         "TX"
        ]
       ],
       "shape": {
        "columns": 10,
        "rows": 5
       }
      },
      "text/html": [
       "<div>\n",
       "<style scoped>\n",
       "    .dataframe tbody tr th:only-of-type {\n",
       "        vertical-align: middle;\n",
       "    }\n",
       "\n",
       "    .dataframe tbody tr th {\n",
       "        vertical-align: top;\n",
       "    }\n",
       "\n",
       "    .dataframe thead th {\n",
       "        text-align: right;\n",
       "    }\n",
       "</style>\n",
       "<table border=\"1\" class=\"dataframe\">\n",
       "  <thead>\n",
       "    <tr style=\"text-align: right;\">\n",
       "      <th></th>\n",
       "      <th>job_link</th>\n",
       "      <th>last_processed_time</th>\n",
       "      <th>job_title</th>\n",
       "      <th>company</th>\n",
       "      <th>search_city</th>\n",
       "      <th>search_country</th>\n",
       "      <th>search_position</th>\n",
       "      <th>job_level</th>\n",
       "      <th>City</th>\n",
       "      <th>State</th>\n",
       "    </tr>\n",
       "  </thead>\n",
       "  <tbody>\n",
       "    <tr>\n",
       "      <th>0</th>\n",
       "      <td>https://www.linkedin.com/jobs/view/senior-mach...</td>\n",
       "      <td>2024-01-21 08:08:48.031964+00</td>\n",
       "      <td>Senior Machine Learning Engineer</td>\n",
       "      <td>Jobs for Humanity</td>\n",
       "      <td>East Haven</td>\n",
       "      <td>United States</td>\n",
       "      <td>Agricultural-Research Engineer</td>\n",
       "      <td>Mid senior</td>\n",
       "      <td>New Haven</td>\n",
       "      <td>CT</td>\n",
       "    </tr>\n",
       "    <tr>\n",
       "      <th>1</th>\n",
       "      <td>https://www.linkedin.com/jobs/view/principal-s...</td>\n",
       "      <td>2024-01-20 04:02:12.331406+00</td>\n",
       "      <td>Principal Software Engineer, ML Accelerators</td>\n",
       "      <td>Aurora</td>\n",
       "      <td>El Cerrito</td>\n",
       "      <td>United States</td>\n",
       "      <td>Set-Key Driver</td>\n",
       "      <td>Mid senior</td>\n",
       "      <td>San Francisco</td>\n",
       "      <td>CA</td>\n",
       "    </tr>\n",
       "    <tr>\n",
       "      <th>2</th>\n",
       "      <td>https://www.linkedin.com/jobs/view/senior-etl-...</td>\n",
       "      <td>2024-01-21 08:08:31.941595+00</td>\n",
       "      <td>Senior ETL Data Warehouse Specialist</td>\n",
       "      <td>Adame Services LLC</td>\n",
       "      <td>Middletown</td>\n",
       "      <td>United States</td>\n",
       "      <td>Technical Support Specialist</td>\n",
       "      <td>Associate</td>\n",
       "      <td>New York</td>\n",
       "      <td>NY</td>\n",
       "    </tr>\n",
       "    <tr>\n",
       "      <th>3</th>\n",
       "      <td>https://www.linkedin.com/jobs/view/senior-data...</td>\n",
       "      <td>2024-01-20 15:30:55.796572+00</td>\n",
       "      <td>Senior Data Warehouse Developer / Architect</td>\n",
       "      <td>Morph Enterprise</td>\n",
       "      <td>Lebanon</td>\n",
       "      <td>United States</td>\n",
       "      <td>Architect</td>\n",
       "      <td>Mid senior</td>\n",
       "      <td>Harrisburg</td>\n",
       "      <td>PA</td>\n",
       "    </tr>\n",
       "    <tr>\n",
       "      <th>4</th>\n",
       "      <td>https://www.linkedin.com/jobs/view/lead-data-e...</td>\n",
       "      <td>2024-01-21 08:08:58.312124+00</td>\n",
       "      <td>Lead Data Engineer</td>\n",
       "      <td>Dice</td>\n",
       "      <td>McKinney</td>\n",
       "      <td>United States</td>\n",
       "      <td>Maintenance Data Analyst</td>\n",
       "      <td>Mid senior</td>\n",
       "      <td>Plano</td>\n",
       "      <td>TX</td>\n",
       "    </tr>\n",
       "  </tbody>\n",
       "</table>\n",
       "</div>"
      ],
      "text/plain": [
       "                                            job_link  \\\n",
       "0  https://www.linkedin.com/jobs/view/senior-mach...   \n",
       "1  https://www.linkedin.com/jobs/view/principal-s...   \n",
       "2  https://www.linkedin.com/jobs/view/senior-etl-...   \n",
       "3  https://www.linkedin.com/jobs/view/senior-data...   \n",
       "4  https://www.linkedin.com/jobs/view/lead-data-e...   \n",
       "\n",
       "             last_processed_time  \\\n",
       "0  2024-01-21 08:08:48.031964+00   \n",
       "1  2024-01-20 04:02:12.331406+00   \n",
       "2  2024-01-21 08:08:31.941595+00   \n",
       "3  2024-01-20 15:30:55.796572+00   \n",
       "4  2024-01-21 08:08:58.312124+00   \n",
       "\n",
       "                                      job_title             company  \\\n",
       "0              Senior Machine Learning Engineer   Jobs for Humanity   \n",
       "1  Principal Software Engineer, ML Accelerators              Aurora   \n",
       "2          Senior ETL Data Warehouse Specialist  Adame Services LLC   \n",
       "3   Senior Data Warehouse Developer / Architect    Morph Enterprise   \n",
       "4                            Lead Data Engineer                Dice   \n",
       "\n",
       "  search_city search_country                 search_position   job_level  \\\n",
       "0  East Haven  United States  Agricultural-Research Engineer  Mid senior   \n",
       "1  El Cerrito  United States                  Set-Key Driver  Mid senior   \n",
       "2  Middletown  United States    Technical Support Specialist   Associate   \n",
       "3     Lebanon  United States                       Architect  Mid senior   \n",
       "4    McKinney  United States        Maintenance Data Analyst  Mid senior   \n",
       "\n",
       "            City State  \n",
       "0      New Haven    CT  \n",
       "1  San Francisco    CA  \n",
       "2       New York    NY  \n",
       "3     Harrisburg    PA  \n",
       "4          Plano    TX  "
      ]
     },
     "execution_count": 118,
     "metadata": {},
     "output_type": "execute_result"
    }
   ],
   "source": [
    "# Split the job_location column into city and state\n",
    "df[['City', 'State']] = df['job_location'].str.split(', ', n=1, expand=True)\n",
    "df = df.drop(columns=['job_location'])\n",
    "df.head()"
   ]
  },
  {
   "cell_type": "code",
   "execution_count": 119,
   "metadata": {},
   "outputs": [
    {
     "data": {
      "application/vnd.microsoft.datawrangler.viewer.v0+json": {
       "columns": [
        {
         "name": "index",
         "rawType": "int64",
         "type": "integer"
        },
        {
         "name": "Job Link",
         "rawType": "object",
         "type": "string"
        },
        {
         "name": "Last Processed Time",
         "rawType": "object",
         "type": "string"
        },
        {
         "name": "Job Title",
         "rawType": "object",
         "type": "string"
        },
        {
         "name": "Company",
         "rawType": "object",
         "type": "string"
        },
        {
         "name": "Search City",
         "rawType": "object",
         "type": "string"
        },
        {
         "name": "Search Country",
         "rawType": "object",
         "type": "string"
        },
        {
         "name": "Search Position",
         "rawType": "object",
         "type": "string"
        },
        {
         "name": "Job Level",
         "rawType": "object",
         "type": "string"
        },
        {
         "name": "City",
         "rawType": "object",
         "type": "string"
        },
        {
         "name": "State",
         "rawType": "object",
         "type": "string"
        }
       ],
       "conversionMethod": "pd.DataFrame",
       "ref": "475e2d42-4252-4935-a916-4d3bba3c0e3b",
       "rows": [
        [
         "0",
         "https://www.linkedin.com/jobs/view/senior-machine-learning-engineer-at-jobs-for-humanity-3804053819",
         "2024-01-21 08:08:48.031964+00",
         "Senior Machine Learning Engineer",
         "Jobs for Humanity",
         "East Haven",
         "United States",
         "Agricultural-Research Engineer",
         "Mid senior",
         "New Haven",
         "CT"
        ],
        [
         "1",
         "https://www.linkedin.com/jobs/view/principal-software-engineer-ml-accelerators-at-aurora-3703455068",
         "2024-01-20 04:02:12.331406+00",
         "Principal Software Engineer, ML Accelerators",
         "Aurora",
         "El Cerrito",
         "United States",
         "Set-Key Driver",
         "Mid senior",
         "San Francisco",
         "CA"
        ],
        [
         "2",
         "https://www.linkedin.com/jobs/view/senior-etl-data-warehouse-specialist-at-adame-services-llc-3765023888",
         "2024-01-21 08:08:31.941595+00",
         "Senior ETL Data Warehouse Specialist",
         "Adame Services LLC",
         "Middletown",
         "United States",
         "Technical Support Specialist",
         "Associate",
         "New York",
         "NY"
        ],
        [
         "3",
         "https://www.linkedin.com/jobs/view/senior-data-warehouse-developer-architect-at-morph-enterprise-3794602483",
         "2024-01-20 15:30:55.796572+00",
         "Senior Data Warehouse Developer / Architect",
         "Morph Enterprise",
         "Lebanon",
         "United States",
         "Architect",
         "Mid senior",
         "Harrisburg",
         "PA"
        ],
        [
         "4",
         "https://www.linkedin.com/jobs/view/lead-data-engineer-at-dice-3805948138",
         "2024-01-21 08:08:58.312124+00",
         "Lead Data Engineer",
         "Dice",
         "McKinney",
         "United States",
         "Maintenance Data Analyst",
         "Mid senior",
         "Plano",
         "TX"
        ]
       ],
       "shape": {
        "columns": 10,
        "rows": 5
       }
      },
      "text/html": [
       "<div>\n",
       "<style scoped>\n",
       "    .dataframe tbody tr th:only-of-type {\n",
       "        vertical-align: middle;\n",
       "    }\n",
       "\n",
       "    .dataframe tbody tr th {\n",
       "        vertical-align: top;\n",
       "    }\n",
       "\n",
       "    .dataframe thead th {\n",
       "        text-align: right;\n",
       "    }\n",
       "</style>\n",
       "<table border=\"1\" class=\"dataframe\">\n",
       "  <thead>\n",
       "    <tr style=\"text-align: right;\">\n",
       "      <th></th>\n",
       "      <th>Job Link</th>\n",
       "      <th>Last Processed Time</th>\n",
       "      <th>Job Title</th>\n",
       "      <th>Company</th>\n",
       "      <th>Search City</th>\n",
       "      <th>Search Country</th>\n",
       "      <th>Search Position</th>\n",
       "      <th>Job Level</th>\n",
       "      <th>City</th>\n",
       "      <th>State</th>\n",
       "    </tr>\n",
       "  </thead>\n",
       "  <tbody>\n",
       "    <tr>\n",
       "      <th>0</th>\n",
       "      <td>https://www.linkedin.com/jobs/view/senior-mach...</td>\n",
       "      <td>2024-01-21 08:08:48.031964+00</td>\n",
       "      <td>Senior Machine Learning Engineer</td>\n",
       "      <td>Jobs for Humanity</td>\n",
       "      <td>East Haven</td>\n",
       "      <td>United States</td>\n",
       "      <td>Agricultural-Research Engineer</td>\n",
       "      <td>Mid senior</td>\n",
       "      <td>New Haven</td>\n",
       "      <td>CT</td>\n",
       "    </tr>\n",
       "    <tr>\n",
       "      <th>1</th>\n",
       "      <td>https://www.linkedin.com/jobs/view/principal-s...</td>\n",
       "      <td>2024-01-20 04:02:12.331406+00</td>\n",
       "      <td>Principal Software Engineer, ML Accelerators</td>\n",
       "      <td>Aurora</td>\n",
       "      <td>El Cerrito</td>\n",
       "      <td>United States</td>\n",
       "      <td>Set-Key Driver</td>\n",
       "      <td>Mid senior</td>\n",
       "      <td>San Francisco</td>\n",
       "      <td>CA</td>\n",
       "    </tr>\n",
       "    <tr>\n",
       "      <th>2</th>\n",
       "      <td>https://www.linkedin.com/jobs/view/senior-etl-...</td>\n",
       "      <td>2024-01-21 08:08:31.941595+00</td>\n",
       "      <td>Senior ETL Data Warehouse Specialist</td>\n",
       "      <td>Adame Services LLC</td>\n",
       "      <td>Middletown</td>\n",
       "      <td>United States</td>\n",
       "      <td>Technical Support Specialist</td>\n",
       "      <td>Associate</td>\n",
       "      <td>New York</td>\n",
       "      <td>NY</td>\n",
       "    </tr>\n",
       "    <tr>\n",
       "      <th>3</th>\n",
       "      <td>https://www.linkedin.com/jobs/view/senior-data...</td>\n",
       "      <td>2024-01-20 15:30:55.796572+00</td>\n",
       "      <td>Senior Data Warehouse Developer / Architect</td>\n",
       "      <td>Morph Enterprise</td>\n",
       "      <td>Lebanon</td>\n",
       "      <td>United States</td>\n",
       "      <td>Architect</td>\n",
       "      <td>Mid senior</td>\n",
       "      <td>Harrisburg</td>\n",
       "      <td>PA</td>\n",
       "    </tr>\n",
       "    <tr>\n",
       "      <th>4</th>\n",
       "      <td>https://www.linkedin.com/jobs/view/lead-data-e...</td>\n",
       "      <td>2024-01-21 08:08:58.312124+00</td>\n",
       "      <td>Lead Data Engineer</td>\n",
       "      <td>Dice</td>\n",
       "      <td>McKinney</td>\n",
       "      <td>United States</td>\n",
       "      <td>Maintenance Data Analyst</td>\n",
       "      <td>Mid senior</td>\n",
       "      <td>Plano</td>\n",
       "      <td>TX</td>\n",
       "    </tr>\n",
       "  </tbody>\n",
       "</table>\n",
       "</div>"
      ],
      "text/plain": [
       "                                            Job Link  \\\n",
       "0  https://www.linkedin.com/jobs/view/senior-mach...   \n",
       "1  https://www.linkedin.com/jobs/view/principal-s...   \n",
       "2  https://www.linkedin.com/jobs/view/senior-etl-...   \n",
       "3  https://www.linkedin.com/jobs/view/senior-data...   \n",
       "4  https://www.linkedin.com/jobs/view/lead-data-e...   \n",
       "\n",
       "             Last Processed Time  \\\n",
       "0  2024-01-21 08:08:48.031964+00   \n",
       "1  2024-01-20 04:02:12.331406+00   \n",
       "2  2024-01-21 08:08:31.941595+00   \n",
       "3  2024-01-20 15:30:55.796572+00   \n",
       "4  2024-01-21 08:08:58.312124+00   \n",
       "\n",
       "                                      Job Title             Company  \\\n",
       "0              Senior Machine Learning Engineer   Jobs for Humanity   \n",
       "1  Principal Software Engineer, ML Accelerators              Aurora   \n",
       "2          Senior ETL Data Warehouse Specialist  Adame Services LLC   \n",
       "3   Senior Data Warehouse Developer / Architect    Morph Enterprise   \n",
       "4                            Lead Data Engineer                Dice   \n",
       "\n",
       "  Search City Search Country                 Search Position   Job Level  \\\n",
       "0  East Haven  United States  Agricultural-Research Engineer  Mid senior   \n",
       "1  El Cerrito  United States                  Set-Key Driver  Mid senior   \n",
       "2  Middletown  United States    Technical Support Specialist   Associate   \n",
       "3     Lebanon  United States                       Architect  Mid senior   \n",
       "4    McKinney  United States        Maintenance Data Analyst  Mid senior   \n",
       "\n",
       "            City State  \n",
       "0      New Haven    CT  \n",
       "1  San Francisco    CA  \n",
       "2       New York    NY  \n",
       "3     Harrisburg    PA  \n",
       "4          Plano    TX  "
      ]
     },
     "execution_count": 119,
     "metadata": {},
     "output_type": "execute_result"
    }
   ],
   "source": [
    "# Rename the columns\n",
    "df = df.rename(columns={'job_link': 'Job Link', 'last_processed_time': 'Last Processed Time', 'job_title': 'Job Title', 'company': 'Company', 'search_city': 'Search City', 'search_country': 'Search Country', 'search_position': 'Search Position', 'job_level': 'Job Level'})\n",
    "df.head()\n"
   ]
  },
  {
   "cell_type": "code",
   "execution_count": 120,
   "metadata": {},
   "outputs": [
    {
     "data": {
      "application/vnd.microsoft.datawrangler.viewer.v0+json": {
       "columns": [
        {
         "name": "index",
         "rawType": "int64",
         "type": "integer"
        },
        {
         "name": "Job Link",
         "rawType": "object",
         "type": "string"
        },
        {
         "name": "Last Processed Time",
         "rawType": "object",
         "type": "string"
        },
        {
         "name": "Job Title",
         "rawType": "object",
         "type": "string"
        },
        {
         "name": "Company",
         "rawType": "object",
         "type": "string"
        },
        {
         "name": "Search Position",
         "rawType": "object",
         "type": "string"
        },
        {
         "name": "Search City",
         "rawType": "object",
         "type": "string"
        },
        {
         "name": "Search Country",
         "rawType": "object",
         "type": "string"
        },
        {
         "name": "Job Level",
         "rawType": "object",
         "type": "string"
        },
        {
         "name": "City",
         "rawType": "object",
         "type": "string"
        },
        {
         "name": "State",
         "rawType": "object",
         "type": "string"
        }
       ],
       "conversionMethod": "pd.DataFrame",
       "ref": "70a6f83e-0bf8-4d72-b012-7353d84194d7",
       "rows": [
        [
         "0",
         "https://www.linkedin.com/jobs/view/senior-machine-learning-engineer-at-jobs-for-humanity-3804053819",
         "2024-01-21 08:08:48.031964+00",
         "Senior Machine Learning Engineer",
         "Jobs for Humanity",
         "Agricultural-Research Engineer",
         "East Haven",
         "United States",
         "Mid senior",
         "New Haven",
         "CT"
        ],
        [
         "1",
         "https://www.linkedin.com/jobs/view/principal-software-engineer-ml-accelerators-at-aurora-3703455068",
         "2024-01-20 04:02:12.331406+00",
         "Principal Software Engineer, ML Accelerators",
         "Aurora",
         "Set-Key Driver",
         "El Cerrito",
         "United States",
         "Mid senior",
         "San Francisco",
         "CA"
        ],
        [
         "2",
         "https://www.linkedin.com/jobs/view/senior-etl-data-warehouse-specialist-at-adame-services-llc-3765023888",
         "2024-01-21 08:08:31.941595+00",
         "Senior ETL Data Warehouse Specialist",
         "Adame Services LLC",
         "Technical Support Specialist",
         "Middletown",
         "United States",
         "Associate",
         "New York",
         "NY"
        ],
        [
         "3",
         "https://www.linkedin.com/jobs/view/senior-data-warehouse-developer-architect-at-morph-enterprise-3794602483",
         "2024-01-20 15:30:55.796572+00",
         "Senior Data Warehouse Developer / Architect",
         "Morph Enterprise",
         "Architect",
         "Lebanon",
         "United States",
         "Mid senior",
         "Harrisburg",
         "PA"
        ],
        [
         "4",
         "https://www.linkedin.com/jobs/view/lead-data-engineer-at-dice-3805948138",
         "2024-01-21 08:08:58.312124+00",
         "Lead Data Engineer",
         "Dice",
         "Maintenance Data Analyst",
         "McKinney",
         "United States",
         "Mid senior",
         "Plano",
         "TX"
        ]
       ],
       "shape": {
        "columns": 10,
        "rows": 5
       }
      },
      "text/html": [
       "<div>\n",
       "<style scoped>\n",
       "    .dataframe tbody tr th:only-of-type {\n",
       "        vertical-align: middle;\n",
       "    }\n",
       "\n",
       "    .dataframe tbody tr th {\n",
       "        vertical-align: top;\n",
       "    }\n",
       "\n",
       "    .dataframe thead th {\n",
       "        text-align: right;\n",
       "    }\n",
       "</style>\n",
       "<table border=\"1\" class=\"dataframe\">\n",
       "  <thead>\n",
       "    <tr style=\"text-align: right;\">\n",
       "      <th></th>\n",
       "      <th>Job Link</th>\n",
       "      <th>Last Processed Time</th>\n",
       "      <th>Job Title</th>\n",
       "      <th>Company</th>\n",
       "      <th>Search Position</th>\n",
       "      <th>Search City</th>\n",
       "      <th>Search Country</th>\n",
       "      <th>Job Level</th>\n",
       "      <th>City</th>\n",
       "      <th>State</th>\n",
       "    </tr>\n",
       "  </thead>\n",
       "  <tbody>\n",
       "    <tr>\n",
       "      <th>0</th>\n",
       "      <td>https://www.linkedin.com/jobs/view/senior-mach...</td>\n",
       "      <td>2024-01-21 08:08:48.031964+00</td>\n",
       "      <td>Senior Machine Learning Engineer</td>\n",
       "      <td>Jobs for Humanity</td>\n",
       "      <td>Agricultural-Research Engineer</td>\n",
       "      <td>East Haven</td>\n",
       "      <td>United States</td>\n",
       "      <td>Mid senior</td>\n",
       "      <td>New Haven</td>\n",
       "      <td>CT</td>\n",
       "    </tr>\n",
       "    <tr>\n",
       "      <th>1</th>\n",
       "      <td>https://www.linkedin.com/jobs/view/principal-s...</td>\n",
       "      <td>2024-01-20 04:02:12.331406+00</td>\n",
       "      <td>Principal Software Engineer, ML Accelerators</td>\n",
       "      <td>Aurora</td>\n",
       "      <td>Set-Key Driver</td>\n",
       "      <td>El Cerrito</td>\n",
       "      <td>United States</td>\n",
       "      <td>Mid senior</td>\n",
       "      <td>San Francisco</td>\n",
       "      <td>CA</td>\n",
       "    </tr>\n",
       "    <tr>\n",
       "      <th>2</th>\n",
       "      <td>https://www.linkedin.com/jobs/view/senior-etl-...</td>\n",
       "      <td>2024-01-21 08:08:31.941595+00</td>\n",
       "      <td>Senior ETL Data Warehouse Specialist</td>\n",
       "      <td>Adame Services LLC</td>\n",
       "      <td>Technical Support Specialist</td>\n",
       "      <td>Middletown</td>\n",
       "      <td>United States</td>\n",
       "      <td>Associate</td>\n",
       "      <td>New York</td>\n",
       "      <td>NY</td>\n",
       "    </tr>\n",
       "    <tr>\n",
       "      <th>3</th>\n",
       "      <td>https://www.linkedin.com/jobs/view/senior-data...</td>\n",
       "      <td>2024-01-20 15:30:55.796572+00</td>\n",
       "      <td>Senior Data Warehouse Developer / Architect</td>\n",
       "      <td>Morph Enterprise</td>\n",
       "      <td>Architect</td>\n",
       "      <td>Lebanon</td>\n",
       "      <td>United States</td>\n",
       "      <td>Mid senior</td>\n",
       "      <td>Harrisburg</td>\n",
       "      <td>PA</td>\n",
       "    </tr>\n",
       "    <tr>\n",
       "      <th>4</th>\n",
       "      <td>https://www.linkedin.com/jobs/view/lead-data-e...</td>\n",
       "      <td>2024-01-21 08:08:58.312124+00</td>\n",
       "      <td>Lead Data Engineer</td>\n",
       "      <td>Dice</td>\n",
       "      <td>Maintenance Data Analyst</td>\n",
       "      <td>McKinney</td>\n",
       "      <td>United States</td>\n",
       "      <td>Mid senior</td>\n",
       "      <td>Plano</td>\n",
       "      <td>TX</td>\n",
       "    </tr>\n",
       "  </tbody>\n",
       "</table>\n",
       "</div>"
      ],
      "text/plain": [
       "                                            Job Link  \\\n",
       "0  https://www.linkedin.com/jobs/view/senior-mach...   \n",
       "1  https://www.linkedin.com/jobs/view/principal-s...   \n",
       "2  https://www.linkedin.com/jobs/view/senior-etl-...   \n",
       "3  https://www.linkedin.com/jobs/view/senior-data...   \n",
       "4  https://www.linkedin.com/jobs/view/lead-data-e...   \n",
       "\n",
       "             Last Processed Time  \\\n",
       "0  2024-01-21 08:08:48.031964+00   \n",
       "1  2024-01-20 04:02:12.331406+00   \n",
       "2  2024-01-21 08:08:31.941595+00   \n",
       "3  2024-01-20 15:30:55.796572+00   \n",
       "4  2024-01-21 08:08:58.312124+00   \n",
       "\n",
       "                                      Job Title             Company  \\\n",
       "0              Senior Machine Learning Engineer   Jobs for Humanity   \n",
       "1  Principal Software Engineer, ML Accelerators              Aurora   \n",
       "2          Senior ETL Data Warehouse Specialist  Adame Services LLC   \n",
       "3   Senior Data Warehouse Developer / Architect    Morph Enterprise   \n",
       "4                            Lead Data Engineer                Dice   \n",
       "\n",
       "                  Search Position Search City Search Country   Job Level  \\\n",
       "0  Agricultural-Research Engineer  East Haven  United States  Mid senior   \n",
       "1                  Set-Key Driver  El Cerrito  United States  Mid senior   \n",
       "2    Technical Support Specialist  Middletown  United States   Associate   \n",
       "3                       Architect     Lebanon  United States  Mid senior   \n",
       "4        Maintenance Data Analyst    McKinney  United States  Mid senior   \n",
       "\n",
       "            City State  \n",
       "0      New Haven    CT  \n",
       "1  San Francisco    CA  \n",
       "2       New York    NY  \n",
       "3     Harrisburg    PA  \n",
       "4          Plano    TX  "
      ]
     },
     "execution_count": 120,
     "metadata": {},
     "output_type": "execute_result"
    }
   ],
   "source": [
    "# Move the Search position column to the fourth position\n",
    "cols = list(df.columns)\n",
    "cols.insert(4, cols.pop(cols.index('Search Position')))\n",
    "df = df[cols]\n",
    "df.head()"
   ]
  },
  {
   "cell_type": "code",
   "execution_count": 121,
   "metadata": {},
   "outputs": [
    {
     "data": {
      "application/vnd.microsoft.datawrangler.viewer.v0+json": {
       "columns": [
        {
         "name": "index",
         "rawType": "int64",
         "type": "integer"
        },
        {
         "name": "Job Link",
         "rawType": "object",
         "type": "string"
        },
        {
         "name": "Last Processed Time",
         "rawType": "object",
         "type": "string"
        },
        {
         "name": "Job Title",
         "rawType": "object",
         "type": "string"
        },
        {
         "name": "Company",
         "rawType": "object",
         "type": "string"
        },
        {
         "name": "Search Position",
         "rawType": "object",
         "type": "string"
        },
        {
         "name": "Job Level",
         "rawType": "object",
         "type": "string"
        },
        {
         "name": "Search City",
         "rawType": "object",
         "type": "string"
        },
        {
         "name": "Search Country",
         "rawType": "object",
         "type": "string"
        },
        {
         "name": "City",
         "rawType": "object",
         "type": "string"
        },
        {
         "name": "State",
         "rawType": "object",
         "type": "string"
        }
       ],
       "conversionMethod": "pd.DataFrame",
       "ref": "58bc1cd7-46e6-4f8d-a1b7-88db86b3130f",
       "rows": [
        [
         "0",
         "https://www.linkedin.com/jobs/view/senior-machine-learning-engineer-at-jobs-for-humanity-3804053819",
         "2024-01-21 08:08:48.031964+00",
         "Senior Machine Learning Engineer",
         "Jobs for Humanity",
         "Agricultural-Research Engineer",
         "Mid senior",
         "East Haven",
         "United States",
         "New Haven",
         "CT"
        ],
        [
         "1",
         "https://www.linkedin.com/jobs/view/principal-software-engineer-ml-accelerators-at-aurora-3703455068",
         "2024-01-20 04:02:12.331406+00",
         "Principal Software Engineer, ML Accelerators",
         "Aurora",
         "Set-Key Driver",
         "Mid senior",
         "El Cerrito",
         "United States",
         "San Francisco",
         "CA"
        ],
        [
         "2",
         "https://www.linkedin.com/jobs/view/senior-etl-data-warehouse-specialist-at-adame-services-llc-3765023888",
         "2024-01-21 08:08:31.941595+00",
         "Senior ETL Data Warehouse Specialist",
         "Adame Services LLC",
         "Technical Support Specialist",
         "Associate",
         "Middletown",
         "United States",
         "New York",
         "NY"
        ],
        [
         "3",
         "https://www.linkedin.com/jobs/view/senior-data-warehouse-developer-architect-at-morph-enterprise-3794602483",
         "2024-01-20 15:30:55.796572+00",
         "Senior Data Warehouse Developer / Architect",
         "Morph Enterprise",
         "Architect",
         "Mid senior",
         "Lebanon",
         "United States",
         "Harrisburg",
         "PA"
        ],
        [
         "4",
         "https://www.linkedin.com/jobs/view/lead-data-engineer-at-dice-3805948138",
         "2024-01-21 08:08:58.312124+00",
         "Lead Data Engineer",
         "Dice",
         "Maintenance Data Analyst",
         "Mid senior",
         "McKinney",
         "United States",
         "Plano",
         "TX"
        ]
       ],
       "shape": {
        "columns": 10,
        "rows": 5
       }
      },
      "text/html": [
       "<div>\n",
       "<style scoped>\n",
       "    .dataframe tbody tr th:only-of-type {\n",
       "        vertical-align: middle;\n",
       "    }\n",
       "\n",
       "    .dataframe tbody tr th {\n",
       "        vertical-align: top;\n",
       "    }\n",
       "\n",
       "    .dataframe thead th {\n",
       "        text-align: right;\n",
       "    }\n",
       "</style>\n",
       "<table border=\"1\" class=\"dataframe\">\n",
       "  <thead>\n",
       "    <tr style=\"text-align: right;\">\n",
       "      <th></th>\n",
       "      <th>Job Link</th>\n",
       "      <th>Last Processed Time</th>\n",
       "      <th>Job Title</th>\n",
       "      <th>Company</th>\n",
       "      <th>Search Position</th>\n",
       "      <th>Job Level</th>\n",
       "      <th>Search City</th>\n",
       "      <th>Search Country</th>\n",
       "      <th>City</th>\n",
       "      <th>State</th>\n",
       "    </tr>\n",
       "  </thead>\n",
       "  <tbody>\n",
       "    <tr>\n",
       "      <th>0</th>\n",
       "      <td>https://www.linkedin.com/jobs/view/senior-mach...</td>\n",
       "      <td>2024-01-21 08:08:48.031964+00</td>\n",
       "      <td>Senior Machine Learning Engineer</td>\n",
       "      <td>Jobs for Humanity</td>\n",
       "      <td>Agricultural-Research Engineer</td>\n",
       "      <td>Mid senior</td>\n",
       "      <td>East Haven</td>\n",
       "      <td>United States</td>\n",
       "      <td>New Haven</td>\n",
       "      <td>CT</td>\n",
       "    </tr>\n",
       "    <tr>\n",
       "      <th>1</th>\n",
       "      <td>https://www.linkedin.com/jobs/view/principal-s...</td>\n",
       "      <td>2024-01-20 04:02:12.331406+00</td>\n",
       "      <td>Principal Software Engineer, ML Accelerators</td>\n",
       "      <td>Aurora</td>\n",
       "      <td>Set-Key Driver</td>\n",
       "      <td>Mid senior</td>\n",
       "      <td>El Cerrito</td>\n",
       "      <td>United States</td>\n",
       "      <td>San Francisco</td>\n",
       "      <td>CA</td>\n",
       "    </tr>\n",
       "    <tr>\n",
       "      <th>2</th>\n",
       "      <td>https://www.linkedin.com/jobs/view/senior-etl-...</td>\n",
       "      <td>2024-01-21 08:08:31.941595+00</td>\n",
       "      <td>Senior ETL Data Warehouse Specialist</td>\n",
       "      <td>Adame Services LLC</td>\n",
       "      <td>Technical Support Specialist</td>\n",
       "      <td>Associate</td>\n",
       "      <td>Middletown</td>\n",
       "      <td>United States</td>\n",
       "      <td>New York</td>\n",
       "      <td>NY</td>\n",
       "    </tr>\n",
       "    <tr>\n",
       "      <th>3</th>\n",
       "      <td>https://www.linkedin.com/jobs/view/senior-data...</td>\n",
       "      <td>2024-01-20 15:30:55.796572+00</td>\n",
       "      <td>Senior Data Warehouse Developer / Architect</td>\n",
       "      <td>Morph Enterprise</td>\n",
       "      <td>Architect</td>\n",
       "      <td>Mid senior</td>\n",
       "      <td>Lebanon</td>\n",
       "      <td>United States</td>\n",
       "      <td>Harrisburg</td>\n",
       "      <td>PA</td>\n",
       "    </tr>\n",
       "    <tr>\n",
       "      <th>4</th>\n",
       "      <td>https://www.linkedin.com/jobs/view/lead-data-e...</td>\n",
       "      <td>2024-01-21 08:08:58.312124+00</td>\n",
       "      <td>Lead Data Engineer</td>\n",
       "      <td>Dice</td>\n",
       "      <td>Maintenance Data Analyst</td>\n",
       "      <td>Mid senior</td>\n",
       "      <td>McKinney</td>\n",
       "      <td>United States</td>\n",
       "      <td>Plano</td>\n",
       "      <td>TX</td>\n",
       "    </tr>\n",
       "  </tbody>\n",
       "</table>\n",
       "</div>"
      ],
      "text/plain": [
       "                                            Job Link  \\\n",
       "0  https://www.linkedin.com/jobs/view/senior-mach...   \n",
       "1  https://www.linkedin.com/jobs/view/principal-s...   \n",
       "2  https://www.linkedin.com/jobs/view/senior-etl-...   \n",
       "3  https://www.linkedin.com/jobs/view/senior-data...   \n",
       "4  https://www.linkedin.com/jobs/view/lead-data-e...   \n",
       "\n",
       "             Last Processed Time  \\\n",
       "0  2024-01-21 08:08:48.031964+00   \n",
       "1  2024-01-20 04:02:12.331406+00   \n",
       "2  2024-01-21 08:08:31.941595+00   \n",
       "3  2024-01-20 15:30:55.796572+00   \n",
       "4  2024-01-21 08:08:58.312124+00   \n",
       "\n",
       "                                      Job Title             Company  \\\n",
       "0              Senior Machine Learning Engineer   Jobs for Humanity   \n",
       "1  Principal Software Engineer, ML Accelerators              Aurora   \n",
       "2          Senior ETL Data Warehouse Specialist  Adame Services LLC   \n",
       "3   Senior Data Warehouse Developer / Architect    Morph Enterprise   \n",
       "4                            Lead Data Engineer                Dice   \n",
       "\n",
       "                  Search Position   Job Level Search City Search Country  \\\n",
       "0  Agricultural-Research Engineer  Mid senior  East Haven  United States   \n",
       "1                  Set-Key Driver  Mid senior  El Cerrito  United States   \n",
       "2    Technical Support Specialist   Associate  Middletown  United States   \n",
       "3                       Architect  Mid senior     Lebanon  United States   \n",
       "4        Maintenance Data Analyst  Mid senior    McKinney  United States   \n",
       "\n",
       "            City State  \n",
       "0      New Haven    CT  \n",
       "1  San Francisco    CA  \n",
       "2       New York    NY  \n",
       "3     Harrisburg    PA  \n",
       "4          Plano    TX  "
      ]
     },
     "execution_count": 121,
     "metadata": {},
     "output_type": "execute_result"
    }
   ],
   "source": [
    "# Move the Job Level position column to the 5th position\n",
    "cols = list(df.columns)\n",
    "cols.insert(5, cols.pop(cols.index('Job Level')))\n",
    "df = df[cols]\n",
    "df.head()"
   ]
  },
  {
   "cell_type": "code",
   "execution_count": 122,
   "metadata": {},
   "outputs": [
    {
     "data": {
      "application/vnd.microsoft.datawrangler.viewer.v0+json": {
       "columns": [
        {
         "name": "index",
         "rawType": "int64",
         "type": "integer"
        },
        {
         "name": "Job Link",
         "rawType": "object",
         "type": "string"
        },
        {
         "name": "Last Processed Time",
         "rawType": "object",
         "type": "string"
        },
        {
         "name": "Job Title",
         "rawType": "object",
         "type": "string"
        },
        {
         "name": "Company",
         "rawType": "object",
         "type": "string"
        },
        {
         "name": "Search Position",
         "rawType": "object",
         "type": "string"
        },
        {
         "name": "Job Level",
         "rawType": "object",
         "type": "string"
        },
        {
         "name": "Search City",
         "rawType": "object",
         "type": "string"
        },
        {
         "name": "City",
         "rawType": "object",
         "type": "string"
        },
        {
         "name": "Search Country",
         "rawType": "object",
         "type": "string"
        },
        {
         "name": "State",
         "rawType": "object",
         "type": "string"
        }
       ],
       "conversionMethod": "pd.DataFrame",
       "ref": "c35bb599-f798-4a6b-a913-93ab4c70e29f",
       "rows": [
        [
         "0",
         "https://www.linkedin.com/jobs/view/senior-machine-learning-engineer-at-jobs-for-humanity-3804053819",
         "2024-01-21 08:08:48.031964+00",
         "Senior Machine Learning Engineer",
         "Jobs for Humanity",
         "Agricultural-Research Engineer",
         "Mid senior",
         "East Haven",
         "New Haven",
         "United States",
         "CT"
        ],
        [
         "1",
         "https://www.linkedin.com/jobs/view/principal-software-engineer-ml-accelerators-at-aurora-3703455068",
         "2024-01-20 04:02:12.331406+00",
         "Principal Software Engineer, ML Accelerators",
         "Aurora",
         "Set-Key Driver",
         "Mid senior",
         "El Cerrito",
         "San Francisco",
         "United States",
         "CA"
        ],
        [
         "2",
         "https://www.linkedin.com/jobs/view/senior-etl-data-warehouse-specialist-at-adame-services-llc-3765023888",
         "2024-01-21 08:08:31.941595+00",
         "Senior ETL Data Warehouse Specialist",
         "Adame Services LLC",
         "Technical Support Specialist",
         "Associate",
         "Middletown",
         "New York",
         "United States",
         "NY"
        ],
        [
         "3",
         "https://www.linkedin.com/jobs/view/senior-data-warehouse-developer-architect-at-morph-enterprise-3794602483",
         "2024-01-20 15:30:55.796572+00",
         "Senior Data Warehouse Developer / Architect",
         "Morph Enterprise",
         "Architect",
         "Mid senior",
         "Lebanon",
         "Harrisburg",
         "United States",
         "PA"
        ],
        [
         "4",
         "https://www.linkedin.com/jobs/view/lead-data-engineer-at-dice-3805948138",
         "2024-01-21 08:08:58.312124+00",
         "Lead Data Engineer",
         "Dice",
         "Maintenance Data Analyst",
         "Mid senior",
         "McKinney",
         "Plano",
         "United States",
         "TX"
        ]
       ],
       "shape": {
        "columns": 10,
        "rows": 5
       }
      },
      "text/html": [
       "<div>\n",
       "<style scoped>\n",
       "    .dataframe tbody tr th:only-of-type {\n",
       "        vertical-align: middle;\n",
       "    }\n",
       "\n",
       "    .dataframe tbody tr th {\n",
       "        vertical-align: top;\n",
       "    }\n",
       "\n",
       "    .dataframe thead th {\n",
       "        text-align: right;\n",
       "    }\n",
       "</style>\n",
       "<table border=\"1\" class=\"dataframe\">\n",
       "  <thead>\n",
       "    <tr style=\"text-align: right;\">\n",
       "      <th></th>\n",
       "      <th>Job Link</th>\n",
       "      <th>Last Processed Time</th>\n",
       "      <th>Job Title</th>\n",
       "      <th>Company</th>\n",
       "      <th>Search Position</th>\n",
       "      <th>Job Level</th>\n",
       "      <th>Search City</th>\n",
       "      <th>City</th>\n",
       "      <th>Search Country</th>\n",
       "      <th>State</th>\n",
       "    </tr>\n",
       "  </thead>\n",
       "  <tbody>\n",
       "    <tr>\n",
       "      <th>0</th>\n",
       "      <td>https://www.linkedin.com/jobs/view/senior-mach...</td>\n",
       "      <td>2024-01-21 08:08:48.031964+00</td>\n",
       "      <td>Senior Machine Learning Engineer</td>\n",
       "      <td>Jobs for Humanity</td>\n",
       "      <td>Agricultural-Research Engineer</td>\n",
       "      <td>Mid senior</td>\n",
       "      <td>East Haven</td>\n",
       "      <td>New Haven</td>\n",
       "      <td>United States</td>\n",
       "      <td>CT</td>\n",
       "    </tr>\n",
       "    <tr>\n",
       "      <th>1</th>\n",
       "      <td>https://www.linkedin.com/jobs/view/principal-s...</td>\n",
       "      <td>2024-01-20 04:02:12.331406+00</td>\n",
       "      <td>Principal Software Engineer, ML Accelerators</td>\n",
       "      <td>Aurora</td>\n",
       "      <td>Set-Key Driver</td>\n",
       "      <td>Mid senior</td>\n",
       "      <td>El Cerrito</td>\n",
       "      <td>San Francisco</td>\n",
       "      <td>United States</td>\n",
       "      <td>CA</td>\n",
       "    </tr>\n",
       "    <tr>\n",
       "      <th>2</th>\n",
       "      <td>https://www.linkedin.com/jobs/view/senior-etl-...</td>\n",
       "      <td>2024-01-21 08:08:31.941595+00</td>\n",
       "      <td>Senior ETL Data Warehouse Specialist</td>\n",
       "      <td>Adame Services LLC</td>\n",
       "      <td>Technical Support Specialist</td>\n",
       "      <td>Associate</td>\n",
       "      <td>Middletown</td>\n",
       "      <td>New York</td>\n",
       "      <td>United States</td>\n",
       "      <td>NY</td>\n",
       "    </tr>\n",
       "    <tr>\n",
       "      <th>3</th>\n",
       "      <td>https://www.linkedin.com/jobs/view/senior-data...</td>\n",
       "      <td>2024-01-20 15:30:55.796572+00</td>\n",
       "      <td>Senior Data Warehouse Developer / Architect</td>\n",
       "      <td>Morph Enterprise</td>\n",
       "      <td>Architect</td>\n",
       "      <td>Mid senior</td>\n",
       "      <td>Lebanon</td>\n",
       "      <td>Harrisburg</td>\n",
       "      <td>United States</td>\n",
       "      <td>PA</td>\n",
       "    </tr>\n",
       "    <tr>\n",
       "      <th>4</th>\n",
       "      <td>https://www.linkedin.com/jobs/view/lead-data-e...</td>\n",
       "      <td>2024-01-21 08:08:58.312124+00</td>\n",
       "      <td>Lead Data Engineer</td>\n",
       "      <td>Dice</td>\n",
       "      <td>Maintenance Data Analyst</td>\n",
       "      <td>Mid senior</td>\n",
       "      <td>McKinney</td>\n",
       "      <td>Plano</td>\n",
       "      <td>United States</td>\n",
       "      <td>TX</td>\n",
       "    </tr>\n",
       "  </tbody>\n",
       "</table>\n",
       "</div>"
      ],
      "text/plain": [
       "                                            Job Link  \\\n",
       "0  https://www.linkedin.com/jobs/view/senior-mach...   \n",
       "1  https://www.linkedin.com/jobs/view/principal-s...   \n",
       "2  https://www.linkedin.com/jobs/view/senior-etl-...   \n",
       "3  https://www.linkedin.com/jobs/view/senior-data...   \n",
       "4  https://www.linkedin.com/jobs/view/lead-data-e...   \n",
       "\n",
       "             Last Processed Time  \\\n",
       "0  2024-01-21 08:08:48.031964+00   \n",
       "1  2024-01-20 04:02:12.331406+00   \n",
       "2  2024-01-21 08:08:31.941595+00   \n",
       "3  2024-01-20 15:30:55.796572+00   \n",
       "4  2024-01-21 08:08:58.312124+00   \n",
       "\n",
       "                                      Job Title             Company  \\\n",
       "0              Senior Machine Learning Engineer   Jobs for Humanity   \n",
       "1  Principal Software Engineer, ML Accelerators              Aurora   \n",
       "2          Senior ETL Data Warehouse Specialist  Adame Services LLC   \n",
       "3   Senior Data Warehouse Developer / Architect    Morph Enterprise   \n",
       "4                            Lead Data Engineer                Dice   \n",
       "\n",
       "                  Search Position   Job Level Search City           City  \\\n",
       "0  Agricultural-Research Engineer  Mid senior  East Haven      New Haven   \n",
       "1                  Set-Key Driver  Mid senior  El Cerrito  San Francisco   \n",
       "2    Technical Support Specialist   Associate  Middletown       New York   \n",
       "3                       Architect  Mid senior     Lebanon     Harrisburg   \n",
       "4        Maintenance Data Analyst  Mid senior    McKinney          Plano   \n",
       "\n",
       "  Search Country State  \n",
       "0  United States    CT  \n",
       "1  United States    CA  \n",
       "2  United States    NY  \n",
       "3  United States    PA  \n",
       "4  United States    TX  "
      ]
     },
     "execution_count": 122,
     "metadata": {},
     "output_type": "execute_result"
    }
   ],
   "source": [
    "# Move the City position column to the 7th position\n",
    "cols = list(df.columns)\n",
    "cols.insert(7, cols.pop(cols.index('City')))\n",
    "df = df[cols]\n",
    "df.head()"
   ]
  },
  {
   "cell_type": "code",
   "execution_count": 123,
   "metadata": {},
   "outputs": [
    {
     "data": {
      "application/vnd.microsoft.datawrangler.viewer.v0+json": {
       "columns": [
        {
         "name": "index",
         "rawType": "int64",
         "type": "integer"
        },
        {
         "name": "Job Link",
         "rawType": "object",
         "type": "string"
        },
        {
         "name": "Last Processed Time",
         "rawType": "object",
         "type": "string"
        },
        {
         "name": "Job Title",
         "rawType": "object",
         "type": "string"
        },
        {
         "name": "Company",
         "rawType": "object",
         "type": "string"
        },
        {
         "name": "Search Position",
         "rawType": "object",
         "type": "string"
        },
        {
         "name": "Job Level",
         "rawType": "object",
         "type": "string"
        },
        {
         "name": "Search City",
         "rawType": "object",
         "type": "string"
        },
        {
         "name": "City",
         "rawType": "object",
         "type": "string"
        },
        {
         "name": "Search Country",
         "rawType": "object",
         "type": "string"
        },
        {
         "name": "State",
         "rawType": "object",
         "type": "string"
        }
       ],
       "conversionMethod": "pd.DataFrame",
       "ref": "58be0ef4-3586-4e64-b8c4-cdc526a0fe1f",
       "rows": [
        [
         "0",
         "https://www.linkedin.com/jobs/view/senior-machine-learning-engineer-at-jobs-for-humanity-3804053819",
         "2024-01-21 08:08:48.031964+00",
         "Senior Machine Learning Engineer",
         "Jobs for Humanity",
         "Agricultural-Research Engineer",
         "Mid senior",
         "East Haven",
         "New Haven",
         "United States",
         "CT"
        ],
        [
         "1",
         "https://www.linkedin.com/jobs/view/principal-software-engineer-ml-accelerators-at-aurora-3703455068",
         "2024-01-20 04:02:12.331406+00",
         "Principal Software Engineer, ML Accelerators",
         "Aurora",
         "Set-Key Driver",
         "Mid senior",
         "El Cerrito",
         "San Francisco",
         "United States",
         "CA"
        ],
        [
         "2",
         "https://www.linkedin.com/jobs/view/senior-etl-data-warehouse-specialist-at-adame-services-llc-3765023888",
         "2024-01-21 08:08:31.941595+00",
         "Senior ETL Data Warehouse Specialist",
         "Adame Services LLC",
         "Technical Support Specialist",
         "Associate",
         "Middletown",
         "New York",
         "United States",
         "NY"
        ],
        [
         "3",
         "https://www.linkedin.com/jobs/view/senior-data-warehouse-developer-architect-at-morph-enterprise-3794602483",
         "2024-01-20 15:30:55.796572+00",
         "Senior Data Warehouse Developer / Architect",
         "Morph Enterprise",
         "Architect",
         "Mid senior",
         "Lebanon",
         "Harrisburg",
         "United States",
         "PA"
        ],
        [
         "4",
         "https://www.linkedin.com/jobs/view/lead-data-engineer-at-dice-3805948138",
         "2024-01-21 08:08:58.312124+00",
         "Lead Data Engineer",
         "Dice",
         "Maintenance Data Analyst",
         "Mid senior",
         "McKinney",
         "Plano",
         "United States",
         "TX"
        ]
       ],
       "shape": {
        "columns": 10,
        "rows": 5
       }
      },
      "text/html": [
       "<div>\n",
       "<style scoped>\n",
       "    .dataframe tbody tr th:only-of-type {\n",
       "        vertical-align: middle;\n",
       "    }\n",
       "\n",
       "    .dataframe tbody tr th {\n",
       "        vertical-align: top;\n",
       "    }\n",
       "\n",
       "    .dataframe thead th {\n",
       "        text-align: right;\n",
       "    }\n",
       "</style>\n",
       "<table border=\"1\" class=\"dataframe\">\n",
       "  <thead>\n",
       "    <tr style=\"text-align: right;\">\n",
       "      <th></th>\n",
       "      <th>Job Link</th>\n",
       "      <th>Last Processed Time</th>\n",
       "      <th>Job Title</th>\n",
       "      <th>Company</th>\n",
       "      <th>Search Position</th>\n",
       "      <th>Job Level</th>\n",
       "      <th>Search City</th>\n",
       "      <th>City</th>\n",
       "      <th>Search Country</th>\n",
       "      <th>State</th>\n",
       "    </tr>\n",
       "  </thead>\n",
       "  <tbody>\n",
       "    <tr>\n",
       "      <th>0</th>\n",
       "      <td>https://www.linkedin.com/jobs/view/senior-mach...</td>\n",
       "      <td>2024-01-21 08:08:48.031964+00</td>\n",
       "      <td>Senior Machine Learning Engineer</td>\n",
       "      <td>Jobs for Humanity</td>\n",
       "      <td>Agricultural-Research Engineer</td>\n",
       "      <td>Mid senior</td>\n",
       "      <td>East Haven</td>\n",
       "      <td>New Haven</td>\n",
       "      <td>United States</td>\n",
       "      <td>CT</td>\n",
       "    </tr>\n",
       "    <tr>\n",
       "      <th>1</th>\n",
       "      <td>https://www.linkedin.com/jobs/view/principal-s...</td>\n",
       "      <td>2024-01-20 04:02:12.331406+00</td>\n",
       "      <td>Principal Software Engineer, ML Accelerators</td>\n",
       "      <td>Aurora</td>\n",
       "      <td>Set-Key Driver</td>\n",
       "      <td>Mid senior</td>\n",
       "      <td>El Cerrito</td>\n",
       "      <td>San Francisco</td>\n",
       "      <td>United States</td>\n",
       "      <td>CA</td>\n",
       "    </tr>\n",
       "    <tr>\n",
       "      <th>2</th>\n",
       "      <td>https://www.linkedin.com/jobs/view/senior-etl-...</td>\n",
       "      <td>2024-01-21 08:08:31.941595+00</td>\n",
       "      <td>Senior ETL Data Warehouse Specialist</td>\n",
       "      <td>Adame Services LLC</td>\n",
       "      <td>Technical Support Specialist</td>\n",
       "      <td>Associate</td>\n",
       "      <td>Middletown</td>\n",
       "      <td>New York</td>\n",
       "      <td>United States</td>\n",
       "      <td>NY</td>\n",
       "    </tr>\n",
       "    <tr>\n",
       "      <th>3</th>\n",
       "      <td>https://www.linkedin.com/jobs/view/senior-data...</td>\n",
       "      <td>2024-01-20 15:30:55.796572+00</td>\n",
       "      <td>Senior Data Warehouse Developer / Architect</td>\n",
       "      <td>Morph Enterprise</td>\n",
       "      <td>Architect</td>\n",
       "      <td>Mid senior</td>\n",
       "      <td>Lebanon</td>\n",
       "      <td>Harrisburg</td>\n",
       "      <td>United States</td>\n",
       "      <td>PA</td>\n",
       "    </tr>\n",
       "    <tr>\n",
       "      <th>4</th>\n",
       "      <td>https://www.linkedin.com/jobs/view/lead-data-e...</td>\n",
       "      <td>2024-01-21 08:08:58.312124+00</td>\n",
       "      <td>Lead Data Engineer</td>\n",
       "      <td>Dice</td>\n",
       "      <td>Maintenance Data Analyst</td>\n",
       "      <td>Mid senior</td>\n",
       "      <td>McKinney</td>\n",
       "      <td>Plano</td>\n",
       "      <td>United States</td>\n",
       "      <td>TX</td>\n",
       "    </tr>\n",
       "  </tbody>\n",
       "</table>\n",
       "</div>"
      ],
      "text/plain": [
       "                                            Job Link  \\\n",
       "0  https://www.linkedin.com/jobs/view/senior-mach...   \n",
       "1  https://www.linkedin.com/jobs/view/principal-s...   \n",
       "2  https://www.linkedin.com/jobs/view/senior-etl-...   \n",
       "3  https://www.linkedin.com/jobs/view/senior-data...   \n",
       "4  https://www.linkedin.com/jobs/view/lead-data-e...   \n",
       "\n",
       "             Last Processed Time  \\\n",
       "0  2024-01-21 08:08:48.031964+00   \n",
       "1  2024-01-20 04:02:12.331406+00   \n",
       "2  2024-01-21 08:08:31.941595+00   \n",
       "3  2024-01-20 15:30:55.796572+00   \n",
       "4  2024-01-21 08:08:58.312124+00   \n",
       "\n",
       "                                      Job Title             Company  \\\n",
       "0              Senior Machine Learning Engineer   Jobs for Humanity   \n",
       "1  Principal Software Engineer, ML Accelerators              Aurora   \n",
       "2          Senior ETL Data Warehouse Specialist  Adame Services LLC   \n",
       "3   Senior Data Warehouse Developer / Architect    Morph Enterprise   \n",
       "4                            Lead Data Engineer                Dice   \n",
       "\n",
       "                  Search Position   Job Level Search City           City  \\\n",
       "0  Agricultural-Research Engineer  Mid senior  East Haven      New Haven   \n",
       "1                  Set-Key Driver  Mid senior  El Cerrito  San Francisco   \n",
       "2    Technical Support Specialist   Associate  Middletown       New York   \n",
       "3                       Architect  Mid senior     Lebanon     Harrisburg   \n",
       "4        Maintenance Data Analyst  Mid senior    McKinney          Plano   \n",
       "\n",
       "  Search Country State  \n",
       "0  United States    CT  \n",
       "1  United States    CA  \n",
       "2  United States    NY  \n",
       "3  United States    PA  \n",
       "4  United States    TX  "
      ]
     },
     "execution_count": 123,
     "metadata": {},
     "output_type": "execute_result"
    }
   ],
   "source": [
    "# Keep only the rows with Search County as United States.\n",
    "df_filtered = df[df['Search Country'] == 'United States']\n",
    "df_filtered.head()\n"
   ]
  },
  {
   "cell_type": "code",
   "execution_count": 124,
   "metadata": {},
   "outputs": [
    {
     "data": {
      "text/plain": [
       "(10290, 10)"
      ]
     },
     "execution_count": 124,
     "metadata": {},
     "output_type": "execute_result"
    }
   ],
   "source": [
    "# Display the number of rows and columns\n",
    "df_filtered.shape"
   ]
  },
  {
   "cell_type": "code",
   "execution_count": 125,
   "metadata": {},
   "outputs": [
    {
     "data": {
      "text/plain": [
       "(10017, 10)"
      ]
     },
     "execution_count": 125,
     "metadata": {},
     "output_type": "execute_result"
    }
   ],
   "source": [
    "# Eliminate missing values in the State column\n",
    "df_filtered = df_filtered.dropna(subset=['State'])\n",
    "df_filtered.shape\n",
    "\n"
   ]
  },
  {
   "cell_type": "code",
   "execution_count": 126,
   "metadata": {},
   "outputs": [
    {
     "data": {
      "application/vnd.microsoft.datawrangler.viewer.v0+json": {
       "columns": [
        {
         "name": "index",
         "rawType": "int64",
         "type": "integer"
        },
        {
         "name": "Job Link",
         "rawType": "object",
         "type": "string"
        },
        {
         "name": "Last Processed Time",
         "rawType": "object",
         "type": "string"
        },
        {
         "name": "Job Title",
         "rawType": "object",
         "type": "string"
        },
        {
         "name": "Company",
         "rawType": "object",
         "type": "string"
        },
        {
         "name": "Search Position",
         "rawType": "object",
         "type": "string"
        },
        {
         "name": "Job Level",
         "rawType": "object",
         "type": "string"
        },
        {
         "name": "Search City",
         "rawType": "object",
         "type": "string"
        },
        {
         "name": "City",
         "rawType": "object",
         "type": "string"
        },
        {
         "name": "Search Country",
         "rawType": "object",
         "type": "string"
        },
        {
         "name": "State",
         "rawType": "object",
         "type": "string"
        }
       ],
       "conversionMethod": "pd.DataFrame",
       "ref": "27add84e-a258-40aa-b10b-75d778280499",
       "rows": [
        [
         "0",
         "https://www.linkedin.com/jobs/view/senior-machine-learning-engineer-at-jobs-for-humanity-3804053819",
         "2024-01-21 08:08:48.031964+00",
         "Senior Machine Learning Engineer",
         "Jobs for Humanity",
         "Agricultural-Research Engineer",
         "Mid senior",
         "East Haven",
         "New Haven",
         "United States",
         "CT"
        ],
        [
         "1",
         "https://www.linkedin.com/jobs/view/principal-software-engineer-ml-accelerators-at-aurora-3703455068",
         "2024-01-20 04:02:12.331406+00",
         "Principal Software Engineer, ML Accelerators",
         "Aurora",
         "Set-Key Driver",
         "Mid senior",
         "El Cerrito",
         "San Francisco",
         "United States",
         "CA"
        ],
        [
         "2",
         "https://www.linkedin.com/jobs/view/senior-etl-data-warehouse-specialist-at-adame-services-llc-3765023888",
         "2024-01-21 08:08:31.941595+00",
         "Senior ETL Data Warehouse Specialist",
         "Adame Services LLC",
         "Technical Support Specialist",
         "Associate",
         "Middletown",
         "New York",
         "United States",
         "NY"
        ],
        [
         "3",
         "https://www.linkedin.com/jobs/view/senior-data-warehouse-developer-architect-at-morph-enterprise-3794602483",
         "2024-01-20 15:30:55.796572+00",
         "Senior Data Warehouse Developer / Architect",
         "Morph Enterprise",
         "Architect",
         "Mid senior",
         "Lebanon",
         "Harrisburg",
         "United States",
         "PA"
        ],
        [
         "4",
         "https://www.linkedin.com/jobs/view/lead-data-engineer-at-dice-3805948138",
         "2024-01-21 08:08:58.312124+00",
         "Lead Data Engineer",
         "Dice",
         "Maintenance Data Analyst",
         "Mid senior",
         "McKinney",
         "Plano",
         "United States",
         "TX"
        ]
       ],
       "shape": {
        "columns": 10,
        "rows": 5
       }
      },
      "text/html": [
       "<div>\n",
       "<style scoped>\n",
       "    .dataframe tbody tr th:only-of-type {\n",
       "        vertical-align: middle;\n",
       "    }\n",
       "\n",
       "    .dataframe tbody tr th {\n",
       "        vertical-align: top;\n",
       "    }\n",
       "\n",
       "    .dataframe thead th {\n",
       "        text-align: right;\n",
       "    }\n",
       "</style>\n",
       "<table border=\"1\" class=\"dataframe\">\n",
       "  <thead>\n",
       "    <tr style=\"text-align: right;\">\n",
       "      <th></th>\n",
       "      <th>Job Link</th>\n",
       "      <th>Last Processed Time</th>\n",
       "      <th>Job Title</th>\n",
       "      <th>Company</th>\n",
       "      <th>Search Position</th>\n",
       "      <th>Job Level</th>\n",
       "      <th>Search City</th>\n",
       "      <th>City</th>\n",
       "      <th>Search Country</th>\n",
       "      <th>State</th>\n",
       "    </tr>\n",
       "  </thead>\n",
       "  <tbody>\n",
       "    <tr>\n",
       "      <th>0</th>\n",
       "      <td>https://www.linkedin.com/jobs/view/senior-mach...</td>\n",
       "      <td>2024-01-21 08:08:48.031964+00</td>\n",
       "      <td>Senior Machine Learning Engineer</td>\n",
       "      <td>Jobs for Humanity</td>\n",
       "      <td>Agricultural-Research Engineer</td>\n",
       "      <td>Mid senior</td>\n",
       "      <td>East Haven</td>\n",
       "      <td>New Haven</td>\n",
       "      <td>United States</td>\n",
       "      <td>CT</td>\n",
       "    </tr>\n",
       "    <tr>\n",
       "      <th>1</th>\n",
       "      <td>https://www.linkedin.com/jobs/view/principal-s...</td>\n",
       "      <td>2024-01-20 04:02:12.331406+00</td>\n",
       "      <td>Principal Software Engineer, ML Accelerators</td>\n",
       "      <td>Aurora</td>\n",
       "      <td>Set-Key Driver</td>\n",
       "      <td>Mid senior</td>\n",
       "      <td>El Cerrito</td>\n",
       "      <td>San Francisco</td>\n",
       "      <td>United States</td>\n",
       "      <td>CA</td>\n",
       "    </tr>\n",
       "    <tr>\n",
       "      <th>2</th>\n",
       "      <td>https://www.linkedin.com/jobs/view/senior-etl-...</td>\n",
       "      <td>2024-01-21 08:08:31.941595+00</td>\n",
       "      <td>Senior ETL Data Warehouse Specialist</td>\n",
       "      <td>Adame Services LLC</td>\n",
       "      <td>Technical Support Specialist</td>\n",
       "      <td>Associate</td>\n",
       "      <td>Middletown</td>\n",
       "      <td>New York</td>\n",
       "      <td>United States</td>\n",
       "      <td>NY</td>\n",
       "    </tr>\n",
       "    <tr>\n",
       "      <th>3</th>\n",
       "      <td>https://www.linkedin.com/jobs/view/senior-data...</td>\n",
       "      <td>2024-01-20 15:30:55.796572+00</td>\n",
       "      <td>Senior Data Warehouse Developer / Architect</td>\n",
       "      <td>Morph Enterprise</td>\n",
       "      <td>Architect</td>\n",
       "      <td>Mid senior</td>\n",
       "      <td>Lebanon</td>\n",
       "      <td>Harrisburg</td>\n",
       "      <td>United States</td>\n",
       "      <td>PA</td>\n",
       "    </tr>\n",
       "    <tr>\n",
       "      <th>4</th>\n",
       "      <td>https://www.linkedin.com/jobs/view/lead-data-e...</td>\n",
       "      <td>2024-01-21 08:08:58.312124+00</td>\n",
       "      <td>Lead Data Engineer</td>\n",
       "      <td>Dice</td>\n",
       "      <td>Maintenance Data Analyst</td>\n",
       "      <td>Mid senior</td>\n",
       "      <td>McKinney</td>\n",
       "      <td>Plano</td>\n",
       "      <td>United States</td>\n",
       "      <td>TX</td>\n",
       "    </tr>\n",
       "  </tbody>\n",
       "</table>\n",
       "</div>"
      ],
      "text/plain": [
       "                                            Job Link  \\\n",
       "0  https://www.linkedin.com/jobs/view/senior-mach...   \n",
       "1  https://www.linkedin.com/jobs/view/principal-s...   \n",
       "2  https://www.linkedin.com/jobs/view/senior-etl-...   \n",
       "3  https://www.linkedin.com/jobs/view/senior-data...   \n",
       "4  https://www.linkedin.com/jobs/view/lead-data-e...   \n",
       "\n",
       "             Last Processed Time  \\\n",
       "0  2024-01-21 08:08:48.031964+00   \n",
       "1  2024-01-20 04:02:12.331406+00   \n",
       "2  2024-01-21 08:08:31.941595+00   \n",
       "3  2024-01-20 15:30:55.796572+00   \n",
       "4  2024-01-21 08:08:58.312124+00   \n",
       "\n",
       "                                      Job Title             Company  \\\n",
       "0              Senior Machine Learning Engineer   Jobs for Humanity   \n",
       "1  Principal Software Engineer, ML Accelerators              Aurora   \n",
       "2          Senior ETL Data Warehouse Specialist  Adame Services LLC   \n",
       "3   Senior Data Warehouse Developer / Architect    Morph Enterprise   \n",
       "4                            Lead Data Engineer                Dice   \n",
       "\n",
       "                  Search Position   Job Level Search City           City  \\\n",
       "0  Agricultural-Research Engineer  Mid senior  East Haven      New Haven   \n",
       "1                  Set-Key Driver  Mid senior  El Cerrito  San Francisco   \n",
       "2    Technical Support Specialist   Associate  Middletown       New York   \n",
       "3                       Architect  Mid senior     Lebanon     Harrisburg   \n",
       "4        Maintenance Data Analyst  Mid senior    McKinney          Plano   \n",
       "\n",
       "  Search Country State  \n",
       "0  United States    CT  \n",
       "1  United States    CA  \n",
       "2  United States    NY  \n",
       "3  United States    PA  \n",
       "4  United States    TX  "
      ]
     },
     "execution_count": 126,
     "metadata": {},
     "output_type": "execute_result"
    }
   ],
   "source": [
    "# Display the first 5 rows of the dataframe\n",
    "df_filtered.head()"
   ]
  },
  {
   "cell_type": "code",
   "execution_count": 127,
   "metadata": {},
   "outputs": [
    {
     "data": {
      "application/vnd.microsoft.datawrangler.viewer.v0+json": {
       "columns": [
        {
         "name": "index",
         "rawType": "int64",
         "type": "integer"
        },
        {
         "name": "Job Link",
         "rawType": "object",
         "type": "string"
        },
        {
         "name": "Last Processed Time",
         "rawType": "object",
         "type": "string"
        },
        {
         "name": "Job Title",
         "rawType": "object",
         "type": "string"
        },
        {
         "name": "Company",
         "rawType": "object",
         "type": "string"
        },
        {
         "name": "Search Position",
         "rawType": "object",
         "type": "string"
        },
        {
         "name": "Job Level",
         "rawType": "object",
         "type": "string"
        },
        {
         "name": "Search City",
         "rawType": "object",
         "type": "string"
        },
        {
         "name": "City",
         "rawType": "object",
         "type": "string"
        },
        {
         "name": "Search Country",
         "rawType": "object",
         "type": "string"
        },
        {
         "name": "State",
         "rawType": "object",
         "type": "string"
        }
       ],
       "conversionMethod": "pd.DataFrame",
       "ref": "cf5e782f-0d00-4e07-8a2e-9d3de6f799a5",
       "rows": [
        [
         "0",
         "https://www.linkedin.com/jobs/view/senior-machine-learning-engineer-at-jobs-for-humanity-3804053819",
         "2024-01-21 08:08:48.031964+00",
         "Senior Machine Learning Engineer",
         "Jobs for Humanity",
         "Agricultural-Research Engineer",
         "Mid senior",
         "East Haven",
         "New Haven",
         "United States",
         "CT"
        ],
        [
         "1",
         "https://www.linkedin.com/jobs/view/principal-software-engineer-ml-accelerators-at-aurora-3703455068",
         "2024-01-20 04:02:12.331406+00",
         "Principal Software Engineer, ML Accelerators",
         "Aurora",
         "Set-Key Driver",
         "Mid senior",
         "El Cerrito",
         "San Francisco",
         "United States",
         "CA"
        ],
        [
         "2",
         "https://www.linkedin.com/jobs/view/senior-etl-data-warehouse-specialist-at-adame-services-llc-3765023888",
         "2024-01-21 08:08:31.941595+00",
         "Senior ETL Data Warehouse Specialist",
         "Adame Services LLC",
         "Technical Support Specialist",
         "Associate",
         "Middletown",
         "New York",
         "United States",
         "NY"
        ],
        [
         "3",
         "https://www.linkedin.com/jobs/view/senior-data-warehouse-developer-architect-at-morph-enterprise-3794602483",
         "2024-01-20 15:30:55.796572+00",
         "Senior Data Warehouse Developer / Architect",
         "Morph Enterprise",
         "Architect",
         "Mid senior",
         "Lebanon",
         "Harrisburg",
         "United States",
         "PA"
        ],
        [
         "4",
         "https://www.linkedin.com/jobs/view/lead-data-engineer-at-dice-3805948138",
         "2024-01-21 08:08:58.312124+00",
         "Lead Data Engineer",
         "Dice",
         "Maintenance Data Analyst",
         "Mid senior",
         "McKinney",
         "Plano",
         "United States",
         "TX"
        ]
       ],
       "shape": {
        "columns": 10,
        "rows": 5
       }
      },
      "text/html": [
       "<div>\n",
       "<style scoped>\n",
       "    .dataframe tbody tr th:only-of-type {\n",
       "        vertical-align: middle;\n",
       "    }\n",
       "\n",
       "    .dataframe tbody tr th {\n",
       "        vertical-align: top;\n",
       "    }\n",
       "\n",
       "    .dataframe thead th {\n",
       "        text-align: right;\n",
       "    }\n",
       "</style>\n",
       "<table border=\"1\" class=\"dataframe\">\n",
       "  <thead>\n",
       "    <tr style=\"text-align: right;\">\n",
       "      <th></th>\n",
       "      <th>Job Link</th>\n",
       "      <th>Last Processed Time</th>\n",
       "      <th>Job Title</th>\n",
       "      <th>Company</th>\n",
       "      <th>Search Position</th>\n",
       "      <th>Job Level</th>\n",
       "      <th>Search City</th>\n",
       "      <th>City</th>\n",
       "      <th>Search Country</th>\n",
       "      <th>State</th>\n",
       "    </tr>\n",
       "  </thead>\n",
       "  <tbody>\n",
       "    <tr>\n",
       "      <th>0</th>\n",
       "      <td>https://www.linkedin.com/jobs/view/senior-mach...</td>\n",
       "      <td>2024-01-21 08:08:48.031964+00</td>\n",
       "      <td>Senior Machine Learning Engineer</td>\n",
       "      <td>Jobs for Humanity</td>\n",
       "      <td>Agricultural-Research Engineer</td>\n",
       "      <td>Mid senior</td>\n",
       "      <td>East Haven</td>\n",
       "      <td>New Haven</td>\n",
       "      <td>United States</td>\n",
       "      <td>CT</td>\n",
       "    </tr>\n",
       "    <tr>\n",
       "      <th>1</th>\n",
       "      <td>https://www.linkedin.com/jobs/view/principal-s...</td>\n",
       "      <td>2024-01-20 04:02:12.331406+00</td>\n",
       "      <td>Principal Software Engineer, ML Accelerators</td>\n",
       "      <td>Aurora</td>\n",
       "      <td>Set-Key Driver</td>\n",
       "      <td>Mid senior</td>\n",
       "      <td>El Cerrito</td>\n",
       "      <td>San Francisco</td>\n",
       "      <td>United States</td>\n",
       "      <td>CA</td>\n",
       "    </tr>\n",
       "    <tr>\n",
       "      <th>2</th>\n",
       "      <td>https://www.linkedin.com/jobs/view/senior-etl-...</td>\n",
       "      <td>2024-01-21 08:08:31.941595+00</td>\n",
       "      <td>Senior ETL Data Warehouse Specialist</td>\n",
       "      <td>Adame Services LLC</td>\n",
       "      <td>Technical Support Specialist</td>\n",
       "      <td>Associate</td>\n",
       "      <td>Middletown</td>\n",
       "      <td>New York</td>\n",
       "      <td>United States</td>\n",
       "      <td>NY</td>\n",
       "    </tr>\n",
       "    <tr>\n",
       "      <th>3</th>\n",
       "      <td>https://www.linkedin.com/jobs/view/senior-data...</td>\n",
       "      <td>2024-01-20 15:30:55.796572+00</td>\n",
       "      <td>Senior Data Warehouse Developer / Architect</td>\n",
       "      <td>Morph Enterprise</td>\n",
       "      <td>Architect</td>\n",
       "      <td>Mid senior</td>\n",
       "      <td>Lebanon</td>\n",
       "      <td>Harrisburg</td>\n",
       "      <td>United States</td>\n",
       "      <td>PA</td>\n",
       "    </tr>\n",
       "    <tr>\n",
       "      <th>4</th>\n",
       "      <td>https://www.linkedin.com/jobs/view/lead-data-e...</td>\n",
       "      <td>2024-01-21 08:08:58.312124+00</td>\n",
       "      <td>Lead Data Engineer</td>\n",
       "      <td>Dice</td>\n",
       "      <td>Maintenance Data Analyst</td>\n",
       "      <td>Mid senior</td>\n",
       "      <td>McKinney</td>\n",
       "      <td>Plano</td>\n",
       "      <td>United States</td>\n",
       "      <td>TX</td>\n",
       "    </tr>\n",
       "  </tbody>\n",
       "</table>\n",
       "</div>"
      ],
      "text/plain": [
       "                                            Job Link  \\\n",
       "0  https://www.linkedin.com/jobs/view/senior-mach...   \n",
       "1  https://www.linkedin.com/jobs/view/principal-s...   \n",
       "2  https://www.linkedin.com/jobs/view/senior-etl-...   \n",
       "3  https://www.linkedin.com/jobs/view/senior-data...   \n",
       "4  https://www.linkedin.com/jobs/view/lead-data-e...   \n",
       "\n",
       "             Last Processed Time  \\\n",
       "0  2024-01-21 08:08:48.031964+00   \n",
       "1  2024-01-20 04:02:12.331406+00   \n",
       "2  2024-01-21 08:08:31.941595+00   \n",
       "3  2024-01-20 15:30:55.796572+00   \n",
       "4  2024-01-21 08:08:58.312124+00   \n",
       "\n",
       "                                      Job Title             Company  \\\n",
       "0              Senior Machine Learning Engineer   Jobs for Humanity   \n",
       "1  Principal Software Engineer, ML Accelerators              Aurora   \n",
       "2          Senior ETL Data Warehouse Specialist  Adame Services LLC   \n",
       "3   Senior Data Warehouse Developer / Architect    Morph Enterprise   \n",
       "4                            Lead Data Engineer                Dice   \n",
       "\n",
       "                  Search Position   Job Level Search City           City  \\\n",
       "0  Agricultural-Research Engineer  Mid senior  East Haven      New Haven   \n",
       "1                  Set-Key Driver  Mid senior  El Cerrito  San Francisco   \n",
       "2    Technical Support Specialist   Associate  Middletown       New York   \n",
       "3                       Architect  Mid senior     Lebanon     Harrisburg   \n",
       "4        Maintenance Data Analyst  Mid senior    McKinney          Plano   \n",
       "\n",
       "  Search Country State  \n",
       "0  United States    CT  \n",
       "1  United States    CA  \n",
       "2  United States    NY  \n",
       "3  United States    PA  \n",
       "4  United States    TX  "
      ]
     },
     "execution_count": 127,
     "metadata": {},
     "output_type": "execute_result"
    }
   ],
   "source": [
    "# Keep only the rows with State column having two characters\n",
    "df_filtered = df[df['State'].str.match(r'^[A-Z]{2}$', na=False)]\n",
    "df_filtered.head()"
   ]
  },
  {
   "cell_type": "code",
   "execution_count": 128,
   "metadata": {},
   "outputs": [
    {
     "data": {
      "text/plain": [
       "(9641, 10)"
      ]
     },
     "execution_count": 128,
     "metadata": {},
     "output_type": "execute_result"
    }
   ],
   "source": [
    "# Display the number of rows and columns\n",
    "df_filtered.shape"
   ]
  }
 ],
 "metadata": {
  "kernelspec": {
   "display_name": "dev",
   "language": "python",
   "name": "python3"
  },
  "language_info": {
   "codemirror_mode": {
    "name": "ipython",
    "version": 3
   },
   "file_extension": ".py",
   "mimetype": "text/x-python",
   "name": "python",
   "nbconvert_exporter": "python",
   "pygments_lexer": "ipython3",
   "version": "3.10.15"
  }
 },
 "nbformat": 4,
 "nbformat_minor": 2
}
